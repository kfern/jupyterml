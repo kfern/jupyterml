{
 "cells": [
  {
   "cell_type": "markdown",
   "metadata": {},
   "source": [
    "http://www.meteohuelva.es/datos_davis.html"
   ]
  },
  {
   "cell_type": "code",
   "execution_count": 1,
   "metadata": {},
   "outputs": [],
   "source": [
    "import pandas as pd"
   ]
  },
  {
   "cell_type": "code",
   "execution_count": 2,
   "metadata": {},
   "outputs": [],
   "source": [
    "url = 'http://www.meteohuelva.es/datos_davis.html'\n",
    "tables = pd.read_html(url, header=0, thousands='.')"
   ]
  },
  {
   "cell_type": "code",
   "execution_count": 3,
   "metadata": {},
   "outputs": [],
   "source": [
    "dfTmp = tables[3]"
   ]
  },
  {
   "cell_type": "code",
   "execution_count": 4,
   "metadata": {},
   "outputs": [
    {
     "data": {
      "text/html": [
       "<div>\n",
       "<style scoped>\n",
       "    .dataframe tbody tr th:only-of-type {\n",
       "        vertical-align: middle;\n",
       "    }\n",
       "\n",
       "    .dataframe tbody tr th {\n",
       "        vertical-align: top;\n",
       "    }\n",
       "\n",
       "    .dataframe thead th {\n",
       "        text-align: right;\n",
       "    }\n",
       "</style>\n",
       "<table border=\"1\" class=\"dataframe\">\n",
       "  <thead>\n",
       "    <tr style=\"text-align: right;\">\n",
       "      <th></th>\n",
       "      <th>Situación meteorológica actual - actualizado el día  30/03/20  a las 21:14</th>\n",
       "      <th>Situación meteorológica actual - actualizado el día  30/03/20  a las 21:14.1</th>\n",
       "      <th>Situación meteorológica actual - actualizado el día  30/03/20  a las 21:14.2</th>\n",
       "      <th>Máximas y mínimas de hoy</th>\n",
       "      <th>Unnamed: 4</th>\n",
       "      <th>hora</th>\n",
       "    </tr>\n",
       "  </thead>\n",
       "  <tbody>\n",
       "    <tr>\n",
       "      <th>0</th>\n",
       "      <td>Temperatura</td>\n",
       "      <td>12.8  °C</td>\n",
       "      <td>NaN</td>\n",
       "      <td>Temperatura máxima</td>\n",
       "      <td>17.1  °C</td>\n",
       "      <td>13:24</td>\n",
       "    </tr>\n",
       "    <tr>\n",
       "      <th>1</th>\n",
       "      <td>Humedad</td>\n",
       "      <td>93  %</td>\n",
       "      <td>NaN</td>\n",
       "      <td>Temperatura mínima</td>\n",
       "      <td>10.1  °C</td>\n",
       "      <td>6:44</td>\n",
       "    </tr>\n",
       "  </tbody>\n",
       "</table>\n",
       "</div>"
      ],
      "text/plain": [
       "  Situación meteorológica actual - actualizado el día  30/03/20  a las 21:14  \\\n",
       "0                                        Temperatura                           \n",
       "1                                            Humedad                           \n",
       "\n",
       "  Situación meteorológica actual - actualizado el día  30/03/20  a las 21:14.1  \\\n",
       "0                                           12.8  °C                             \n",
       "1                                              93  %                             \n",
       "\n",
       "  Situación meteorológica actual - actualizado el día  30/03/20  a las 21:14.2  \\\n",
       "0                                                NaN                             \n",
       "1                                                NaN                             \n",
       "\n",
       "  Máximas y mínimas de hoy Unnamed: 4   hora  \n",
       "0       Temperatura máxima   17.1  °C  13:24  \n",
       "1       Temperatura mínima   10.1  °C   6:44  "
      ]
     },
     "execution_count": 4,
     "metadata": {},
     "output_type": "execute_result"
    }
   ],
   "source": [
    "dfTmp.head(2)"
   ]
  },
  {
   "cell_type": "code",
   "execution_count": 5,
   "metadata": {},
   "outputs": [],
   "source": [
    "titulo = dfTmp.columns[0]"
   ]
  },
  {
   "cell_type": "code",
   "execution_count": 6,
   "metadata": {},
   "outputs": [],
   "source": [
    "dfTmp.rename(columns = {dfTmp.columns[0]: 'ahora_label',  dfTmp.columns[1]: 'ahora_data', dfTmp.columns[3]: 'hoy_label', dfTmp.columns[4]: 'hoy_data', dfTmp.columns[5]: 'hoy_hora'}, inplace=True)\n",
    "dfTmp.drop(dfTmp.columns[2], axis=1, inplace=True)"
   ]
  },
  {
   "cell_type": "code",
   "execution_count": 7,
   "metadata": {},
   "outputs": [],
   "source": [
    "ahora = dfTmp[0:12][['ahora_data']].ahora_data.str.split(' ', n=1, expand=True).rename(columns = {0: 'ahora_valor', 1: 'ahora_unidad'})\n",
    "ahora['ahora_label'] = dfTmp[0:12][['ahora_label']]\n",
    "ahora['ahora_fecha'] = titulo.split('día')[1].replace(' ', '').replace('alas', ' ')"
   ]
  },
  {
   "cell_type": "code",
   "execution_count": 8,
   "metadata": {},
   "outputs": [
    {
     "data": {
      "text/html": [
       "<div>\n",
       "<style scoped>\n",
       "    .dataframe tbody tr th:only-of-type {\n",
       "        vertical-align: middle;\n",
       "    }\n",
       "\n",
       "    .dataframe tbody tr th {\n",
       "        vertical-align: top;\n",
       "    }\n",
       "\n",
       "    .dataframe thead th {\n",
       "        text-align: right;\n",
       "    }\n",
       "</style>\n",
       "<table border=\"1\" class=\"dataframe\">\n",
       "  <thead>\n",
       "    <tr style=\"text-align: right;\">\n",
       "      <th></th>\n",
       "      <th>ahora_valor</th>\n",
       "      <th>ahora_unidad</th>\n",
       "      <th>ahora_label</th>\n",
       "      <th>ahora_fecha</th>\n",
       "    </tr>\n",
       "  </thead>\n",
       "  <tbody>\n",
       "    <tr>\n",
       "      <th>0</th>\n",
       "      <td>12.8</td>\n",
       "      <td>°C</td>\n",
       "      <td>Temperatura</td>\n",
       "      <td>30/03/20 21:14</td>\n",
       "    </tr>\n",
       "    <tr>\n",
       "      <th>1</th>\n",
       "      <td>93</td>\n",
       "      <td>%</td>\n",
       "      <td>Humedad</td>\n",
       "      <td>30/03/20 21:14</td>\n",
       "    </tr>\n",
       "    <tr>\n",
       "      <th>2</th>\n",
       "      <td>11.7</td>\n",
       "      <td>°C</td>\n",
       "      <td>Punto de rocío</td>\n",
       "      <td>30/03/20 21:14</td>\n",
       "    </tr>\n",
       "    <tr>\n",
       "      <th>3</th>\n",
       "      <td>1.6</td>\n",
       "      <td>km/h</td>\n",
       "      <td>Velocidad media del viento</td>\n",
       "      <td>30/03/20 21:14</td>\n",
       "    </tr>\n",
       "    <tr>\n",
       "      <th>4</th>\n",
       "      <td>1.6</td>\n",
       "      <td>km/h</td>\n",
       "      <td>Velocidad actual del viento</td>\n",
       "      <td>30/03/20 21:14</td>\n",
       "    </tr>\n",
       "    <tr>\n",
       "      <th>5</th>\n",
       "      <td>94</td>\n",
       "      <td>º (  E  )</td>\n",
       "      <td>Dirección del viento</td>\n",
       "      <td>30/03/20 21:14</td>\n",
       "    </tr>\n",
       "    <tr>\n",
       "      <th>6</th>\n",
       "      <td>1005.9</td>\n",
       "      <td>mb</td>\n",
       "      <td>Presión</td>\n",
       "      <td>30/03/20 21:14</td>\n",
       "    </tr>\n",
       "    <tr>\n",
       "      <th>7</th>\n",
       "      <td>3.4</td>\n",
       "      <td>mm</td>\n",
       "      <td>Lluvia de hoy</td>\n",
       "      <td>30/03/20 21:14</td>\n",
       "    </tr>\n",
       "    <tr>\n",
       "      <th>8</th>\n",
       "      <td>0.0</td>\n",
       "      <td>mm/h</td>\n",
       "      <td>Intensidad de precipitación</td>\n",
       "      <td>30/03/20 21:14</td>\n",
       "    </tr>\n",
       "    <tr>\n",
       "      <th>9</th>\n",
       "      <td>12.8</td>\n",
       "      <td>°C</td>\n",
       "      <td>Sensación térmica</td>\n",
       "      <td>30/03/20 21:14</td>\n",
       "    </tr>\n",
       "    <tr>\n",
       "      <th>10</th>\n",
       "      <td>12.9</td>\n",
       "      <td>°C</td>\n",
       "      <td>Índice de calor</td>\n",
       "      <td>30/03/20 21:14</td>\n",
       "    </tr>\n",
       "    <tr>\n",
       "      <th>11</th>\n",
       "      <td>12.9</td>\n",
       "      <td>°C</td>\n",
       "      <td>Índice THW</td>\n",
       "      <td>30/03/20 21:14</td>\n",
       "    </tr>\n",
       "  </tbody>\n",
       "</table>\n",
       "</div>"
      ],
      "text/plain": [
       "   ahora_valor ahora_unidad                  ahora_label     ahora_fecha\n",
       "0         12.8           °C                  Temperatura  30/03/20 21:14\n",
       "1           93            %                      Humedad  30/03/20 21:14\n",
       "2         11.7           °C               Punto de rocío  30/03/20 21:14\n",
       "3          1.6         km/h   Velocidad media del viento  30/03/20 21:14\n",
       "4          1.6         km/h  Velocidad actual del viento  30/03/20 21:14\n",
       "5           94    º (  E  )         Dirección del viento  30/03/20 21:14\n",
       "6       1005.9           mb                      Presión  30/03/20 21:14\n",
       "7          3.4           mm                Lluvia de hoy  30/03/20 21:14\n",
       "8          0.0         mm/h  Intensidad de precipitación  30/03/20 21:14\n",
       "9         12.8           °C            Sensación térmica  30/03/20 21:14\n",
       "10        12.9           °C              Índice de calor  30/03/20 21:14\n",
       "11        12.9           °C                   Índice THW  30/03/20 21:14"
      ]
     },
     "execution_count": 8,
     "metadata": {},
     "output_type": "execute_result"
    }
   ],
   "source": [
    "ahora"
   ]
  },
  {
   "cell_type": "code",
   "execution_count": null,
   "metadata": {},
   "outputs": [],
   "source": []
  }
 ],
 "metadata": {
  "kernelspec": {
   "display_name": "Python 3",
   "language": "python",
   "name": "python3"
  },
  "language_info": {
   "codemirror_mode": {
    "name": "ipython",
    "version": 3
   },
   "file_extension": ".py",
   "mimetype": "text/x-python",
   "name": "python",
   "nbconvert_exporter": "python",
   "pygments_lexer": "ipython3",
   "version": "3.7.6"
  }
 },
 "nbformat": 4,
 "nbformat_minor": 4
}
