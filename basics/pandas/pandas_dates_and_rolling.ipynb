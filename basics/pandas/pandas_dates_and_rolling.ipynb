{
 "cells": [
  {
   "cell_type": "code",
   "execution_count": 2,
   "metadata": {},
   "outputs": [],
   "source": [
    "import pandas as pd"
   ]
  },
  {
   "cell_type": "code",
   "execution_count": 26,
   "metadata": {},
   "outputs": [
    {
     "output_type": "execute_result",
     "data": {
      "text/plain": "            valor  rolling_sum_3d\n2020-05-13      0             0.0\n2020-05-15      1             1.0\n2020-05-17      2             3.0\n2020-05-19      3             6.0\n2020-05-21      4             9.0\n2020-05-23      5            12.0\n2020-05-25      6            15.0",
      "text/html": "<div>\n<style scoped>\n    .dataframe tbody tr th:only-of-type {\n        vertical-align: middle;\n    }\n\n    .dataframe tbody tr th {\n        vertical-align: top;\n    }\n\n    .dataframe thead th {\n        text-align: right;\n    }\n</style>\n<table border=\"1\" class=\"dataframe\">\n  <thead>\n    <tr style=\"text-align: right;\">\n      <th></th>\n      <th>valor</th>\n      <th>rolling_sum_3d</th>\n    </tr>\n  </thead>\n  <tbody>\n    <tr>\n      <th>2020-05-13</th>\n      <td>0</td>\n      <td>0.0</td>\n    </tr>\n    <tr>\n      <th>2020-05-15</th>\n      <td>1</td>\n      <td>1.0</td>\n    </tr>\n    <tr>\n      <th>2020-05-17</th>\n      <td>2</td>\n      <td>3.0</td>\n    </tr>\n    <tr>\n      <th>2020-05-19</th>\n      <td>3</td>\n      <td>6.0</td>\n    </tr>\n    <tr>\n      <th>2020-05-21</th>\n      <td>4</td>\n      <td>9.0</td>\n    </tr>\n    <tr>\n      <th>2020-05-23</th>\n      <td>5</td>\n      <td>12.0</td>\n    </tr>\n    <tr>\n      <th>2020-05-25</th>\n      <td>6</td>\n      <td>15.0</td>\n    </tr>\n  </tbody>\n</table>\n</div>"
     },
     "metadata": {},
     "execution_count": 26
    }
   ],
   "source": [
    "index = pd.date_range(start='2020-05-13', freq='2D', periods=7)\n",
    "df = pd.DataFrame({'valor': range(7)}, index=index)\n",
    "df['rolling_sum_3d'] = df.rolling('5d', min_periods=1).sum()\n",
    "df"
   ]
  },
  {
   "cell_type": "code",
   "execution_count": null,
   "metadata": {},
   "outputs": [],
   "source": []
  }
 ],
 "metadata": {
  "language_info": {
   "codemirror_mode": {
    "name": "ipython",
    "version": 3
   },
   "file_extension": ".py",
   "mimetype": "text/x-python",
   "name": "python",
   "nbconvert_exporter": "python",
   "pygments_lexer": "ipython3",
   "version": "3.8.3-final"
  },
  "orig_nbformat": 2,
  "kernelspec": {
   "name": "python38332bit93be42d4079443e4936ec1533fe4e0ca",
   "display_name": "Python 3.8.3 32-bit"
  }
 },
 "nbformat": 4,
 "nbformat_minor": 2
}