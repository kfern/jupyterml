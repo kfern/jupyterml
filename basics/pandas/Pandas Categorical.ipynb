{
 "cells": [
  {
   "cell_type": "code",
   "execution_count": 1,
   "metadata": {},
   "outputs": [],
   "source": [
    "# Imports\n",
    "import pandas as pd\n",
    "import matplotlib.pyplot as plt\n",
    "%matplotlib inline"
   ]
  },
  {
   "cell_type": "code",
   "execution_count": 2,
   "metadata": {},
   "outputs": [],
   "source": [
    "# Obtener los datos en formato csv y convertirlos a pandas DataFrame\n",
    "url = 'https://raw.githubusercontent.com/kfern/jupyter/next/covid19-es-and/covid19-es-and.csv'\n",
    "df = pd.read_csv(url, thousands='.', parse_dates=['Fecha'], dayfirst=True)"
   ]
  },
  {
   "cell_type": "code",
   "execution_count": 3,
   "metadata": {},
   "outputs": [
    {
     "output_type": "execute_result",
     "data": {
      "text/plain": "     Provincia      Fecha variable  value\n2740    Huelva 2020-06-13  Curados    477\n2741      Jaén 2020-06-13  Curados   1668\n2742    Málaga 2020-06-13  Curados   3104\n2743   Sevilla 2020-06-13  Curados   2839\n2744     Total 2020-06-13  Curados  14606",
      "text/html": "<div>\n<style scoped>\n    .dataframe tbody tr th:only-of-type {\n        vertical-align: middle;\n    }\n\n    .dataframe tbody tr th {\n        vertical-align: top;\n    }\n\n    .dataframe thead th {\n        text-align: right;\n    }\n</style>\n<table border=\"1\" class=\"dataframe\">\n  <thead>\n    <tr style=\"text-align: right;\">\n      <th></th>\n      <th>Provincia</th>\n      <th>Fecha</th>\n      <th>variable</th>\n      <th>value</th>\n    </tr>\n  </thead>\n  <tbody>\n    <tr>\n      <th>2740</th>\n      <td>Huelva</td>\n      <td>2020-06-13</td>\n      <td>Curados</td>\n      <td>477</td>\n    </tr>\n    <tr>\n      <th>2741</th>\n      <td>Jaén</td>\n      <td>2020-06-13</td>\n      <td>Curados</td>\n      <td>1668</td>\n    </tr>\n    <tr>\n      <th>2742</th>\n      <td>Málaga</td>\n      <td>2020-06-13</td>\n      <td>Curados</td>\n      <td>3104</td>\n    </tr>\n    <tr>\n      <th>2743</th>\n      <td>Sevilla</td>\n      <td>2020-06-13</td>\n      <td>Curados</td>\n      <td>2839</td>\n    </tr>\n    <tr>\n      <th>2744</th>\n      <td>Total</td>\n      <td>2020-06-13</td>\n      <td>Curados</td>\n      <td>14606</td>\n    </tr>\n  </tbody>\n</table>\n</div>"
     },
     "metadata": {},
     "execution_count": 3
    }
   ],
   "source": [
    "df.tail()"
   ]
  },
  {
   "cell_type": "code",
   "execution_count": 4,
   "metadata": {},
   "outputs": [],
   "source": [
    "# Obtener la lista de elementos de la categoría\n",
    "c_provincia = pd.Categorical(df['Provincia'].unique())"
   ]
  },
  {
   "cell_type": "code",
   "execution_count": 5,
   "metadata": {},
   "outputs": [],
   "source": [
    "# Convertir la columna a tipo category\n",
    "df['Provincia'] = pd.Categorical(df['Provincia'], c_provincia)"
   ]
  },
  {
   "cell_type": "code",
   "execution_count": 6,
   "metadata": {},
   "outputs": [
    {
     "output_type": "stream",
     "name": "stdout",
     "text": "Por defecto muestra los datos combinados\n2740     Huelva\n2741       Jaén\n2742     Málaga\n2743    Sevilla\n2744      Total\nName: Provincia, dtype: category\nCategories (9, object): [Almería, Cádiz, Córdoba, Granada, ..., Jaén, Málaga, Sevilla, Total]\n"
    }
   ],
   "source": [
    "print('Por defecto muestra los datos combinados')\n",
    "print(df['Provincia'].tail())"
   ]
  },
  {
   "cell_type": "code",
   "execution_count": 7,
   "metadata": {},
   "outputs": [
    {
     "output_type": "stream",
     "name": "stdout",
     "text": "Se pueden usar sólo los códigos, sin combinar\n2740    4\n2741    5\n2742    6\n2743    7\n2744    8\ndtype: int8\n"
    }
   ],
   "source": [
    "print('Se pueden usar sólo los códigos, sin combinar')\n",
    "print(df['Provincia'].cat.codes.tail())"
   ]
  },
  {
   "cell_type": "code",
   "execution_count": 8,
   "metadata": {},
   "outputs": [
    {
     "output_type": "stream",
     "name": "stdout",
     "text": "Se asigna una categoría por defecto si la categoría no existe\n"
    },
    {
     "output_type": "execute_result",
     "data": {
      "text/plain": "0       b\n1    otra\n2       b\n3       c\n4       d\n5    otra\ndtype: category\nCategories (4, object): [otra, b, c, d]"
     },
     "metadata": {},
     "execution_count": 8
    }
   ],
   "source": [
    "print('Se asigna una categoría por defecto si la categoría no existe')\n",
    "data = ['b', 'a', 'b', 'c', 'd', 'e']\n",
    "cats = ['otra', 'b', 'c', 'd']\n",
    "s = pd.Series(pd.Categorical(data, categories=cats, ordered=False).fillna('otra'))\n",
    "s"
   ]
  },
  {
   "cell_type": "code",
   "execution_count": 9,
   "metadata": {},
   "outputs": [
    {
     "output_type": "stream",
     "name": "stdout",
     "text": "80/20\n"
    },
    {
     "output_type": "execute_result",
     "data": {
      "text/plain": "0        b\n1        a\n2        b\n3    otras\n4    otras\n5        e\ndtype: category\nCategories (4, object): [b, e, a, otras]"
     },
     "metadata": {},
     "execution_count": 9
    }
   ],
   "source": [
    "print('80/20')\n",
    "data = ['b', 'a', 'b', 'c', 'd', 'e']\n",
    "cats = pd.Series(data).value_counts(normalize=True, sort=True, ascending=False).cumsum()\n",
    "cats = cats[cats < .8]\n",
    "cats['otras'] = 1\n",
    "new_data = pd.Series(pd.Categorical(data, categories=cats.index.values, ordered=False)).fillna('otras')\n",
    "new_data"
   ]
  }
 ],
 "metadata": {
  "kernelspec": {
   "display_name": "Python 3",
   "language": "python",
   "name": "python3"
  },
  "language_info": {
   "codemirror_mode": {
    "name": "ipython",
    "version": 3
   },
   "file_extension": ".py",
   "mimetype": "text/x-python",
   "name": "python",
   "nbconvert_exporter": "python",
   "pygments_lexer": "ipython3",
   "version": "3.8.3-final"
  }
 },
 "nbformat": 4,
 "nbformat_minor": 4
}