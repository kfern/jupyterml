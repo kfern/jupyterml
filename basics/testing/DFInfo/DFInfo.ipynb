{
 "cells": [
  {
   "cell_type": "code",
   "execution_count": 1,
   "metadata": {},
   "outputs": [],
   "source": [
    "import pandas as pd\n",
    "import DFInfo"
   ]
  },
  {
   "cell_type": "code",
   "execution_count": 2,
   "metadata": {},
   "outputs": [
    {
     "output_type": "execute_result",
     "data": {
      "text/plain": "       A  B     C  target\nrow_1  2  1  None    6.28\nrow_2  3  f     h    9.42\nrow_3  4  g     h   12.56",
      "text/html": "<div>\n<style scoped>\n    .dataframe tbody tr th:only-of-type {\n        vertical-align: middle;\n    }\n\n    .dataframe tbody tr th {\n        vertical-align: top;\n    }\n\n    .dataframe thead th {\n        text-align: right;\n    }\n</style>\n<table border=\"1\" class=\"dataframe\">\n  <thead>\n    <tr style=\"text-align: right;\">\n      <th></th>\n      <th>A</th>\n      <th>B</th>\n      <th>C</th>\n      <th>target</th>\n    </tr>\n  </thead>\n  <tbody>\n    <tr>\n      <th>row_1</th>\n      <td>2</td>\n      <td>1</td>\n      <td>None</td>\n      <td>6.28</td>\n    </tr>\n    <tr>\n      <th>row_2</th>\n      <td>3</td>\n      <td>f</td>\n      <td>h</td>\n      <td>9.42</td>\n    </tr>\n    <tr>\n      <th>row_3</th>\n      <td>4</td>\n      <td>g</td>\n      <td>h</td>\n      <td>12.56</td>\n    </tr>\n  </tbody>\n</table>\n</div>"
     },
     "metadata": {},
     "execution_count": 2
    }
   ],
   "source": [
    "    fakeCols = ['A', 'B', 'C']\n",
    "    fakeData = {\n",
    "      'row_1': [2, 1], \n",
    "      'row_2': [3, 'f', 'h'],\n",
    "      'row_3': [4, 'g', 'h']\n",
    "    }\n",
    "    dfX = pd.DataFrame.from_dict(fakeData, orient='index', columns=fakeCols)\n",
    "    dfX = dfX.astype(dtype= {\"A\":\"int64\"})\n",
    "    dfX['target'] = dfX['A'] * 3.14\n",
    "\n",
    "dfX"
   ]
  },
  {
   "cell_type": "code",
   "execution_count": 3,
   "metadata": {},
   "outputs": [
    {
     "output_type": "execute_result",
     "data": {
      "text/plain": "   feature variable value\n6        A   unique     3\n4        B    count     3\n10       B    nulls     0",
      "text/html": "<div>\n<style scoped>\n    .dataframe tbody tr th:only-of-type {\n        vertical-align: middle;\n    }\n\n    .dataframe tbody tr th {\n        vertical-align: top;\n    }\n\n    .dataframe thead th {\n        text-align: right;\n    }\n</style>\n<table border=\"1\" class=\"dataframe\">\n  <thead>\n    <tr style=\"text-align: right;\">\n      <th></th>\n      <th>feature</th>\n      <th>variable</th>\n      <th>value</th>\n    </tr>\n  </thead>\n  <tbody>\n    <tr>\n      <th>6</th>\n      <td>A</td>\n      <td>unique</td>\n      <td>3</td>\n    </tr>\n    <tr>\n      <th>4</th>\n      <td>B</td>\n      <td>count</td>\n      <td>3</td>\n    </tr>\n    <tr>\n      <th>10</th>\n      <td>B</td>\n      <td>nulls</td>\n      <td>0</td>\n    </tr>\n  </tbody>\n</table>\n</div>"
     },
     "metadata": {},
     "execution_count": 3
    }
   ],
   "source": [
    "r = DFInfo.inspect(dfX, 'target')\n",
    "r.sample(3)"
   ]
  },
  {
   "cell_type": "code",
   "execution_count": 4,
   "metadata": {},
   "outputs": [
    {
     "output_type": "execute_result",
     "data": {
      "text/plain": "variable count   dtype nulls unique\nfeature                            \nA            3   int64     0      3\nB            3  object     0      3\nC            2  object   0.5      1",
      "text/html": "<div>\n<style scoped>\n    .dataframe tbody tr th:only-of-type {\n        vertical-align: middle;\n    }\n\n    .dataframe tbody tr th {\n        vertical-align: top;\n    }\n\n    .dataframe thead th {\n        text-align: right;\n    }\n</style>\n<table border=\"1\" class=\"dataframe\">\n  <thead>\n    <tr style=\"text-align: right;\">\n      <th>variable</th>\n      <th>count</th>\n      <th>dtype</th>\n      <th>nulls</th>\n      <th>unique</th>\n    </tr>\n    <tr>\n      <th>feature</th>\n      <th></th>\n      <th></th>\n      <th></th>\n      <th></th>\n    </tr>\n  </thead>\n  <tbody>\n    <tr>\n      <th>A</th>\n      <td>3</td>\n      <td>int64</td>\n      <td>0</td>\n      <td>3</td>\n    </tr>\n    <tr>\n      <th>B</th>\n      <td>3</td>\n      <td>object</td>\n      <td>0</td>\n      <td>3</td>\n    </tr>\n    <tr>\n      <th>C</th>\n      <td>2</td>\n      <td>object</td>\n      <td>0.5</td>\n      <td>1</td>\n    </tr>\n  </tbody>\n</table>\n</div>"
     },
     "metadata": {},
     "execution_count": 4
    }
   ],
   "source": [
    "r.pivot(values='value', index='feature', columns='variable')"
   ]
  },
  {
   "cell_type": "code",
   "execution_count": null,
   "metadata": {},
   "outputs": [],
   "source": []
  }
 ],
 "metadata": {
  "language_info": {
   "codemirror_mode": {
    "name": "ipython",
    "version": 3
   },
   "file_extension": ".py",
   "mimetype": "text/x-python",
   "name": "python",
   "nbconvert_exporter": "python",
   "pygments_lexer": "ipython3",
   "version": "3.8.3-final"
  },
  "orig_nbformat": 2,
  "kernelspec": {
   "name": "python38332bit93be42d4079443e4936ec1533fe4e0ca",
   "display_name": "Python 3.8.3 32-bit"
  }
 },
 "nbformat": 4,
 "nbformat_minor": 2
}