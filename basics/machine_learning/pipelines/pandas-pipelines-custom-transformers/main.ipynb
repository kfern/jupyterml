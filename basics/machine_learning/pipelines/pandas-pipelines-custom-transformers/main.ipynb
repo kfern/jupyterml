{
 "cells": [
  {
   "cell_type": "markdown",
   "metadata": {},
   "source": [
    "https://github.com/jem1031/pandas-pipelines-custom-transformers"
   ]
  },
  {
   "cell_type": "code",
   "execution_count": 1,
   "metadata": {},
   "outputs": [],
   "source": [
    "import pandas as pd\n",
    "import numpy as np"
   ]
  },
  {
   "cell_type": "code",
   "execution_count": 2,
   "metadata": {},
   "outputs": [
    {
     "data": {
      "text/html": "<div>\n<style scoped>\n    .dataframe tbody tr th:only-of-type {\n        vertical-align: middle;\n    }\n\n    .dataframe tbody tr th {\n        vertical-align: top;\n    }\n\n    .dataframe thead th {\n        text-align: right;\n    }\n</style>\n<table border=\"1\" class=\"dataframe\">\n  <thead>\n    <tr style=\"text-align: right;\">\n      <th></th>\n      <th>application_date</th>\n      <th>permit_status</th>\n      <th>permit_type</th>\n      <th>event_category</th>\n      <th>event_sub_category</th>\n      <th>name_of_event</th>\n      <th>year_month_app</th>\n      <th>event_start_date</th>\n      <th>event_end_date</th>\n      <th>event_location_park</th>\n      <th>event_location_neighborhood</th>\n      <th>council_district</th>\n      <th>precinct</th>\n      <th>organization</th>\n      <th>attendance</th>\n    </tr>\n  </thead>\n  <tbody>\n    <tr>\n      <th>497</th>\n      <td>04/25/2016 12:00:00 AM</td>\n      <td>Complete</td>\n      <td>Special Event</td>\n      <td>Community</td>\n      <td>NaN</td>\n      <td>Rainier Valley Heritage Festival</td>\n      <td>S16AU260</td>\n      <td>08/13/2016 12:00:00 AM</td>\n      <td>08/13/2016 12:00:00 AM</td>\n      <td>NaN</td>\n      <td>Rainier Valley</td>\n      <td>2</td>\n      <td>South</td>\n      <td>Rainier Chamber Foundation</td>\n      <td>3020.0</td>\n    </tr>\n    <tr>\n      <th>303</th>\n      <td>08/16/2016 12:00:00 AM</td>\n      <td>Complete</td>\n      <td>Special Event</td>\n      <td>Community</td>\n      <td>NaN</td>\n      <td>West Seattle Hometown Holidays</td>\n      <td>S16DE438</td>\n      <td>12/03/2016 12:00:00 AM</td>\n      <td>12/03/2016 12:00:00 AM</td>\n      <td>NaN</td>\n      <td>West Seattle</td>\n      <td>1</td>\n      <td>West</td>\n      <td>West Seattle Junction Association</td>\n      <td>770.0</td>\n    </tr>\n    <tr>\n      <th>39</th>\n      <td>02/10/2016 12:00:00 AM</td>\n      <td>Complete</td>\n      <td>Special Event</td>\n      <td>Commercial</td>\n      <td>NaN</td>\n      <td>NFFTY 2016 Opening Night</td>\n      <td>S16AP122</td>\n      <td>04/28/2016 12:00:00 AM</td>\n      <td>04/28/2016 12:00:00 AM</td>\n      <td>NaN</td>\n      <td>Downtown</td>\n      <td>7</td>\n      <td>West</td>\n      <td>The Talented Youth (AKA NFFTY)</td>\n      <td>750.0</td>\n    </tr>\n    <tr>\n      <th>364</th>\n      <td>08/03/2016 12:00:00 AM</td>\n      <td>Complete</td>\n      <td>Special Event</td>\n      <td>Free Speech</td>\n      <td>NaN</td>\n      <td>Carpenters 4 Carpenters Rally and March to Tru...</td>\n      <td>S16AU421</td>\n      <td>08/04/2016 12:00:00 AM</td>\n      <td>08/04/2016 12:00:00 AM</td>\n      <td>NaN</td>\n      <td>Belltown</td>\n      <td>7</td>\n      <td>West</td>\n      <td>Carpenters 4 Carpenters</td>\n      <td>250.0</td>\n    </tr>\n    <tr>\n      <th>410</th>\n      <td>06/13/2016 12:00:00 AM</td>\n      <td>Complete</td>\n      <td>Charter Vessel</td>\n      <td>NaN</td>\n      <td>NaN</td>\n      <td>Argosy Cruises - Celebrations</td>\n      <td>CV16JY344</td>\n      <td>07/04/2016 12:00:00 AM</td>\n      <td>07/04/2016 12:00:00 AM</td>\n      <td>NaN</td>\n      <td>Wallingford</td>\n      <td>4</td>\n      <td>North</td>\n      <td>Argosy Cruises</td>\n      <td>149.0</td>\n    </tr>\n  </tbody>\n</table>\n</div>",
      "text/plain": "           application_date permit_status     permit_type event_category  \\\n497  04/25/2016 12:00:00 AM      Complete   Special Event      Community   \n303  08/16/2016 12:00:00 AM      Complete   Special Event      Community   \n39   02/10/2016 12:00:00 AM      Complete   Special Event     Commercial   \n364  08/03/2016 12:00:00 AM      Complete   Special Event    Free Speech   \n410  06/13/2016 12:00:00 AM      Complete  Charter Vessel            NaN   \n\n    event_sub_category                                      name_of_event  \\\n497                NaN                   Rainier Valley Heritage Festival   \n303                NaN                     West Seattle Hometown Holidays   \n39                 NaN                           NFFTY 2016 Opening Night   \n364                NaN  Carpenters 4 Carpenters Rally and March to Tru...   \n410                NaN                      Argosy Cruises - Celebrations   \n\n    year_month_app        event_start_date          event_end_date  \\\n497       S16AU260  08/13/2016 12:00:00 AM  08/13/2016 12:00:00 AM   \n303       S16DE438  12/03/2016 12:00:00 AM  12/03/2016 12:00:00 AM   \n39        S16AP122  04/28/2016 12:00:00 AM  04/28/2016 12:00:00 AM   \n364       S16AU421  08/04/2016 12:00:00 AM  08/04/2016 12:00:00 AM   \n410      CV16JY344  07/04/2016 12:00:00 AM  07/04/2016 12:00:00 AM   \n\n    event_location_park event_location_neighborhood council_district precinct  \\\n497                 NaN              Rainier Valley                2    South   \n303                 NaN                West Seattle                1     West   \n39                  NaN                    Downtown                7     West   \n364                 NaN                    Belltown                7     West   \n410                 NaN                 Wallingford                4    North   \n\n                          organization  attendance  \n497         Rainier Chamber Foundation      3020.0  \n303  West Seattle Junction Association       770.0  \n39      The Talented Youth (AKA NFFTY)       750.0  \n364            Carpenters 4 Carpenters       250.0  \n410                     Argosy Cruises       149.0  "
     },
     "execution_count": 2,
     "metadata": {},
     "output_type": "execute_result"
    }
   ],
   "source": [
    "# SET UP\n",
    "from sklearn.model_selection import train_test_split\n",
    "\n",
    "# Read in data\n",
    "# source: https://data.seattle.gov/Permitting/Special-Events-Permits/dm95-f8w5\n",
    "data_folder = './data/'\n",
    "data_file = 'Special_Events_Permits_2016.csv'\n",
    "df = pd.read_csv(data_folder + data_file)\n",
    "\n",
    "# Set aside 25% as test data\n",
    "df_train, df_test = train_test_split(df, random_state=4321)\n",
    "\n",
    "# Take a look\n",
    "df_train.head()\n"
   ]
  },
  {
   "cell_type": "code",
   "execution_count": 3,
   "metadata": {},
   "outputs": [
    {
     "name": "stdout",
     "output_type": "stream",
     "text": "0.5\n0.5765536723163842\n"
    }
   ],
   "source": [
    "# SIMPLE MODEL\n",
    "from sklearn.linear_model import LogisticRegression\n",
    "from sklearn.metrics import roc_auc_score\n",
    "\n",
    "# Binary outcome\n",
    "y_train = np.where(df_train.permit_status == 'Complete', 1, 0)\n",
    "y_test = np.where(df_test.permit_status == 'Complete', 1, 0)\n",
    "\n",
    "# Single feature\n",
    "X_train_1 = df_train[['attendance']].fillna(value=0)\n",
    "X_test_1 = df_test[['attendance']].fillna(value=0)\n",
    "\n",
    "# Fit model\n",
    "model_1 = LogisticRegression(random_state=5678)\n",
    "model_1.fit(X_train_1, y_train)\n",
    "y_pred_train_1 = model_1.predict(X_train_1)\n",
    "p_pred_train_1 = model_1.predict_proba(X_train_1)[:, 1]\n",
    "\n",
    "# Evaluate model\n",
    "# baseline: always predict the average\n",
    "p_baseline_test = [y_train.mean()]*len(y_test)\n",
    "auc_baseline = roc_auc_score(y_test, p_baseline_test)\n",
    "print(auc_baseline)  # 0.5\n",
    "y_pred_test_1 = model_1.predict(X_test_1)\n",
    "p_pred_test_1 = model_1.predict_proba(X_test_1)[:, 1]\n",
    "auc_test_1 = roc_auc_score(y_test, p_pred_test_1)\n",
    "print(auc_test_1)  # 0.576553672316\n"
   ]
  },
  {
   "cell_type": "code",
   "execution_count": 4,
   "metadata": {},
   "outputs": [
    {
     "name": "stdout",
     "output_type": "stream",
     "text": "0.7016949152542373\n"
    }
   ],
   "source": [
    "# MODEL W/PIPELINE\n",
    "from sklearn.linear_model import LogisticRegression\n",
    "from sklearn.metrics import roc_auc_score\n",
    "from sklearn.pipeline import Pipeline\n",
    "\n",
    "from custom_transformers import ColumnExtractor, DFStandardScaler, DFFeatureUnion\n",
    "from custom_transformers import DummyTransformer, Log1pTransformer, ZeroFillTransformer\n",
    "\n",
    "# Group columns by type of preprocessing needed\n",
    "OUTCOME = 'permit_status'\n",
    "CAT_FEATS = [\n",
    "    'permit_type', 'event_category', 'event_sub_category',\n",
    "    'event_location_park', 'event_location_neighborhood']\n",
    "NUM_FEATS = ['attendance']\n",
    "\n",
    "# Preprocessing with a Pipeline\n",
    "pipeline = Pipeline([\n",
    "    ('features', DFFeatureUnion([\n",
    "        ('categoricals', Pipeline([\n",
    "            ('extract', ColumnExtractor(CAT_FEATS)),\n",
    "            ('dummy', DummyTransformer())\n",
    "        ])),\n",
    "        ('numerics', Pipeline([\n",
    "            ('extract', ColumnExtractor(NUM_FEATS)),\n",
    "            ('zero_fill', ZeroFillTransformer()),\n",
    "            ('log', Log1pTransformer())\n",
    "        ]))\n",
    "    ])),\n",
    "    ('scale', DFStandardScaler())\n",
    "])\n",
    "pipeline.fit(df_train)\n",
    "X_train_2 = pipeline.transform(df_train)\n",
    "X_test_2 = pipeline.transform(df_test)\n",
    "\n",
    "# Fit model\n",
    "model_2 = LogisticRegression(random_state=5678)\n",
    "model_2.fit(X_train_2, y_train)\n",
    "y_pred_train_2 = model_2.predict(X_train_2)\n",
    "p_pred_train_2 = model_2.predict_proba(X_train_2)[:, 1]\n",
    "\n",
    "# Evaluate model\n",
    "p_pred_test_2 = model_2.predict_proba(X_test_2)[:, 1]\n",
    "auc_test_2 = roc_auc_score(y_test, p_pred_test_2)\n",
    "print(auc_test_2)  # 0.705084745763\n"
   ]
  },
  {
   "cell_type": "code",
   "execution_count": 7,
   "metadata": {},
   "outputs": [
    {
     "name": "stdout",
     "output_type": "stream",
     "text": "0.6790960451977401\n"
    }
   ],
   "source": [
    "# MODEL W/EVEN MORE FEATURES\n",
    "from sklearn.linear_model import LogisticRegression\n",
    "from sklearn.metrics import roc_auc_score\n",
    "from sklearn.pipeline import Pipeline\n",
    "\n",
    "from custom_transformers import ColumnExtractor, DFStandardScaler, DFFeatureUnion, DFImputer\n",
    "from custom_transformers import DummyTransformer, Log1pTransformer, ZeroFillTransformer\n",
    "from custom_transformers import DateFormatter, DateDiffer, MultiEncoder\n",
    "\n",
    "# Group columns by type of preprocessing needed\n",
    "OUTCOME = 'permit_status'\n",
    "NEAR_UNIQUE_FEATS = ['name_of_event', 'year_month_app', 'organization']\n",
    "CAT_FEATS = [\n",
    "    'permit_type', 'event_category', 'event_sub_category',\n",
    "    'event_location_park', 'event_location_neighborhood']\n",
    "MULTI_FEATS = ['council_district', 'precinct']\n",
    "#DATE_FEATS = ['application_date', 'event_start_date', 'event_end_date']\n",
    "NUM_FEATS = ['attendance']\n",
    "\n",
    "# Preprocessing with a Pipeline\n",
    "pipeline3 = Pipeline([\n",
    "    ('features', DFFeatureUnion([\n",
    "        #('dates', Pipeline([\n",
    "        #    ('extract', ColumnExtractor(DATE_FEATS)),\n",
    "        #    ('to_date', DateFormatter()),\n",
    "        #    ('diffs', DateDiffer()),\n",
    "        #    ('mid_fill', DFImputer(strategy='median'))\n",
    "        #])),\n",
    "        ('categoricals', Pipeline([\n",
    "            ('extract', ColumnExtractor(CAT_FEATS)),\n",
    "            ('dummy', DummyTransformer())\n",
    "        ])),\n",
    "        ('multi_labels', Pipeline([\n",
    "            ('extract', ColumnExtractor(MULTI_FEATS)),\n",
    "            ('multi_dummy', MultiEncoder(sep=';'))\n",
    "        ])),\n",
    "        ('numerics', Pipeline([\n",
    "            ('extract', ColumnExtractor(NUM_FEATS)),\n",
    "            ('zero_fill', ZeroFillTransformer()),\n",
    "            ('log', Log1pTransformer())\n",
    "        ]))\n",
    "    ])),\n",
    "    ('scale', DFStandardScaler())\n",
    "])\n",
    "pipeline3.fit(df_train)\n",
    "X_train_3 = pipeline3.transform(df_train)\n",
    "X_test_3 = pipeline3.transform(df_test)\n",
    "\n",
    "# Fit model\n",
    "model_3 = LogisticRegression(random_state=5678)\n",
    "model_3.fit(X_train_3, y_train)\n",
    "y_pred_train_3 = model_3.predict(X_train_3)\n",
    "p_pred_train_3 = model_3.predict_proba(X_train_3)[:, 1]\n",
    "\n",
    "# Evaluate model\n",
    "p_pred_test_3 = model_3.predict_proba(X_test_3)[:, 1]\n",
    "auc_test_3 = roc_auc_score(y_test, p_pred_test_3)\n",
    "print(auc_test_3)  # 0.6790960451977401  # too many features -> starting to overfit\n"
   ]
  }
 ],
 "metadata": {
  "kernelspec": {
   "name": "python36964bit16f97fd3583441a185d64eb25f0c0a1f",
   "display_name": "Python 3.6.9 64-bit"
  }
 },
 "nbformat": 4,
 "nbformat_minor": 4
}