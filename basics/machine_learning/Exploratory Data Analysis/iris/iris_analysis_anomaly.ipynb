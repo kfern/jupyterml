{
 "metadata": {
  "language_info": {
   "codemirror_mode": {
    "name": "ipython",
    "version": 3
   },
   "file_extension": ".py",
   "mimetype": "text/x-python",
   "name": "python",
   "nbconvert_exporter": "python",
   "pygments_lexer": "ipython3",
   "version": 3
  },
  "orig_nbformat": 2,
  "kernelspec": {
   "name": "python_defaultSpec_1595248239088",
   "display_name": "Python 3.6.9 64-bit"
  }
 },
 "nbformat": 4,
 "nbformat_minor": 2,
 "cells": [
  {
   "cell_type": "code",
   "execution_count": 1,
   "metadata": {},
   "outputs": [
    {
     "output_type": "display_data",
     "data": {
      "text/plain": "   sepal_length  sepal_width  petal_length  petal_width      species\n0           5.1          3.5           1.4          0.2  Iris-setosa\n1           4.9          3.0           1.4          0.2  Iris-setosa\n2           4.7          3.2           1.3          0.2  Iris-setosa\n3           4.6          3.1           1.5          0.2  Iris-setosa\n4           5.0          3.6           1.4          0.2  Iris-setosa",
      "text/html": "<div>\n<style scoped>\n    .dataframe tbody tr th:only-of-type {\n        vertical-align: middle;\n    }\n\n    .dataframe tbody tr th {\n        vertical-align: top;\n    }\n\n    .dataframe thead th {\n        text-align: right;\n    }\n</style>\n<table border=\"1\" class=\"dataframe\">\n  <thead>\n    <tr style=\"text-align: right;\">\n      <th></th>\n      <th>sepal_length</th>\n      <th>sepal_width</th>\n      <th>petal_length</th>\n      <th>petal_width</th>\n      <th>species</th>\n    </tr>\n  </thead>\n  <tbody>\n    <tr>\n      <th>0</th>\n      <td>5.1</td>\n      <td>3.5</td>\n      <td>1.4</td>\n      <td>0.2</td>\n      <td>Iris-setosa</td>\n    </tr>\n    <tr>\n      <th>1</th>\n      <td>4.9</td>\n      <td>3.0</td>\n      <td>1.4</td>\n      <td>0.2</td>\n      <td>Iris-setosa</td>\n    </tr>\n    <tr>\n      <th>2</th>\n      <td>4.7</td>\n      <td>3.2</td>\n      <td>1.3</td>\n      <td>0.2</td>\n      <td>Iris-setosa</td>\n    </tr>\n    <tr>\n      <th>3</th>\n      <td>4.6</td>\n      <td>3.1</td>\n      <td>1.5</td>\n      <td>0.2</td>\n      <td>Iris-setosa</td>\n    </tr>\n    <tr>\n      <th>4</th>\n      <td>5.0</td>\n      <td>3.6</td>\n      <td>1.4</td>\n      <td>0.2</td>\n      <td>Iris-setosa</td>\n    </tr>\n  </tbody>\n</table>\n</div>"
     },
     "metadata": {}
    }
   ],
   "source": [
    "# Data load\n",
    "from pycaret.datasets import get_data\n",
    "dataset = get_data('iris')"
   ]
  },
  {
   "cell_type": "code",
   "execution_count": 2,
   "metadata": {},
   "outputs": [
    {
     "output_type": "execute_result",
     "data": {
      "text/plain": "(150, 5)"
     },
     "metadata": {},
     "execution_count": 2
    }
   ],
   "source": [
    "#check the shape of data\n",
    "dataset.shape"
   ]
  },
  {
   "cell_type": "code",
   "execution_count": 3,
   "metadata": {},
   "outputs": [
    {
     "output_type": "execute_result",
     "data": {
      "text/plain": "Iris-virginica     0.333333\nIris-setosa        0.333333\nIris-versicolor    0.333333\nName: species, dtype: float64"
     },
     "metadata": {},
     "execution_count": 3
    }
   ],
   "source": [
    "data_unseen = dataset.groupby('species').head(5)\n",
    "data_unseen.species.value_counts(normalize=True)"
   ]
  },
  {
   "cell_type": "code",
   "execution_count": 4,
   "metadata": {
    "tags": []
   },
   "outputs": [
    {
     "output_type": "stream",
     "name": "stdout",
     "text": "Data for Modeling: (135, 5)\nUnseen Data For Predictions: (15, 5)\n"
    }
   ],
   "source": [
    "# stratified unseen data\n",
    "data_unseen = dataset.groupby('species').head(5)\n",
    "data_unseen.species.value_counts(normalize=True)\n",
    "\n",
    "# Train & test data\n",
    "data = dataset.drop(data_unseen.index).reset_index(drop=True)\n",
    "\n",
    "# drop data_unseen index\n",
    "data_unseen.reset_index(drop=True, inplace=True)\n",
    "\n",
    "# data = dataset.sample(frac=0.95, random_state=786).reset_index(drop=True)\n",
    "print('Data for Modeling: ' + str(data.shape))\n",
    "print('Unseen Data For Predictions: ' + str(data_unseen.shape))"
   ]
  },
  {
   "cell_type": "code",
   "execution_count": 5,
   "metadata": {
    "tags": []
   },
   "outputs": [
    {
     "output_type": "stream",
     "name": "stdout",
     "text": "\nSetup Succesfully Completed! Loading Profile Now... Please Wait!\n"
    },
    {
     "output_type": "display_data",
     "data": {
      "text/plain": "<pandas.io.formats.style.Styler at 0x7f39ab970358>",
      "text/html": "<style  type=\"text/css\" >\n    #T_4051e1d0_ca96_11ea_a175_742f6885dedbrow10_col1 {\n            background-color:  lightgreen;\n        }</style><table id=\"T_4051e1d0_ca96_11ea_a175_742f6885dedb\" ><thead>    <tr>        <th class=\"blank level0\" ></th>        <th class=\"col_heading level0 col0\" >Description</th>        <th class=\"col_heading level0 col1\" >Value</th>    </tr></thead><tbody>\n                <tr>\n                        <th id=\"T_4051e1d0_ca96_11ea_a175_742f6885dedblevel0_row0\" class=\"row_heading level0 row0\" >0</th>\n                        <td id=\"T_4051e1d0_ca96_11ea_a175_742f6885dedbrow0_col0\" class=\"data row0 col0\" >session_id </td>\n                        <td id=\"T_4051e1d0_ca96_11ea_a175_742f6885dedbrow0_col1\" class=\"data row0 col1\" >123</td>\n            </tr>\n            <tr>\n                        <th id=\"T_4051e1d0_ca96_11ea_a175_742f6885dedblevel0_row1\" class=\"row_heading level0 row1\" >1</th>\n                        <td id=\"T_4051e1d0_ca96_11ea_a175_742f6885dedbrow1_col0\" class=\"data row1 col0\" >Original Data </td>\n                        <td id=\"T_4051e1d0_ca96_11ea_a175_742f6885dedbrow1_col1\" class=\"data row1 col1\" >(135, 5)</td>\n            </tr>\n            <tr>\n                        <th id=\"T_4051e1d0_ca96_11ea_a175_742f6885dedblevel0_row2\" class=\"row_heading level0 row2\" >2</th>\n                        <td id=\"T_4051e1d0_ca96_11ea_a175_742f6885dedbrow2_col0\" class=\"data row2 col0\" >Missing Values </td>\n                        <td id=\"T_4051e1d0_ca96_11ea_a175_742f6885dedbrow2_col1\" class=\"data row2 col1\" >False</td>\n            </tr>\n            <tr>\n                        <th id=\"T_4051e1d0_ca96_11ea_a175_742f6885dedblevel0_row3\" class=\"row_heading level0 row3\" >3</th>\n                        <td id=\"T_4051e1d0_ca96_11ea_a175_742f6885dedbrow3_col0\" class=\"data row3 col0\" >Numeric Features </td>\n                        <td id=\"T_4051e1d0_ca96_11ea_a175_742f6885dedbrow3_col1\" class=\"data row3 col1\" >4</td>\n            </tr>\n            <tr>\n                        <th id=\"T_4051e1d0_ca96_11ea_a175_742f6885dedblevel0_row4\" class=\"row_heading level0 row4\" >4</th>\n                        <td id=\"T_4051e1d0_ca96_11ea_a175_742f6885dedbrow4_col0\" class=\"data row4 col0\" >Categorical Features </td>\n                        <td id=\"T_4051e1d0_ca96_11ea_a175_742f6885dedbrow4_col1\" class=\"data row4 col1\" >1</td>\n            </tr>\n            <tr>\n                        <th id=\"T_4051e1d0_ca96_11ea_a175_742f6885dedblevel0_row5\" class=\"row_heading level0 row5\" >5</th>\n                        <td id=\"T_4051e1d0_ca96_11ea_a175_742f6885dedbrow5_col0\" class=\"data row5 col0\" >Ordinal Features </td>\n                        <td id=\"T_4051e1d0_ca96_11ea_a175_742f6885dedbrow5_col1\" class=\"data row5 col1\" >False</td>\n            </tr>\n            <tr>\n                        <th id=\"T_4051e1d0_ca96_11ea_a175_742f6885dedblevel0_row6\" class=\"row_heading level0 row6\" >6</th>\n                        <td id=\"T_4051e1d0_ca96_11ea_a175_742f6885dedbrow6_col0\" class=\"data row6 col0\" >High Cardinality Features </td>\n                        <td id=\"T_4051e1d0_ca96_11ea_a175_742f6885dedbrow6_col1\" class=\"data row6 col1\" >False</td>\n            </tr>\n            <tr>\n                        <th id=\"T_4051e1d0_ca96_11ea_a175_742f6885dedblevel0_row7\" class=\"row_heading level0 row7\" >7</th>\n                        <td id=\"T_4051e1d0_ca96_11ea_a175_742f6885dedbrow7_col0\" class=\"data row7 col0\" >Transformed Data </td>\n                        <td id=\"T_4051e1d0_ca96_11ea_a175_742f6885dedbrow7_col1\" class=\"data row7 col1\" >(135, 7)</td>\n            </tr>\n            <tr>\n                        <th id=\"T_4051e1d0_ca96_11ea_a175_742f6885dedblevel0_row8\" class=\"row_heading level0 row8\" >8</th>\n                        <td id=\"T_4051e1d0_ca96_11ea_a175_742f6885dedbrow8_col0\" class=\"data row8 col0\" >Numeric Imputer </td>\n                        <td id=\"T_4051e1d0_ca96_11ea_a175_742f6885dedbrow8_col1\" class=\"data row8 col1\" >mean</td>\n            </tr>\n            <tr>\n                        <th id=\"T_4051e1d0_ca96_11ea_a175_742f6885dedblevel0_row9\" class=\"row_heading level0 row9\" >9</th>\n                        <td id=\"T_4051e1d0_ca96_11ea_a175_742f6885dedbrow9_col0\" class=\"data row9 col0\" >Categorical Imputer </td>\n                        <td id=\"T_4051e1d0_ca96_11ea_a175_742f6885dedbrow9_col1\" class=\"data row9 col1\" >constant</td>\n            </tr>\n            <tr>\n                        <th id=\"T_4051e1d0_ca96_11ea_a175_742f6885dedblevel0_row10\" class=\"row_heading level0 row10\" >10</th>\n                        <td id=\"T_4051e1d0_ca96_11ea_a175_742f6885dedbrow10_col0\" class=\"data row10 col0\" >Normalize </td>\n                        <td id=\"T_4051e1d0_ca96_11ea_a175_742f6885dedbrow10_col1\" class=\"data row10 col1\" >True</td>\n            </tr>\n            <tr>\n                        <th id=\"T_4051e1d0_ca96_11ea_a175_742f6885dedblevel0_row11\" class=\"row_heading level0 row11\" >11</th>\n                        <td id=\"T_4051e1d0_ca96_11ea_a175_742f6885dedbrow11_col0\" class=\"data row11 col0\" >Normalize Method </td>\n                        <td id=\"T_4051e1d0_ca96_11ea_a175_742f6885dedbrow11_col1\" class=\"data row11 col1\" >robust</td>\n            </tr>\n            <tr>\n                        <th id=\"T_4051e1d0_ca96_11ea_a175_742f6885dedblevel0_row12\" class=\"row_heading level0 row12\" >12</th>\n                        <td id=\"T_4051e1d0_ca96_11ea_a175_742f6885dedbrow12_col0\" class=\"data row12 col0\" >Transformation </td>\n                        <td id=\"T_4051e1d0_ca96_11ea_a175_742f6885dedbrow12_col1\" class=\"data row12 col1\" >False</td>\n            </tr>\n            <tr>\n                        <th id=\"T_4051e1d0_ca96_11ea_a175_742f6885dedblevel0_row13\" class=\"row_heading level0 row13\" >13</th>\n                        <td id=\"T_4051e1d0_ca96_11ea_a175_742f6885dedbrow13_col0\" class=\"data row13 col0\" >Transformation Method </td>\n                        <td id=\"T_4051e1d0_ca96_11ea_a175_742f6885dedbrow13_col1\" class=\"data row13 col1\" >None</td>\n            </tr>\n            <tr>\n                        <th id=\"T_4051e1d0_ca96_11ea_a175_742f6885dedblevel0_row14\" class=\"row_heading level0 row14\" >14</th>\n                        <td id=\"T_4051e1d0_ca96_11ea_a175_742f6885dedbrow14_col0\" class=\"data row14 col0\" >PCA </td>\n                        <td id=\"T_4051e1d0_ca96_11ea_a175_742f6885dedbrow14_col1\" class=\"data row14 col1\" >False</td>\n            </tr>\n            <tr>\n                        <th id=\"T_4051e1d0_ca96_11ea_a175_742f6885dedblevel0_row15\" class=\"row_heading level0 row15\" >15</th>\n                        <td id=\"T_4051e1d0_ca96_11ea_a175_742f6885dedbrow15_col0\" class=\"data row15 col0\" >PCA Method </td>\n                        <td id=\"T_4051e1d0_ca96_11ea_a175_742f6885dedbrow15_col1\" class=\"data row15 col1\" >None</td>\n            </tr>\n            <tr>\n                        <th id=\"T_4051e1d0_ca96_11ea_a175_742f6885dedblevel0_row16\" class=\"row_heading level0 row16\" >16</th>\n                        <td id=\"T_4051e1d0_ca96_11ea_a175_742f6885dedbrow16_col0\" class=\"data row16 col0\" >PCA components </td>\n                        <td id=\"T_4051e1d0_ca96_11ea_a175_742f6885dedbrow16_col1\" class=\"data row16 col1\" >None</td>\n            </tr>\n            <tr>\n                        <th id=\"T_4051e1d0_ca96_11ea_a175_742f6885dedblevel0_row17\" class=\"row_heading level0 row17\" >17</th>\n                        <td id=\"T_4051e1d0_ca96_11ea_a175_742f6885dedbrow17_col0\" class=\"data row17 col0\" >Ignore Low Variance </td>\n                        <td id=\"T_4051e1d0_ca96_11ea_a175_742f6885dedbrow17_col1\" class=\"data row17 col1\" >False</td>\n            </tr>\n            <tr>\n                        <th id=\"T_4051e1d0_ca96_11ea_a175_742f6885dedblevel0_row18\" class=\"row_heading level0 row18\" >18</th>\n                        <td id=\"T_4051e1d0_ca96_11ea_a175_742f6885dedbrow18_col0\" class=\"data row18 col0\" >Combine Rare Levels </td>\n                        <td id=\"T_4051e1d0_ca96_11ea_a175_742f6885dedbrow18_col1\" class=\"data row18 col1\" >False</td>\n            </tr>\n            <tr>\n                        <th id=\"T_4051e1d0_ca96_11ea_a175_742f6885dedblevel0_row19\" class=\"row_heading level0 row19\" >19</th>\n                        <td id=\"T_4051e1d0_ca96_11ea_a175_742f6885dedbrow19_col0\" class=\"data row19 col0\" >Rare Level Threshold </td>\n                        <td id=\"T_4051e1d0_ca96_11ea_a175_742f6885dedbrow19_col1\" class=\"data row19 col1\" >None</td>\n            </tr>\n            <tr>\n                        <th id=\"T_4051e1d0_ca96_11ea_a175_742f6885dedblevel0_row20\" class=\"row_heading level0 row20\" >20</th>\n                        <td id=\"T_4051e1d0_ca96_11ea_a175_742f6885dedbrow20_col0\" class=\"data row20 col0\" >Numeric Binning </td>\n                        <td id=\"T_4051e1d0_ca96_11ea_a175_742f6885dedbrow20_col1\" class=\"data row20 col1\" >False</td>\n            </tr>\n            <tr>\n                        <th id=\"T_4051e1d0_ca96_11ea_a175_742f6885dedblevel0_row21\" class=\"row_heading level0 row21\" >21</th>\n                        <td id=\"T_4051e1d0_ca96_11ea_a175_742f6885dedbrow21_col0\" class=\"data row21 col0\" >Remove Multicollinearity </td>\n                        <td id=\"T_4051e1d0_ca96_11ea_a175_742f6885dedbrow21_col1\" class=\"data row21 col1\" >False</td>\n            </tr>\n            <tr>\n                        <th id=\"T_4051e1d0_ca96_11ea_a175_742f6885dedblevel0_row22\" class=\"row_heading level0 row22\" >22</th>\n                        <td id=\"T_4051e1d0_ca96_11ea_a175_742f6885dedbrow22_col0\" class=\"data row22 col0\" >Multicollinearity Threshold </td>\n                        <td id=\"T_4051e1d0_ca96_11ea_a175_742f6885dedbrow22_col1\" class=\"data row22 col1\" >None</td>\n            </tr>\n            <tr>\n                        <th id=\"T_4051e1d0_ca96_11ea_a175_742f6885dedblevel0_row23\" class=\"row_heading level0 row23\" >23</th>\n                        <td id=\"T_4051e1d0_ca96_11ea_a175_742f6885dedbrow23_col0\" class=\"data row23 col0\" >Group Features </td>\n                        <td id=\"T_4051e1d0_ca96_11ea_a175_742f6885dedbrow23_col1\" class=\"data row23 col1\" >False</td>\n            </tr>\n    </tbody></table>"
     },
     "metadata": {}
    },
    {
     "output_type": "stream",
     "name": "stdout",
     "text": "Data Profiler Failed. No output to show, please continue with Modeling.\n"
    }
   ],
   "source": [
    "# Setting up Environment in PyCaret\n",
    "from pycaret.anomaly import *\n",
    "exp_an = setup(data, \n",
    "    normalize = True, normalize_method = 'robust',\n",
    "    profile = True,\n",
    "    session_id = 123)"
   ]
  },
  {
   "cell_type": "code",
   "execution_count": 6,
   "metadata": {},
   "outputs": [],
   "source": [
    "iforest = create_model('iforest')"
   ]
  },
  {
   "cell_type": "code",
   "execution_count": 7,
   "metadata": {
    "tags": []
   },
   "outputs": [
    {
     "output_type": "stream",
     "name": "stdout",
     "text": "IForest(behaviour='new', bootstrap=False, contamination=0.05,\n    max_features=1.0, max_samples='auto', n_estimators=100, n_jobs=1,\n    random_state=123, verbose=0)\n"
    }
   ],
   "source": [
    "print(iforest)"
   ]
  },
  {
   "cell_type": "code",
   "execution_count": 8,
   "metadata": {},
   "outputs": [
    {
     "output_type": "execute_result",
     "data": {
      "text/plain": "   sepal_length  sepal_width  petal_length  petal_width      species  Label  \\\n0           5.4          3.9           1.7          0.4  Iris-setosa      0   \n1           4.6          3.4           1.4          0.3  Iris-setosa      0   \n2           5.0          3.4           1.5          0.2  Iris-setosa      0   \n3           4.4          2.9           1.4          0.2  Iris-setosa      0   \n4           4.9          3.1           1.5          0.1  Iris-setosa      0   \n\n      Score  \n0 -0.089128  \n1 -0.105286  \n2 -0.184506  \n3 -0.075716  \n4 -0.118184  ",
      "text/html": "<div>\n<style scoped>\n    .dataframe tbody tr th:only-of-type {\n        vertical-align: middle;\n    }\n\n    .dataframe tbody tr th {\n        vertical-align: top;\n    }\n\n    .dataframe thead th {\n        text-align: right;\n    }\n</style>\n<table border=\"1\" class=\"dataframe\">\n  <thead>\n    <tr style=\"text-align: right;\">\n      <th></th>\n      <th>sepal_length</th>\n      <th>sepal_width</th>\n      <th>petal_length</th>\n      <th>petal_width</th>\n      <th>species</th>\n      <th>Label</th>\n      <th>Score</th>\n    </tr>\n  </thead>\n  <tbody>\n    <tr>\n      <th>0</th>\n      <td>5.4</td>\n      <td>3.9</td>\n      <td>1.7</td>\n      <td>0.4</td>\n      <td>Iris-setosa</td>\n      <td>0</td>\n      <td>-0.089128</td>\n    </tr>\n    <tr>\n      <th>1</th>\n      <td>4.6</td>\n      <td>3.4</td>\n      <td>1.4</td>\n      <td>0.3</td>\n      <td>Iris-setosa</td>\n      <td>0</td>\n      <td>-0.105286</td>\n    </tr>\n    <tr>\n      <th>2</th>\n      <td>5.0</td>\n      <td>3.4</td>\n      <td>1.5</td>\n      <td>0.2</td>\n      <td>Iris-setosa</td>\n      <td>0</td>\n      <td>-0.184506</td>\n    </tr>\n    <tr>\n      <th>3</th>\n      <td>4.4</td>\n      <td>2.9</td>\n      <td>1.4</td>\n      <td>0.2</td>\n      <td>Iris-setosa</td>\n      <td>0</td>\n      <td>-0.075716</td>\n    </tr>\n    <tr>\n      <th>4</th>\n      <td>4.9</td>\n      <td>3.1</td>\n      <td>1.5</td>\n      <td>0.1</td>\n      <td>Iris-setosa</td>\n      <td>0</td>\n      <td>-0.118184</td>\n    </tr>\n  </tbody>\n</table>\n</div>"
     },
     "metadata": {},
     "execution_count": 8
    }
   ],
   "source": [
    "iforest_results = assign_model(iforest)\n",
    "iforest_results.head()"
   ]
  },
  {
   "cell_type": "code",
   "execution_count": 9,
   "metadata": {},
   "outputs": [
    {
     "output_type": "display_data",
     "data": {
      "text/html": "        <script type=\"text/javascript\">\n        window.PlotlyConfig = {MathJaxConfig: 'local'};\n        if (window.MathJax) {MathJax.Hub.Config({SVG: {font: \"STIX-Web\"}});}\n        if (typeof require !== 'undefined') {\n        require.undef(\"plotly\");\n        requirejs.config({\n            paths: {\n                'plotly': ['https://cdn.plot.ly/plotly-latest.min']\n            }\n        });\n        require(['plotly'], function(Plotly) {\n            window._Plotly = Plotly;\n        });\n        }\n        </script>\n        "
     },
     "metadata": {}
    },
    {
     "output_type": "display_data",
     "data": {
      "application/vnd.plotly.v1+json": {
       "config": {
        "plotlyServerURL": "https://plot.ly"
       },
       "data": [
        {
         "customdata": [
          [
           5.4
          ],
          [
           4.6
          ],
          [
           5
          ],
          [
           4.4
          ],
          [
           4.9
          ],
          [
           5.4
          ],
          [
           4.8
          ],
          [
           4.8
          ],
          [
           4.3
          ],
          [
           5.8
          ],
          [
           5.7
          ],
          [
           5.4
          ],
          [
           5.1
          ],
          [
           5.7
          ],
          [
           5.1
          ],
          [
           5.4
          ],
          [
           5.1
          ],
          [
           4.6
          ],
          [
           5.1
          ],
          [
           4.8
          ],
          [
           5
          ],
          [
           5
          ],
          [
           5.2
          ],
          [
           5.2
          ],
          [
           4.7
          ],
          [
           4.8
          ],
          [
           5.4
          ],
          [
           5.2
          ],
          [
           5.5
          ],
          [
           4.9
          ],
          [
           5
          ],
          [
           5.5
          ],
          [
           4.9
          ],
          [
           4.4
          ],
          [
           5.1
          ],
          [
           5
          ],
          [
           4.5
          ],
          [
           4.4
          ],
          [
           5
          ],
          [
           5.1
          ],
          [
           4.8
          ],
          [
           5.1
          ],
          [
           4.6
          ],
          [
           5.3
          ],
          [
           5
          ],
          [
           5.7
          ],
          [
           6.3
          ],
          [
           4.9
          ],
          [
           6.6
          ],
          [
           5.2
          ],
          [
           5
          ],
          [
           5.9
          ],
          [
           6
          ],
          [
           6.1
          ],
          [
           5.6
          ],
          [
           6.7
          ],
          [
           5.6
          ],
          [
           5.8
          ],
          [
           6.2
          ],
          [
           5.6
          ],
          [
           5.9
          ],
          [
           6.1
          ],
          [
           6.3
          ],
          [
           6.1
          ],
          [
           6.4
          ],
          [
           6.6
          ],
          [
           6.8
          ],
          [
           6.7
          ],
          [
           6
          ],
          [
           5.7
          ],
          [
           5.5
          ],
          [
           5.5
          ],
          [
           5.8
          ],
          [
           6
          ],
          [
           5.4
          ],
          [
           6
          ],
          [
           6.7
          ],
          [
           6.3
          ],
          [
           5.6
          ],
          [
           5.5
          ],
          [
           5.5
          ],
          [
           6.1
          ],
          [
           5.8
          ],
          [
           5
          ],
          [
           5.6
          ],
          [
           5.7
          ],
          [
           5.7
          ],
          [
           6.2
          ],
          [
           5.1
          ],
          [
           5.7
          ],
          [
           7.6
          ],
          [
           4.9
          ],
          [
           7.3
          ],
          [
           6.7
          ],
          [
           7.2
          ],
          [
           6.5
          ],
          [
           6.4
          ],
          [
           6.8
          ],
          [
           5.7
          ],
          [
           5.8
          ],
          [
           6.4
          ],
          [
           6.5
          ],
          [
           7.7
          ],
          [
           7.7
          ],
          [
           6
          ],
          [
           6.9
          ],
          [
           5.6
          ],
          [
           7.7
          ],
          [
           6.3
          ],
          [
           6.7
          ],
          [
           7.2
          ],
          [
           6.2
          ],
          [
           6.1
          ],
          [
           6.4
          ],
          [
           7.2
          ],
          [
           7.4
          ],
          [
           7.9
          ],
          [
           6.4
          ],
          [
           6.3
          ],
          [
           6.1
          ],
          [
           7.7
          ],
          [
           6.3
          ],
          [
           6.4
          ],
          [
           6
          ],
          [
           6.9
          ],
          [
           6.7
          ],
          [
           6.9
          ],
          [
           5.8
          ],
          [
           6.8
          ],
          [
           6.7
          ],
          [
           6.7
          ],
          [
           6.3
          ],
          [
           6.5
          ],
          [
           6.2
          ],
          [
           5.9
          ]
         ],
         "hoverlabel": {
          "namelength": 0
         },
         "hovertemplate": "0=%{x}<br>1=%{y}<br>2=%{z}<br>Feature=%{customdata[0]}<br>Label=%{marker.color}",
         "legendgroup": "",
         "marker": {
          "color": [
           0,
           0,
           0,
           0,
           0,
           0,
           0,
           0,
           1,
           0,
           1,
           0,
           0,
           0,
           0,
           0,
           0,
           0,
           0,
           0,
           0,
           0,
           0,
           0,
           0,
           0,
           0,
           0,
           0,
           0,
           0,
           0,
           0,
           0,
           0,
           0,
           0,
           0,
           0,
           0,
           0,
           0,
           0,
           0,
           0,
           0,
           0,
           0,
           0,
           0,
           0,
           0,
           0,
           0,
           0,
           0,
           0,
           0,
           0,
           0,
           0,
           0,
           0,
           0,
           0,
           0,
           0,
           0,
           0,
           0,
           0,
           0,
           0,
           0,
           0,
           0,
           0,
           0,
           0,
           0,
           0,
           0,
           0,
           0,
           0,
           0,
           0,
           0,
           0,
           0,
           0,
           1,
           0,
           0,
           1,
           0,
           0,
           0,
           0,
           0,
           0,
           0,
           1,
           1,
           0,
           0,
           0,
           0,
           0,
           0,
           0,
           0,
           0,
           0,
           0,
           0,
           1,
           0,
           0,
           0,
           0,
           0,
           0,
           0,
           0,
           0,
           0,
           0,
           0,
           0,
           0,
           0,
           0,
           0,
           0
          ],
          "coloraxis": "coloraxis",
          "opacity": 0.7,
          "symbol": "circle"
         },
         "mode": "markers",
         "name": "",
         "scene": "scene",
         "showlegend": false,
         "type": "scatter3d",
         "x": [
          -106.65620422363281,
          41.56621170043945,
          -49.76525115966797,
          46.310951232910156,
          77.53370666503906,
          -102.55310821533203,
          -44.38821792602539,
          68.51079559326172,
          7.961650848388672,
          -140.64596557617188,
          -105.64265441894531,
          -98.20475769042969,
          31.372047424316406,
          -133.60134887695312,
          -60.10695266723633,
          -13.237191200256348,
          -52.72543716430664,
          -48.138084411621094,
          1.572667121887207,
          4.046730995178223,
          3.4984512329101562,
          -33.63207244873047,
          70.53412628173828,
          -2.435732126235962,
          31.804489135742188,
          46.37993240356445,
          -17.51605224609375,
          124.13157653808594,
          -146.81222534179688,
          79.31270599365234,
          33.91040802001953,
          -55.682029724121094,
          -41.98566436767578,
          78.41547393798828,
          -71.03874206542969,
          -42.49589157104492,
          78.8525161743164,
          18.918724060058594,
          -106.7878189086914,
          -73.17938232421875,
          107.0864486694336,
          -99.78746795654297,
          -1.8768576383590698,
          155.09841918945312,
          1.5177628993988037,
          110.5551986694336,
          1.9384864568710327,
          32.92471694946289,
          152.955078125,
          31.34591293334961,
          31.85524559020996,
          8.76002311706543,
          63.863426208496094,
          65.98875427246094,
          75.27410125732422,
          100.26817321777344,
          41.123531341552734,
          -41.98274612426758,
          -12.38677978515625,
          -72.51378631591797,
          61.1848258972168,
          109.41667938232422,
          -3.6957457065582275,
          -65.2848129272461,
          49.28594207763672,
          67.88549041748047,
          30.651262283325195,
          129.68997192382812,
          47.00897216796875,
          95.3154525756836,
          2.2333643436431885,
          32.57876968383789,
          105.48716735839844,
          116.78926849365234,
          4.246708869934082,
          34.76055908203125,
          51.386165618896484,
          -38.681549072265625,
          -26.514719009399414,
          67.46366119384766,
          67.23682403564453,
          15.076898574829102,
          26.470155715942383,
          -25.98233985900879,
          -19.60700798034668,
          84.18207550048828,
          0.04310310631990433,
          19.650352478027344,
          87.6574478149414,
          -108.78527069091797,
          -110.54095458984375,
          -123.59038543701172,
          -93.51641082763672,
          -51.7259635925293,
          -41.30195617675781,
          100.14447784423828,
          86.14724731445312,
          -62.95420837402344,
          270.6312561035156,
          32.06338119506836,
          -53.73834991455078,
          26.380956649780273,
          70.96311950683594,
          -140.65435791015625,
          -73.1637954711914,
          -14.554642677307129,
          22.546369552612305,
          -103.10797882080078,
          -73.0792465209961,
          -8.4874906539917,
          -49.22404861450195,
          32.17470932006836,
          -44.1484489440918,
          -10.310107231140137,
          -84.9735336303711,
          -68.33177947998047,
          42.84176254272461,
          -55.35859298706055,
          -29.002742767333984,
          83.46774291992188,
          -93.21174621582031,
          -9.963173866271973,
          -35.16241455078125,
          68.32936096191406,
          -108.89375305175781,
          12.42432975769043,
          -33.888755798339844,
          4.488262176513672,
          4.1127729415893555,
          -19.978923797607422,
          -146.9942169189453,
          54.809417724609375,
          -17.443342208862305,
          40.50074005126953,
          -20.579296112060547
         ],
         "y": [
          -85.44525146484375,
          -36.660518646240234,
          -5.780517101287842,
          -130.2882843017578,
          -46.11729431152344,
          -70.35174560546875,
          27.734464645385742,
          -89.51932525634766,
          33.52368927001953,
          -48.65631866455078,
          -45.75703811645508,
          -22.55557632446289,
          16.291746139526367,
          0.3784324526786804,
          -92.38411712646484,
          -26.046966552734375,
          -97.53919982910156,
          -46.35737228393555,
          -62.868770599365234,
          -68.75297546386719,
          61.78855514526367,
          -30.384273529052734,
          -1.6225241422653198,
          -15.381367683410645,
          -86.56991577148438,
          -82.4942626953125,
          -36.595726013183594,
          -22.102855682373047,
          -55.67080307006836,
          -71.00396728515625,
          -33.16975402832031,
          0.0720323771238327,
          48.78874969482422,
          -124.22759246826172,
          119.90489959716797,
          -63.707149505615234,
          -153.08592224121094,
          -120.48079681396484,
          87.72447204589844,
          -53.901268005371094,
          -87.14002990722656,
          -21.219213485717773,
          -118.219482421875,
          -23.15903663635254,
          8.250203132629395,
          97.53584289550781,
          68.08678436279297,
          -25.649044036865234,
          72.94929504394531,
          46.10988998413086,
          -14.166563987731934,
          119.36489868164062,
          14.78816032409668,
          98.92241668701172,
          56.96111297607422,
          149.55233764648438,
          144.40921020507812,
          92.92826080322266,
          16.418563842773438,
          -145.84556579589844,
          180.8693084716797,
          -16.56438446044922,
          83.36466217041016,
          52.963321685791016,
          86.44938659667969,
          151.1532745361328,
          135.55120849609375,
          30.883668899536133,
          135.82406616210938,
          52.587154388427734,
          -170.26170349121094,
          -141.56101989746094,
          89.53229522705078,
          38.23274612426758,
          170.04617309570312,
          192.6288299560547,
          107.79095458984375,
          117.875732421875,
          142.64276123046875,
          8.886750221252441,
          56.332366943359375,
          142.83364868164062,
          42.4743766784668,
          130.09507751464844,
          68.64862823486328,
          127.30343627929688,
          118.674560546875,
          97.26696014404297,
          72.7930908203125,
          90.10440063476562,
          -59.39167404174805,
          82.35076141357422,
          -44.003360748291016,
          66.82624053955078,
          -127.62832641601562,
          46.089290618896484,
          102.24726867675781,
          -5.997595310211182,
          78.41920471191406,
          45.31026077270508,
          -94.08851623535156,
          -13.918342590332031,
          -77.56332397460938,
          -60.730281829833984,
          69.6254653930664,
          -41.89202880859375,
          -80.28670501708984,
          -12.557168960571289,
          17.26803207397461,
          -88.51277923583984,
          -65.98330688476562,
          24.485761642456055,
          7.9670023918151855,
          21.97760772705078,
          -59.204612731933594,
          -40.59064865112305,
          -111.56864166259766,
          18.838756561279297,
          -1.099482536315918,
          8.370382308959961,
          -90.67273712158203,
          -83.61944580078125,
          -34.120819091796875,
          7.602353572845459,
          -6.014246940612793,
          -28.55242156982422,
          31.298860549926758,
          66.39894104003906,
          -60.7323112487793,
          -106.41033935546875,
          3.647142171859741,
          -18.877939224243164,
          -6.676612854003906,
          -81.12349700927734,
          -51.630130767822266
         ],
         "z": [
          90.81295013427734,
          139.34654235839844,
          136.65892028808594,
          56.44948196411133,
          61.51654052734375,
          33.3160285949707,
          99.68516540527344,
          31.116159439086914,
          176.1312255859375,
          108.46363067626953,
          147.0005340576172,
          98.4690933227539,
          122.09711456298828,
          73.97163391113281,
          46.96272659301758,
          57.066612243652344,
          95.4755630493164,
          23.184423446655273,
          104.27870178222656,
          50.573516845703125,
          126.4055404663086,
          98.13298034667969,
          102.15792083740234,
          128.55862426757812,
          139.71728515625,
          79.80522155761719,
          168.9792022705078,
          130.2628631591797,
          59.87876892089844,
          114.6949691772461,
          83.44939422607422,
          59.638790130615234,
          150.74826049804688,
          94.14299011230469,
          95.09397888183594,
          132.7544403076172,
          29.2496337890625,
          103.77996826171875,
          61.5142707824707,
          73.42330169677734,
          68.50526428222656,
          40.22245788574219,
          50.15847396850586,
          -41.242740631103516,
          84.94933319091797,
          25.28447914123535,
          62.841102600097656,
          -24.883188247680664,
          5.733494758605957,
          16.9368839263916,
          19.183229446411133,
          46.145545959472656,
          41.360198974609375,
          11.03090763092041,
          -6.596818923950195,
          1.4441537857055664,
          77.9173583984375,
          40.42586898803711,
          8.422046661376953,
          16.046001434326172,
          39.72906494140625,
          2.817162036895752,
          -47.105224609375,
          19.699718475341797,
          54.02106475830078,
          -33.42887878417969,
          -70.29969787597656,
          15.91298770904541,
          23.696800231933594,
          51.072349548339844,
          -81.98843383789062,
          -45.50089645385742,
          -30.394439697265625,
          -43.33415222167969,
          51.2255744934082,
          -1.7998114824295044,
          -35.949974060058594,
          -40.539329528808594,
          20.2922420501709,
          -20.426185607910156,
          -60.76837921142578,
          -11.199761390686035,
          -31.60883140563965,
          -104.35545349121094,
          0.36886465549468994,
          60.83718490600586,
          92.49618530273438,
          6.387728214263916,
          98.72464752197266,
          -92.80781555175781,
          -52.28022766113281,
          -30.10858154296875,
          -104.27869415283203,
          -98.79696655273438,
          -86.76600646972656,
          152.26800537109375,
          -109.53851318359375,
          -125.7114486694336,
          6.3532185554504395,
          -145.73439025878906,
          -44.019222259521484,
          -126.55525970458984,
          -135.0137481689453,
          -92.9646224975586,
          -48.4197998046875,
          -86.51286315917969,
          -26.432065963745117,
          -73.63411712646484,
          -35.20417404174805,
          -83.50360107421875,
          -112.48102569580078,
          -96.23629760742188,
          -185.64297485351562,
          -80.19109344482422,
          -147.10964965820312,
          -65.47889709472656,
          -137.8095245361328,
          -84.74059295654297,
          -44.0799674987793,
          -109.6391372680664,
          -90.57803344726562,
          -171.3568878173828,
          -156.3016357421875,
          184.59024047851562,
          -136.1270751953125,
          -170.95455932617188,
          -143.227783203125,
          -108.05622100830078,
          -126.36032104492188,
          -128.90428161621094,
          -70.02120971679688,
          -76.3431167602539,
          -118.95854187011719,
          -85.60968017578125,
          -33.08096694946289
         ]
        }
       ],
       "layout": {
        "coloraxis": {
         "colorbar": {
          "title": {
           "text": "Label"
          }
         },
         "colorscale": [
          [
           0,
           "#0d0887"
          ],
          [
           0.1111111111111111,
           "#46039f"
          ],
          [
           0.2222222222222222,
           "#7201a8"
          ],
          [
           0.3333333333333333,
           "#9c179e"
          ],
          [
           0.4444444444444444,
           "#bd3786"
          ],
          [
           0.5555555555555556,
           "#d8576b"
          ],
          [
           0.6666666666666666,
           "#ed7953"
          ],
          [
           0.7777777777777778,
           "#fb9f3a"
          ],
          [
           0.8888888888888888,
           "#fdca26"
          ],
          [
           1,
           "#f0f921"
          ]
         ]
        },
        "height": 800,
        "legend": {
         "tracegroupgap": 0
        },
        "scene": {
         "domain": {
          "x": [
           0,
           1
          ],
          "y": [
           0,
           1
          ]
         },
         "xaxis": {
          "title": {
           "text": "0"
          }
         },
         "yaxis": {
          "title": {
           "text": "1"
          }
         },
         "zaxis": {
          "title": {
           "text": "2"
          }
         }
        },
        "template": {
         "data": {
          "bar": [
           {
            "error_x": {
             "color": "#2a3f5f"
            },
            "error_y": {
             "color": "#2a3f5f"
            },
            "marker": {
             "line": {
              "color": "#E5ECF6",
              "width": 0.5
             }
            },
            "type": "bar"
           }
          ],
          "barpolar": [
           {
            "marker": {
             "line": {
              "color": "#E5ECF6",
              "width": 0.5
             }
            },
            "type": "barpolar"
           }
          ],
          "carpet": [
           {
            "aaxis": {
             "endlinecolor": "#2a3f5f",
             "gridcolor": "white",
             "linecolor": "white",
             "minorgridcolor": "white",
             "startlinecolor": "#2a3f5f"
            },
            "baxis": {
             "endlinecolor": "#2a3f5f",
             "gridcolor": "white",
             "linecolor": "white",
             "minorgridcolor": "white",
             "startlinecolor": "#2a3f5f"
            },
            "type": "carpet"
           }
          ],
          "choropleth": [
           {
            "colorbar": {
             "outlinewidth": 0,
             "ticks": ""
            },
            "type": "choropleth"
           }
          ],
          "contour": [
           {
            "colorbar": {
             "outlinewidth": 0,
             "ticks": ""
            },
            "colorscale": [
             [
              0,
              "#0d0887"
             ],
             [
              0.1111111111111111,
              "#46039f"
             ],
             [
              0.2222222222222222,
              "#7201a8"
             ],
             [
              0.3333333333333333,
              "#9c179e"
             ],
             [
              0.4444444444444444,
              "#bd3786"
             ],
             [
              0.5555555555555556,
              "#d8576b"
             ],
             [
              0.6666666666666666,
              "#ed7953"
             ],
             [
              0.7777777777777778,
              "#fb9f3a"
             ],
             [
              0.8888888888888888,
              "#fdca26"
             ],
             [
              1,
              "#f0f921"
             ]
            ],
            "type": "contour"
           }
          ],
          "contourcarpet": [
           {
            "colorbar": {
             "outlinewidth": 0,
             "ticks": ""
            },
            "type": "contourcarpet"
           }
          ],
          "heatmap": [
           {
            "colorbar": {
             "outlinewidth": 0,
             "ticks": ""
            },
            "colorscale": [
             [
              0,
              "#0d0887"
             ],
             [
              0.1111111111111111,
              "#46039f"
             ],
             [
              0.2222222222222222,
              "#7201a8"
             ],
             [
              0.3333333333333333,
              "#9c179e"
             ],
             [
              0.4444444444444444,
              "#bd3786"
             ],
             [
              0.5555555555555556,
              "#d8576b"
             ],
             [
              0.6666666666666666,
              "#ed7953"
             ],
             [
              0.7777777777777778,
              "#fb9f3a"
             ],
             [
              0.8888888888888888,
              "#fdca26"
             ],
             [
              1,
              "#f0f921"
             ]
            ],
            "type": "heatmap"
           }
          ],
          "heatmapgl": [
           {
            "colorbar": {
             "outlinewidth": 0,
             "ticks": ""
            },
            "colorscale": [
             [
              0,
              "#0d0887"
             ],
             [
              0.1111111111111111,
              "#46039f"
             ],
             [
              0.2222222222222222,
              "#7201a8"
             ],
             [
              0.3333333333333333,
              "#9c179e"
             ],
             [
              0.4444444444444444,
              "#bd3786"
             ],
             [
              0.5555555555555556,
              "#d8576b"
             ],
             [
              0.6666666666666666,
              "#ed7953"
             ],
             [
              0.7777777777777778,
              "#fb9f3a"
             ],
             [
              0.8888888888888888,
              "#fdca26"
             ],
             [
              1,
              "#f0f921"
             ]
            ],
            "type": "heatmapgl"
           }
          ],
          "histogram": [
           {
            "marker": {
             "colorbar": {
              "outlinewidth": 0,
              "ticks": ""
             }
            },
            "type": "histogram"
           }
          ],
          "histogram2d": [
           {
            "colorbar": {
             "outlinewidth": 0,
             "ticks": ""
            },
            "colorscale": [
             [
              0,
              "#0d0887"
             ],
             [
              0.1111111111111111,
              "#46039f"
             ],
             [
              0.2222222222222222,
              "#7201a8"
             ],
             [
              0.3333333333333333,
              "#9c179e"
             ],
             [
              0.4444444444444444,
              "#bd3786"
             ],
             [
              0.5555555555555556,
              "#d8576b"
             ],
             [
              0.6666666666666666,
              "#ed7953"
             ],
             [
              0.7777777777777778,
              "#fb9f3a"
             ],
             [
              0.8888888888888888,
              "#fdca26"
             ],
             [
              1,
              "#f0f921"
             ]
            ],
            "type": "histogram2d"
           }
          ],
          "histogram2dcontour": [
           {
            "colorbar": {
             "outlinewidth": 0,
             "ticks": ""
            },
            "colorscale": [
             [
              0,
              "#0d0887"
             ],
             [
              0.1111111111111111,
              "#46039f"
             ],
             [
              0.2222222222222222,
              "#7201a8"
             ],
             [
              0.3333333333333333,
              "#9c179e"
             ],
             [
              0.4444444444444444,
              "#bd3786"
             ],
             [
              0.5555555555555556,
              "#d8576b"
             ],
             [
              0.6666666666666666,
              "#ed7953"
             ],
             [
              0.7777777777777778,
              "#fb9f3a"
             ],
             [
              0.8888888888888888,
              "#fdca26"
             ],
             [
              1,
              "#f0f921"
             ]
            ],
            "type": "histogram2dcontour"
           }
          ],
          "mesh3d": [
           {
            "colorbar": {
             "outlinewidth": 0,
             "ticks": ""
            },
            "type": "mesh3d"
           }
          ],
          "parcoords": [
           {
            "line": {
             "colorbar": {
              "outlinewidth": 0,
              "ticks": ""
             }
            },
            "type": "parcoords"
           }
          ],
          "pie": [
           {
            "automargin": true,
            "type": "pie"
           }
          ],
          "scatter": [
           {
            "marker": {
             "colorbar": {
              "outlinewidth": 0,
              "ticks": ""
             }
            },
            "type": "scatter"
           }
          ],
          "scatter3d": [
           {
            "line": {
             "colorbar": {
              "outlinewidth": 0,
              "ticks": ""
             }
            },
            "marker": {
             "colorbar": {
              "outlinewidth": 0,
              "ticks": ""
             }
            },
            "type": "scatter3d"
           }
          ],
          "scattercarpet": [
           {
            "marker": {
             "colorbar": {
              "outlinewidth": 0,
              "ticks": ""
             }
            },
            "type": "scattercarpet"
           }
          ],
          "scattergeo": [
           {
            "marker": {
             "colorbar": {
              "outlinewidth": 0,
              "ticks": ""
             }
            },
            "type": "scattergeo"
           }
          ],
          "scattergl": [
           {
            "marker": {
             "colorbar": {
              "outlinewidth": 0,
              "ticks": ""
             }
            },
            "type": "scattergl"
           }
          ],
          "scattermapbox": [
           {
            "marker": {
             "colorbar": {
              "outlinewidth": 0,
              "ticks": ""
             }
            },
            "type": "scattermapbox"
           }
          ],
          "scatterpolar": [
           {
            "marker": {
             "colorbar": {
              "outlinewidth": 0,
              "ticks": ""
             }
            },
            "type": "scatterpolar"
           }
          ],
          "scatterpolargl": [
           {
            "marker": {
             "colorbar": {
              "outlinewidth": 0,
              "ticks": ""
             }
            },
            "type": "scatterpolargl"
           }
          ],
          "scatterternary": [
           {
            "marker": {
             "colorbar": {
              "outlinewidth": 0,
              "ticks": ""
             }
            },
            "type": "scatterternary"
           }
          ],
          "surface": [
           {
            "colorbar": {
             "outlinewidth": 0,
             "ticks": ""
            },
            "colorscale": [
             [
              0,
              "#0d0887"
             ],
             [
              0.1111111111111111,
              "#46039f"
             ],
             [
              0.2222222222222222,
              "#7201a8"
             ],
             [
              0.3333333333333333,
              "#9c179e"
             ],
             [
              0.4444444444444444,
              "#bd3786"
             ],
             [
              0.5555555555555556,
              "#d8576b"
             ],
             [
              0.6666666666666666,
              "#ed7953"
             ],
             [
              0.7777777777777778,
              "#fb9f3a"
             ],
             [
              0.8888888888888888,
              "#fdca26"
             ],
             [
              1,
              "#f0f921"
             ]
            ],
            "type": "surface"
           }
          ],
          "table": [
           {
            "cells": {
             "fill": {
              "color": "#EBF0F8"
             },
             "line": {
              "color": "white"
             }
            },
            "header": {
             "fill": {
              "color": "#C8D4E3"
             },
             "line": {
              "color": "white"
             }
            },
            "type": "table"
           }
          ]
         },
         "layout": {
          "annotationdefaults": {
           "arrowcolor": "#2a3f5f",
           "arrowhead": 0,
           "arrowwidth": 1
          },
          "coloraxis": {
           "colorbar": {
            "outlinewidth": 0,
            "ticks": ""
           }
          },
          "colorscale": {
           "diverging": [
            [
             0,
             "#8e0152"
            ],
            [
             0.1,
             "#c51b7d"
            ],
            [
             0.2,
             "#de77ae"
            ],
            [
             0.3,
             "#f1b6da"
            ],
            [
             0.4,
             "#fde0ef"
            ],
            [
             0.5,
             "#f7f7f7"
            ],
            [
             0.6,
             "#e6f5d0"
            ],
            [
             0.7,
             "#b8e186"
            ],
            [
             0.8,
             "#7fbc41"
            ],
            [
             0.9,
             "#4d9221"
            ],
            [
             1,
             "#276419"
            ]
           ],
           "sequential": [
            [
             0,
             "#0d0887"
            ],
            [
             0.1111111111111111,
             "#46039f"
            ],
            [
             0.2222222222222222,
             "#7201a8"
            ],
            [
             0.3333333333333333,
             "#9c179e"
            ],
            [
             0.4444444444444444,
             "#bd3786"
            ],
            [
             0.5555555555555556,
             "#d8576b"
            ],
            [
             0.6666666666666666,
             "#ed7953"
            ],
            [
             0.7777777777777778,
             "#fb9f3a"
            ],
            [
             0.8888888888888888,
             "#fdca26"
            ],
            [
             1,
             "#f0f921"
            ]
           ],
           "sequentialminus": [
            [
             0,
             "#0d0887"
            ],
            [
             0.1111111111111111,
             "#46039f"
            ],
            [
             0.2222222222222222,
             "#7201a8"
            ],
            [
             0.3333333333333333,
             "#9c179e"
            ],
            [
             0.4444444444444444,
             "#bd3786"
            ],
            [
             0.5555555555555556,
             "#d8576b"
            ],
            [
             0.6666666666666666,
             "#ed7953"
            ],
            [
             0.7777777777777778,
             "#fb9f3a"
            ],
            [
             0.8888888888888888,
             "#fdca26"
            ],
            [
             1,
             "#f0f921"
            ]
           ]
          },
          "colorway": [
           "#636efa",
           "#EF553B",
           "#00cc96",
           "#ab63fa",
           "#FFA15A",
           "#19d3f3",
           "#FF6692",
           "#B6E880",
           "#FF97FF",
           "#FECB52"
          ],
          "font": {
           "color": "#2a3f5f"
          },
          "geo": {
           "bgcolor": "white",
           "lakecolor": "white",
           "landcolor": "#E5ECF6",
           "showlakes": true,
           "showland": true,
           "subunitcolor": "white"
          },
          "hoverlabel": {
           "align": "left"
          },
          "hovermode": "closest",
          "mapbox": {
           "style": "light"
          },
          "paper_bgcolor": "white",
          "plot_bgcolor": "#E5ECF6",
          "polar": {
           "angularaxis": {
            "gridcolor": "white",
            "linecolor": "white",
            "ticks": ""
           },
           "bgcolor": "#E5ECF6",
           "radialaxis": {
            "gridcolor": "white",
            "linecolor": "white",
            "ticks": ""
           }
          },
          "scene": {
           "xaxis": {
            "backgroundcolor": "#E5ECF6",
            "gridcolor": "white",
            "gridwidth": 2,
            "linecolor": "white",
            "showbackground": true,
            "ticks": "",
            "zerolinecolor": "white"
           },
           "yaxis": {
            "backgroundcolor": "#E5ECF6",
            "gridcolor": "white",
            "gridwidth": 2,
            "linecolor": "white",
            "showbackground": true,
            "ticks": "",
            "zerolinecolor": "white"
           },
           "zaxis": {
            "backgroundcolor": "#E5ECF6",
            "gridcolor": "white",
            "gridwidth": 2,
            "linecolor": "white",
            "showbackground": true,
            "ticks": "",
            "zerolinecolor": "white"
           }
          },
          "shapedefaults": {
           "line": {
            "color": "#2a3f5f"
           }
          },
          "ternary": {
           "aaxis": {
            "gridcolor": "white",
            "linecolor": "white",
            "ticks": ""
           },
           "baxis": {
            "gridcolor": "white",
            "linecolor": "white",
            "ticks": ""
           },
           "bgcolor": "#E5ECF6",
           "caxis": {
            "gridcolor": "white",
            "linecolor": "white",
            "ticks": ""
           }
          },
          "title": {
           "x": 0.05
          },
          "xaxis": {
           "automargin": true,
           "gridcolor": "white",
           "linecolor": "white",
           "ticks": "",
           "title": {
            "standoff": 15
           },
           "zerolinecolor": "white",
           "zerolinewidth": 2
          },
          "yaxis": {
           "automargin": true,
           "gridcolor": "white",
           "linecolor": "white",
           "ticks": "",
           "title": {
            "standoff": 15
           },
           "zerolinecolor": "white",
           "zerolinewidth": 2
          }
         }
        },
        "title": {
         "text": "3d TSNE Plot for Outliers"
        },
        "width": 900
       }
      },
      "text/html": "<div>\n        \n        \n            <div id=\"4c1e7a39-5fc1-4654-af1c-a5272effd7bb\" class=\"plotly-graph-div\" style=\"height:800px; width:900px;\"></div>\n            <script type=\"text/javascript\">\n                require([\"plotly\"], function(Plotly) {\n                    window.PLOTLYENV=window.PLOTLYENV || {};\n                    \n                if (document.getElementById(\"4c1e7a39-5fc1-4654-af1c-a5272effd7bb\")) {\n                    Plotly.newPlot(\n                        '4c1e7a39-5fc1-4654-af1c-a5272effd7bb',\n                        [{\"customdata\": [[5.4], [4.6], [5.0], [4.4], [4.9], [5.4], [4.8], [4.8], [4.3], [5.8], [5.7], [5.4], [5.1], [5.7], [5.1], [5.4], [5.1], [4.6], [5.1], [4.8], [5.0], [5.0], [5.2], [5.2], [4.7], [4.8], [5.4], [5.2], [5.5], [4.9], [5.0], [5.5], [4.9], [4.4], [5.1], [5.0], [4.5], [4.4], [5.0], [5.1], [4.8], [5.1], [4.6], [5.3], [5.0], [5.7], [6.3], [4.9], [6.6], [5.2], [5.0], [5.9], [6.0], [6.1], [5.6], [6.7], [5.6], [5.8], [6.2], [5.6], [5.9], [6.1], [6.3], [6.1], [6.4], [6.6], [6.8], [6.7], [6.0], [5.7], [5.5], [5.5], [5.8], [6.0], [5.4], [6.0], [6.7], [6.3], [5.6], [5.5], [5.5], [6.1], [5.8], [5.0], [5.6], [5.7], [5.7], [6.2], [5.1], [5.7], [7.6], [4.9], [7.3], [6.7], [7.2], [6.5], [6.4], [6.8], [5.7], [5.8], [6.4], [6.5], [7.7], [7.7], [6.0], [6.9], [5.6], [7.7], [6.3], [6.7], [7.2], [6.2], [6.1], [6.4], [7.2], [7.4], [7.9], [6.4], [6.3], [6.1], [7.7], [6.3], [6.4], [6.0], [6.9], [6.7], [6.9], [5.8], [6.8], [6.7], [6.7], [6.3], [6.5], [6.2], [5.9]], \"hoverlabel\": {\"namelength\": 0}, \"hovertemplate\": \"0=%{x}<br>1=%{y}<br>2=%{z}<br>Feature=%{customdata[0]}<br>Label=%{marker.color}\", \"legendgroup\": \"\", \"marker\": {\"color\": [0, 0, 0, 0, 0, 0, 0, 0, 1, 0, 1, 0, 0, 0, 0, 0, 0, 0, 0, 0, 0, 0, 0, 0, 0, 0, 0, 0, 0, 0, 0, 0, 0, 0, 0, 0, 0, 0, 0, 0, 0, 0, 0, 0, 0, 0, 0, 0, 0, 0, 0, 0, 0, 0, 0, 0, 0, 0, 0, 0, 0, 0, 0, 0, 0, 0, 0, 0, 0, 0, 0, 0, 0, 0, 0, 0, 0, 0, 0, 0, 0, 0, 0, 0, 0, 0, 0, 0, 0, 0, 0, 1, 0, 0, 1, 0, 0, 0, 0, 0, 0, 0, 1, 1, 0, 0, 0, 0, 0, 0, 0, 0, 0, 0, 0, 0, 1, 0, 0, 0, 0, 0, 0, 0, 0, 0, 0, 0, 0, 0, 0, 0, 0, 0, 0], \"coloraxis\": \"coloraxis\", \"opacity\": 0.7, \"symbol\": \"circle\"}, \"mode\": \"markers\", \"name\": \"\", \"scene\": \"scene\", \"showlegend\": false, \"type\": \"scatter3d\", \"x\": [-106.65620422363281, 41.56621170043945, -49.76525115966797, 46.310951232910156, 77.53370666503906, -102.55310821533203, -44.38821792602539, 68.51079559326172, 7.961650848388672, -140.64596557617188, -105.64265441894531, -98.20475769042969, 31.372047424316406, -133.60134887695312, -60.10695266723633, -13.237191200256348, -52.72543716430664, -48.138084411621094, 1.572667121887207, 4.046730995178223, 3.4984512329101562, -33.63207244873047, 70.53412628173828, -2.435732126235962, 31.804489135742188, 46.37993240356445, -17.51605224609375, 124.13157653808594, -146.81222534179688, 79.31270599365234, 33.91040802001953, -55.682029724121094, -41.98566436767578, 78.41547393798828, -71.03874206542969, -42.49589157104492, 78.8525161743164, 18.918724060058594, -106.7878189086914, -73.17938232421875, 107.0864486694336, -99.78746795654297, -1.8768576383590698, 155.09841918945312, 1.5177628993988037, 110.5551986694336, 1.9384864568710327, 32.92471694946289, 152.955078125, 31.34591293334961, 31.85524559020996, 8.76002311706543, 63.863426208496094, 65.98875427246094, 75.27410125732422, 100.26817321777344, 41.123531341552734, -41.98274612426758, -12.38677978515625, -72.51378631591797, 61.1848258972168, 109.41667938232422, -3.6957457065582275, -65.2848129272461, 49.28594207763672, 67.88549041748047, 30.651262283325195, 129.68997192382812, 47.00897216796875, 95.3154525756836, 2.2333643436431885, 32.57876968383789, 105.48716735839844, 116.78926849365234, 4.246708869934082, 34.76055908203125, 51.386165618896484, -38.681549072265625, -26.514719009399414, 67.46366119384766, 67.23682403564453, 15.076898574829102, 26.470155715942383, -25.98233985900879, -19.60700798034668, 84.18207550048828, 0.04310310631990433, 19.650352478027344, 87.6574478149414, -108.78527069091797, -110.54095458984375, -123.59038543701172, -93.51641082763672, -51.7259635925293, -41.30195617675781, 100.14447784423828, 86.14724731445312, -62.95420837402344, 270.6312561035156, 32.06338119506836, -53.73834991455078, 26.380956649780273, 70.96311950683594, -140.65435791015625, -73.1637954711914, -14.554642677307129, 22.546369552612305, -103.10797882080078, -73.0792465209961, -8.4874906539917, -49.22404861450195, 32.17470932006836, -44.1484489440918, -10.310107231140137, -84.9735336303711, -68.33177947998047, 42.84176254272461, -55.35859298706055, -29.002742767333984, 83.46774291992188, -93.21174621582031, -9.963173866271973, -35.16241455078125, 68.32936096191406, -108.89375305175781, 12.42432975769043, -33.888755798339844, 4.488262176513672, 4.1127729415893555, -19.978923797607422, -146.9942169189453, 54.809417724609375, -17.443342208862305, 40.50074005126953, -20.579296112060547], \"y\": [-85.44525146484375, -36.660518646240234, -5.780517101287842, -130.2882843017578, -46.11729431152344, -70.35174560546875, 27.734464645385742, -89.51932525634766, 33.52368927001953, -48.65631866455078, -45.75703811645508, -22.55557632446289, 16.291746139526367, 0.3784324526786804, -92.38411712646484, -26.046966552734375, -97.53919982910156, -46.35737228393555, -62.868770599365234, -68.75297546386719, 61.78855514526367, -30.384273529052734, -1.6225241422653198, -15.381367683410645, -86.56991577148438, -82.4942626953125, -36.595726013183594, -22.102855682373047, -55.67080307006836, -71.00396728515625, -33.16975402832031, 0.0720323771238327, 48.78874969482422, -124.22759246826172, 119.90489959716797, -63.707149505615234, -153.08592224121094, -120.48079681396484, 87.72447204589844, -53.901268005371094, -87.14002990722656, -21.219213485717773, -118.219482421875, -23.15903663635254, 8.250203132629395, 97.53584289550781, 68.08678436279297, -25.649044036865234, 72.94929504394531, 46.10988998413086, -14.166563987731934, 119.36489868164062, 14.78816032409668, 98.92241668701172, 56.96111297607422, 149.55233764648438, 144.40921020507812, 92.92826080322266, 16.418563842773438, -145.84556579589844, 180.8693084716797, -16.56438446044922, 83.36466217041016, 52.963321685791016, 86.44938659667969, 151.1532745361328, 135.55120849609375, 30.883668899536133, 135.82406616210938, 52.587154388427734, -170.26170349121094, -141.56101989746094, 89.53229522705078, 38.23274612426758, 170.04617309570312, 192.6288299560547, 107.79095458984375, 117.875732421875, 142.64276123046875, 8.886750221252441, 56.332366943359375, 142.83364868164062, 42.4743766784668, 130.09507751464844, 68.64862823486328, 127.30343627929688, 118.674560546875, 97.26696014404297, 72.7930908203125, 90.10440063476562, -59.39167404174805, 82.35076141357422, -44.003360748291016, 66.82624053955078, -127.62832641601562, 46.089290618896484, 102.24726867675781, -5.997595310211182, 78.41920471191406, 45.31026077270508, -94.08851623535156, -13.918342590332031, -77.56332397460938, -60.730281829833984, 69.6254653930664, -41.89202880859375, -80.28670501708984, -12.557168960571289, 17.26803207397461, -88.51277923583984, -65.98330688476562, 24.485761642456055, 7.9670023918151855, 21.97760772705078, -59.204612731933594, -40.59064865112305, -111.56864166259766, 18.838756561279297, -1.099482536315918, 8.370382308959961, -90.67273712158203, -83.61944580078125, -34.120819091796875, 7.602353572845459, -6.014246940612793, -28.55242156982422, 31.298860549926758, 66.39894104003906, -60.7323112487793, -106.41033935546875, 3.647142171859741, -18.877939224243164, -6.676612854003906, -81.12349700927734, -51.630130767822266], \"z\": [90.81295013427734, 139.34654235839844, 136.65892028808594, 56.44948196411133, 61.51654052734375, 33.3160285949707, 99.68516540527344, 31.116159439086914, 176.1312255859375, 108.46363067626953, 147.0005340576172, 98.4690933227539, 122.09711456298828, 73.97163391113281, 46.96272659301758, 57.066612243652344, 95.4755630493164, 23.184423446655273, 104.27870178222656, 50.573516845703125, 126.4055404663086, 98.13298034667969, 102.15792083740234, 128.55862426757812, 139.71728515625, 79.80522155761719, 168.9792022705078, 130.2628631591797, 59.87876892089844, 114.6949691772461, 83.44939422607422, 59.638790130615234, 150.74826049804688, 94.14299011230469, 95.09397888183594, 132.7544403076172, 29.2496337890625, 103.77996826171875, 61.5142707824707, 73.42330169677734, 68.50526428222656, 40.22245788574219, 50.15847396850586, -41.242740631103516, 84.94933319091797, 25.28447914123535, 62.841102600097656, -24.883188247680664, 5.733494758605957, 16.9368839263916, 19.183229446411133, 46.145545959472656, 41.360198974609375, 11.03090763092041, -6.596818923950195, 1.4441537857055664, 77.9173583984375, 40.42586898803711, 8.422046661376953, 16.046001434326172, 39.72906494140625, 2.817162036895752, -47.105224609375, 19.699718475341797, 54.02106475830078, -33.42887878417969, -70.29969787597656, 15.91298770904541, 23.696800231933594, 51.072349548339844, -81.98843383789062, -45.50089645385742, -30.394439697265625, -43.33415222167969, 51.2255744934082, -1.7998114824295044, -35.949974060058594, -40.539329528808594, 20.2922420501709, -20.426185607910156, -60.76837921142578, -11.199761390686035, -31.60883140563965, -104.35545349121094, 0.36886465549468994, 60.83718490600586, 92.49618530273438, 6.387728214263916, 98.72464752197266, -92.80781555175781, -52.28022766113281, -30.10858154296875, -104.27869415283203, -98.79696655273438, -86.76600646972656, 152.26800537109375, -109.53851318359375, -125.7114486694336, 6.3532185554504395, -145.73439025878906, -44.019222259521484, -126.55525970458984, -135.0137481689453, -92.9646224975586, -48.4197998046875, -86.51286315917969, -26.432065963745117, -73.63411712646484, -35.20417404174805, -83.50360107421875, -112.48102569580078, -96.23629760742188, -185.64297485351562, -80.19109344482422, -147.10964965820312, -65.47889709472656, -137.8095245361328, -84.74059295654297, -44.0799674987793, -109.6391372680664, -90.57803344726562, -171.3568878173828, -156.3016357421875, 184.59024047851562, -136.1270751953125, -170.95455932617188, -143.227783203125, -108.05622100830078, -126.36032104492188, -128.90428161621094, -70.02120971679688, -76.3431167602539, -118.95854187011719, -85.60968017578125, -33.08096694946289]}],\n                        {\"coloraxis\": {\"colorbar\": {\"title\": {\"text\": \"Label\"}}, \"colorscale\": [[0.0, \"#0d0887\"], [0.1111111111111111, \"#46039f\"], [0.2222222222222222, \"#7201a8\"], [0.3333333333333333, \"#9c179e\"], [0.4444444444444444, \"#bd3786\"], [0.5555555555555556, \"#d8576b\"], [0.6666666666666666, \"#ed7953\"], [0.7777777777777778, \"#fb9f3a\"], [0.8888888888888888, \"#fdca26\"], [1.0, \"#f0f921\"]]}, \"height\": 800, \"legend\": {\"tracegroupgap\": 0}, \"scene\": {\"domain\": {\"x\": [0.0, 1.0], \"y\": [0.0, 1.0]}, \"xaxis\": {\"title\": {\"text\": \"0\"}}, \"yaxis\": {\"title\": {\"text\": \"1\"}}, \"zaxis\": {\"title\": {\"text\": \"2\"}}}, \"template\": {\"data\": {\"bar\": [{\"error_x\": {\"color\": \"#2a3f5f\"}, \"error_y\": {\"color\": \"#2a3f5f\"}, \"marker\": {\"line\": {\"color\": \"#E5ECF6\", \"width\": 0.5}}, \"type\": \"bar\"}], \"barpolar\": [{\"marker\": {\"line\": {\"color\": \"#E5ECF6\", \"width\": 0.5}}, \"type\": \"barpolar\"}], \"carpet\": [{\"aaxis\": {\"endlinecolor\": \"#2a3f5f\", \"gridcolor\": \"white\", \"linecolor\": \"white\", \"minorgridcolor\": \"white\", \"startlinecolor\": \"#2a3f5f\"}, \"baxis\": {\"endlinecolor\": \"#2a3f5f\", \"gridcolor\": \"white\", \"linecolor\": \"white\", \"minorgridcolor\": \"white\", \"startlinecolor\": \"#2a3f5f\"}, \"type\": \"carpet\"}], \"choropleth\": [{\"colorbar\": {\"outlinewidth\": 0, \"ticks\": \"\"}, \"type\": \"choropleth\"}], \"contour\": [{\"colorbar\": {\"outlinewidth\": 0, \"ticks\": \"\"}, \"colorscale\": [[0.0, \"#0d0887\"], [0.1111111111111111, \"#46039f\"], [0.2222222222222222, \"#7201a8\"], [0.3333333333333333, \"#9c179e\"], [0.4444444444444444, \"#bd3786\"], [0.5555555555555556, \"#d8576b\"], [0.6666666666666666, \"#ed7953\"], [0.7777777777777778, \"#fb9f3a\"], [0.8888888888888888, \"#fdca26\"], [1.0, \"#f0f921\"]], \"type\": \"contour\"}], \"contourcarpet\": [{\"colorbar\": {\"outlinewidth\": 0, \"ticks\": \"\"}, \"type\": \"contourcarpet\"}], \"heatmap\": [{\"colorbar\": {\"outlinewidth\": 0, \"ticks\": \"\"}, \"colorscale\": [[0.0, \"#0d0887\"], [0.1111111111111111, \"#46039f\"], [0.2222222222222222, \"#7201a8\"], [0.3333333333333333, \"#9c179e\"], [0.4444444444444444, \"#bd3786\"], [0.5555555555555556, \"#d8576b\"], [0.6666666666666666, \"#ed7953\"], [0.7777777777777778, \"#fb9f3a\"], [0.8888888888888888, \"#fdca26\"], [1.0, \"#f0f921\"]], \"type\": \"heatmap\"}], \"heatmapgl\": [{\"colorbar\": {\"outlinewidth\": 0, \"ticks\": \"\"}, \"colorscale\": [[0.0, \"#0d0887\"], [0.1111111111111111, \"#46039f\"], [0.2222222222222222, \"#7201a8\"], [0.3333333333333333, \"#9c179e\"], [0.4444444444444444, \"#bd3786\"], [0.5555555555555556, \"#d8576b\"], [0.6666666666666666, \"#ed7953\"], [0.7777777777777778, \"#fb9f3a\"], [0.8888888888888888, \"#fdca26\"], [1.0, \"#f0f921\"]], \"type\": \"heatmapgl\"}], \"histogram\": [{\"marker\": {\"colorbar\": {\"outlinewidth\": 0, \"ticks\": \"\"}}, \"type\": \"histogram\"}], \"histogram2d\": [{\"colorbar\": {\"outlinewidth\": 0, \"ticks\": \"\"}, \"colorscale\": [[0.0, \"#0d0887\"], [0.1111111111111111, \"#46039f\"], [0.2222222222222222, \"#7201a8\"], [0.3333333333333333, \"#9c179e\"], [0.4444444444444444, \"#bd3786\"], [0.5555555555555556, \"#d8576b\"], [0.6666666666666666, \"#ed7953\"], [0.7777777777777778, \"#fb9f3a\"], [0.8888888888888888, \"#fdca26\"], [1.0, \"#f0f921\"]], \"type\": \"histogram2d\"}], \"histogram2dcontour\": [{\"colorbar\": {\"outlinewidth\": 0, \"ticks\": \"\"}, \"colorscale\": [[0.0, \"#0d0887\"], [0.1111111111111111, \"#46039f\"], [0.2222222222222222, \"#7201a8\"], [0.3333333333333333, \"#9c179e\"], [0.4444444444444444, \"#bd3786\"], [0.5555555555555556, \"#d8576b\"], [0.6666666666666666, \"#ed7953\"], [0.7777777777777778, \"#fb9f3a\"], [0.8888888888888888, \"#fdca26\"], [1.0, \"#f0f921\"]], \"type\": \"histogram2dcontour\"}], \"mesh3d\": [{\"colorbar\": {\"outlinewidth\": 0, \"ticks\": \"\"}, \"type\": \"mesh3d\"}], \"parcoords\": [{\"line\": {\"colorbar\": {\"outlinewidth\": 0, \"ticks\": \"\"}}, \"type\": \"parcoords\"}], \"pie\": [{\"automargin\": true, \"type\": \"pie\"}], \"scatter\": [{\"marker\": {\"colorbar\": {\"outlinewidth\": 0, \"ticks\": \"\"}}, \"type\": \"scatter\"}], \"scatter3d\": [{\"line\": {\"colorbar\": {\"outlinewidth\": 0, \"ticks\": \"\"}}, \"marker\": {\"colorbar\": {\"outlinewidth\": 0, \"ticks\": \"\"}}, \"type\": \"scatter3d\"}], \"scattercarpet\": [{\"marker\": {\"colorbar\": {\"outlinewidth\": 0, \"ticks\": \"\"}}, \"type\": \"scattercarpet\"}], \"scattergeo\": [{\"marker\": {\"colorbar\": {\"outlinewidth\": 0, \"ticks\": \"\"}}, \"type\": \"scattergeo\"}], \"scattergl\": [{\"marker\": {\"colorbar\": {\"outlinewidth\": 0, \"ticks\": \"\"}}, \"type\": \"scattergl\"}], \"scattermapbox\": [{\"marker\": {\"colorbar\": {\"outlinewidth\": 0, \"ticks\": \"\"}}, \"type\": \"scattermapbox\"}], \"scatterpolar\": [{\"marker\": {\"colorbar\": {\"outlinewidth\": 0, \"ticks\": \"\"}}, \"type\": \"scatterpolar\"}], \"scatterpolargl\": [{\"marker\": {\"colorbar\": {\"outlinewidth\": 0, \"ticks\": \"\"}}, \"type\": \"scatterpolargl\"}], \"scatterternary\": [{\"marker\": {\"colorbar\": {\"outlinewidth\": 0, \"ticks\": \"\"}}, \"type\": \"scatterternary\"}], \"surface\": [{\"colorbar\": {\"outlinewidth\": 0, \"ticks\": \"\"}, \"colorscale\": [[0.0, \"#0d0887\"], [0.1111111111111111, \"#46039f\"], [0.2222222222222222, \"#7201a8\"], [0.3333333333333333, \"#9c179e\"], [0.4444444444444444, \"#bd3786\"], [0.5555555555555556, \"#d8576b\"], [0.6666666666666666, \"#ed7953\"], [0.7777777777777778, \"#fb9f3a\"], [0.8888888888888888, \"#fdca26\"], [1.0, \"#f0f921\"]], \"type\": \"surface\"}], \"table\": [{\"cells\": {\"fill\": {\"color\": \"#EBF0F8\"}, \"line\": {\"color\": \"white\"}}, \"header\": {\"fill\": {\"color\": \"#C8D4E3\"}, \"line\": {\"color\": \"white\"}}, \"type\": \"table\"}]}, \"layout\": {\"annotationdefaults\": {\"arrowcolor\": \"#2a3f5f\", \"arrowhead\": 0, \"arrowwidth\": 1}, \"coloraxis\": {\"colorbar\": {\"outlinewidth\": 0, \"ticks\": \"\"}}, \"colorscale\": {\"diverging\": [[0, \"#8e0152\"], [0.1, \"#c51b7d\"], [0.2, \"#de77ae\"], [0.3, \"#f1b6da\"], [0.4, \"#fde0ef\"], [0.5, \"#f7f7f7\"], [0.6, \"#e6f5d0\"], [0.7, \"#b8e186\"], [0.8, \"#7fbc41\"], [0.9, \"#4d9221\"], [1, \"#276419\"]], \"sequential\": [[0.0, \"#0d0887\"], [0.1111111111111111, \"#46039f\"], [0.2222222222222222, \"#7201a8\"], [0.3333333333333333, \"#9c179e\"], [0.4444444444444444, \"#bd3786\"], [0.5555555555555556, \"#d8576b\"], [0.6666666666666666, \"#ed7953\"], [0.7777777777777778, \"#fb9f3a\"], [0.8888888888888888, \"#fdca26\"], [1.0, \"#f0f921\"]], \"sequentialminus\": [[0.0, \"#0d0887\"], [0.1111111111111111, \"#46039f\"], [0.2222222222222222, \"#7201a8\"], [0.3333333333333333, \"#9c179e\"], [0.4444444444444444, \"#bd3786\"], [0.5555555555555556, \"#d8576b\"], [0.6666666666666666, \"#ed7953\"], [0.7777777777777778, \"#fb9f3a\"], [0.8888888888888888, \"#fdca26\"], [1.0, \"#f0f921\"]]}, \"colorway\": [\"#636efa\", \"#EF553B\", \"#00cc96\", \"#ab63fa\", \"#FFA15A\", \"#19d3f3\", \"#FF6692\", \"#B6E880\", \"#FF97FF\", \"#FECB52\"], \"font\": {\"color\": \"#2a3f5f\"}, \"geo\": {\"bgcolor\": \"white\", \"lakecolor\": \"white\", \"landcolor\": \"#E5ECF6\", \"showlakes\": true, \"showland\": true, \"subunitcolor\": \"white\"}, \"hoverlabel\": {\"align\": \"left\"}, \"hovermode\": \"closest\", \"mapbox\": {\"style\": \"light\"}, \"paper_bgcolor\": \"white\", \"plot_bgcolor\": \"#E5ECF6\", \"polar\": {\"angularaxis\": {\"gridcolor\": \"white\", \"linecolor\": \"white\", \"ticks\": \"\"}, \"bgcolor\": \"#E5ECF6\", \"radialaxis\": {\"gridcolor\": \"white\", \"linecolor\": \"white\", \"ticks\": \"\"}}, \"scene\": {\"xaxis\": {\"backgroundcolor\": \"#E5ECF6\", \"gridcolor\": \"white\", \"gridwidth\": 2, \"linecolor\": \"white\", \"showbackground\": true, \"ticks\": \"\", \"zerolinecolor\": \"white\"}, \"yaxis\": {\"backgroundcolor\": \"#E5ECF6\", \"gridcolor\": \"white\", \"gridwidth\": 2, \"linecolor\": \"white\", \"showbackground\": true, \"ticks\": \"\", \"zerolinecolor\": \"white\"}, \"zaxis\": {\"backgroundcolor\": \"#E5ECF6\", \"gridcolor\": \"white\", \"gridwidth\": 2, \"linecolor\": \"white\", \"showbackground\": true, \"ticks\": \"\", \"zerolinecolor\": \"white\"}}, \"shapedefaults\": {\"line\": {\"color\": \"#2a3f5f\"}}, \"ternary\": {\"aaxis\": {\"gridcolor\": \"white\", \"linecolor\": \"white\", \"ticks\": \"\"}, \"baxis\": {\"gridcolor\": \"white\", \"linecolor\": \"white\", \"ticks\": \"\"}, \"bgcolor\": \"#E5ECF6\", \"caxis\": {\"gridcolor\": \"white\", \"linecolor\": \"white\", \"ticks\": \"\"}}, \"title\": {\"x\": 0.05}, \"xaxis\": {\"automargin\": true, \"gridcolor\": \"white\", \"linecolor\": \"white\", \"ticks\": \"\", \"title\": {\"standoff\": 15}, \"zerolinecolor\": \"white\", \"zerolinewidth\": 2}, \"yaxis\": {\"automargin\": true, \"gridcolor\": \"white\", \"linecolor\": \"white\", \"ticks\": \"\", \"title\": {\"standoff\": 15}, \"zerolinecolor\": \"white\", \"zerolinewidth\": 2}}}, \"title\": {\"text\": \"3d TSNE Plot for Outliers\"}, \"width\": 900},\n                        {\"responsive\": true}\n                    ).then(function(){\n                            \nvar gd = document.getElementById('4c1e7a39-5fc1-4654-af1c-a5272effd7bb');\nvar x = new MutationObserver(function (mutations, observer) {{\n        var display = window.getComputedStyle(gd).display;\n        if (!display || display === 'none') {{\n            console.log([gd, 'removed!']);\n            Plotly.purge(gd);\n            observer.disconnect();\n        }}\n}});\n\n// Listen for the removal of the full notebook cells\nvar notebookContainer = gd.closest('#notebook-container');\nif (notebookContainer) {{\n    x.observe(notebookContainer, {childList: true});\n}}\n\n// Listen for the clearing of the current output cell\nvar outputEl = gd.closest('.output');\nif (outputEl) {{\n    x.observe(outputEl, {childList: true});\n}}\n\n                        })\n                };\n                });\n            </script>\n        </div>"
     },
     "metadata": {}
    }
   ],
   "source": [
    "plot_model(iforest)"
   ]
  },
  {
   "cell_type": "code",
   "execution_count": 10,
   "metadata": {},
   "outputs": [
    {
     "output_type": "display_data",
     "data": {
      "text/html": "        <script type=\"text/javascript\">\n        window.PlotlyConfig = {MathJaxConfig: 'local'};\n        if (window.MathJax) {MathJax.Hub.Config({SVG: {font: \"STIX-Web\"}});}\n        if (typeof require !== 'undefined') {\n        require.undef(\"plotly\");\n        requirejs.config({\n            paths: {\n                'plotly': ['https://cdn.plot.ly/plotly-latest.min']\n            }\n        });\n        require(['plotly'], function(Plotly) {\n            window._Plotly = Plotly;\n        });\n        }\n        </script>\n        "
     },
     "metadata": {}
    },
    {
     "output_type": "display_data",
     "data": {
      "application/vnd.plotly.v1+json": {
       "config": {
        "plotlyServerURL": "https://plot.ly"
       },
       "data": [
        {
         "customdata": [
          [
           5.4
          ],
          [
           4.6
          ],
          [
           5
          ],
          [
           4.4
          ],
          [
           4.9
          ],
          [
           5.4
          ],
          [
           4.8
          ],
          [
           4.8
          ],
          [
           4.3
          ],
          [
           5.8
          ],
          [
           5.7
          ],
          [
           5.4
          ],
          [
           5.1
          ],
          [
           5.7
          ],
          [
           5.1
          ],
          [
           5.4
          ],
          [
           5.1
          ],
          [
           4.6
          ],
          [
           5.1
          ],
          [
           4.8
          ],
          [
           5
          ],
          [
           5
          ],
          [
           5.2
          ],
          [
           5.2
          ],
          [
           4.7
          ],
          [
           4.8
          ],
          [
           5.4
          ],
          [
           5.2
          ],
          [
           5.5
          ],
          [
           4.9
          ],
          [
           5
          ],
          [
           5.5
          ],
          [
           4.9
          ],
          [
           4.4
          ],
          [
           5.1
          ],
          [
           5
          ],
          [
           4.5
          ],
          [
           4.4
          ],
          [
           5
          ],
          [
           5.1
          ],
          [
           4.8
          ],
          [
           5.1
          ],
          [
           4.6
          ],
          [
           5.3
          ],
          [
           5
          ],
          [
           5.7
          ],
          [
           6.3
          ],
          [
           4.9
          ],
          [
           6.6
          ],
          [
           5.2
          ],
          [
           5
          ],
          [
           5.9
          ],
          [
           6
          ],
          [
           6.1
          ],
          [
           5.6
          ],
          [
           6.7
          ],
          [
           5.6
          ],
          [
           5.8
          ],
          [
           6.2
          ],
          [
           5.6
          ],
          [
           5.9
          ],
          [
           6.1
          ],
          [
           6.3
          ],
          [
           6.1
          ],
          [
           6.4
          ],
          [
           6.6
          ],
          [
           6.8
          ],
          [
           6.7
          ],
          [
           6
          ],
          [
           5.7
          ],
          [
           5.5
          ],
          [
           5.5
          ],
          [
           5.8
          ],
          [
           6
          ],
          [
           5.4
          ],
          [
           6
          ],
          [
           6.7
          ],
          [
           6.3
          ],
          [
           5.6
          ],
          [
           5.5
          ],
          [
           5.5
          ],
          [
           6.1
          ],
          [
           5.8
          ],
          [
           5
          ],
          [
           5.6
          ],
          [
           5.7
          ],
          [
           5.7
          ],
          [
           6.2
          ],
          [
           5.1
          ],
          [
           5.7
          ],
          [
           7.6
          ],
          [
           4.9
          ],
          [
           7.3
          ],
          [
           6.7
          ],
          [
           7.2
          ],
          [
           6.5
          ],
          [
           6.4
          ],
          [
           6.8
          ],
          [
           5.7
          ],
          [
           5.8
          ],
          [
           6.4
          ],
          [
           6.5
          ],
          [
           7.7
          ],
          [
           7.7
          ],
          [
           6
          ],
          [
           6.9
          ],
          [
           5.6
          ],
          [
           7.7
          ],
          [
           6.3
          ],
          [
           6.7
          ],
          [
           7.2
          ],
          [
           6.2
          ],
          [
           6.1
          ],
          [
           6.4
          ],
          [
           7.2
          ],
          [
           7.4
          ],
          [
           7.9
          ],
          [
           6.4
          ],
          [
           6.3
          ],
          [
           6.1
          ],
          [
           7.7
          ],
          [
           6.3
          ],
          [
           6.4
          ],
          [
           6
          ],
          [
           6.9
          ],
          [
           6.7
          ],
          [
           6.9
          ],
          [
           5.8
          ],
          [
           6.8
          ],
          [
           6.7
          ],
          [
           6.7
          ],
          [
           6.3
          ],
          [
           6.5
          ],
          [
           6.2
          ],
          [
           5.9
          ]
         ],
         "hoverlabel": {
          "namelength": 0
         },
         "hovertemplate": "0=%{x}<br>1=%{y}<br>Feature=%{customdata[0]}<br>Label=%{marker.color}",
         "legendgroup": "",
         "marker": {
          "color": [
           0,
           0,
           0,
           0,
           0,
           0,
           0,
           0,
           1,
           0,
           1,
           0,
           0,
           0,
           0,
           0,
           0,
           0,
           0,
           0,
           0,
           0,
           0,
           0,
           0,
           0,
           0,
           0,
           0,
           0,
           0,
           0,
           0,
           0,
           0,
           0,
           0,
           0,
           0,
           0,
           0,
           0,
           0,
           0,
           0,
           0,
           0,
           0,
           0,
           0,
           0,
           0,
           0,
           0,
           0,
           0,
           0,
           0,
           0,
           0,
           0,
           0,
           0,
           0,
           0,
           0,
           0,
           0,
           0,
           0,
           0,
           0,
           0,
           0,
           0,
           0,
           0,
           0,
           0,
           0,
           0,
           0,
           0,
           0,
           0,
           0,
           0,
           0,
           0,
           0,
           0,
           1,
           0,
           0,
           1,
           0,
           0,
           0,
           0,
           0,
           0,
           0,
           1,
           1,
           0,
           0,
           0,
           0,
           0,
           0,
           0,
           0,
           0,
           0,
           0,
           0,
           1,
           0,
           0,
           0,
           0,
           0,
           0,
           0,
           0,
           0,
           0,
           0,
           0,
           0,
           0,
           0,
           0,
           0,
           0
          ],
          "coloraxis": "coloraxis",
          "opacity": 0.7,
          "symbol": "circle"
         },
         "mode": "markers",
         "name": "",
         "showlegend": false,
         "type": "scatter",
         "x": [
          19.533313751220703,
          18.94076156616211,
          18.629812240600586,
          17.46061897277832,
          17.256505966186523,
          19.221755981445312,
          18.81339454650879,
          17.200246810913086,
          17.565568923950195,
          19.644582748413086,
          19.439830780029297,
          19.264291763305664,
          18.920631408691406,
          19.554759979248047,
          19.206785202026367,
          19.073219299316406,
          19.263996124267578,
          19.058673858642578,
          18.646739959716797,
          18.88848876953125,
          17.15868377685547,
          18.729476928710938,
          19.04462242126465,
          19.06437110900879,
          17.805904388427734,
          17.112512588500977,
          19.037635803222656,
          19.497426986694336,
          19.54034996032715,
          17.137990951538086,
          17.574270248413086,
          19.24260711669922,
          17.210224151611328,
          17.527082443237305,
          18.69505500793457,
          18.774974822998047,
          17.35851287841797,
          17.77283477783203,
          18.746980667114258,
          19.181196212768555,
          17.0471248626709,
          19.078582763671875,
          17.95977783203125,
          19.253198623657227,
          18.51645851135254,
          3.453195571899414,
          3.140425443649292,
          4.454189777374268,
          3.7776763439178467,
          3.6510040760040283,
          4.565968036651611,
          3.2788493633270264,
          4.693209648132324,
          3.9526798725128174,
          3.0115807056427,
          3.5026774406433105,
          2.931459903717041,
          3.960216760635376,
          4.66933012008667,
          4.235054969787598,
          2.9646167755126953,
          3.8777008056640625,
          4.502379417419434,
          3.9409167766571045,
          3.787384510040283,
          3.726792573928833,
          3.8442413806915283,
          3.493335008621216,
          3.6179449558258057,
          4.064554214477539,
          4.212949752807617,
          4.301229000091553,
          3.9198269844055176,
          4.053869247436523,
          2.9091145992279053,
          2.9380807876586914,
          3.6151926517486572,
          4.728517055511475,
          2.946521043777466,
          3.9724619388580322,
          3.870540142059326,
          3.4233736991882324,
          4.1527838706970215,
          4.427463531494141,
          3.7326860427856445,
          2.9320974349975586,
          3.200289011001587,
          3.837087869644165,
          4.308764934539795,
          3.4924466609954834,
          -5.8117804527282715,
          -5.674661159515381,
          -5.809648036956787,
          -5.201534748077393,
          -6.550706386566162,
          -5.865316867828369,
          -5.454649448394775,
          -5.359109401702881,
          -5.558206558227539,
          -5.923804759979248,
          -5.967567443847656,
          -5.43122673034668,
          -6.576588153839111,
          -5.778557777404785,
          -5.364561557769775,
          -6.168331146240234,
          -6.013230800628662,
          -5.741717338562012,
          -5.33293342590332,
          -6.294906139373779,
          -6.045455455780029,
          -5.614800930023193,
          -5.6158671379089355,
          -5.300840377807617,
          -5.725834369659424,
          -5.845734596252441,
          -6.4743804931640625,
          -5.355928897857666,
          -5.646113872528076,
          -5.698279857635498,
          -5.954537868499756,
          -6.316488742828369,
          -5.516765594482422,
          -5.696603775024414,
          -5.457303524017334,
          -5.7186737060546875,
          -5.759478569030762,
          -5.784475326538086,
          -5.999604225158691,
          -6.502048015594482,
          -5.493691444396973,
          -5.463683128356934,
          -5.426088333129883,
          -6.246421813964844,
          -5.661479949951172
         ],
         "xaxis": "x",
         "y": [
          6.069047927856445,
          8.078411102294922,
          7.592565536499023,
          9.292488098144531,
          8.765548706054688,
          6.4157490730285645,
          7.921969890594482,
          9.081581115722656,
          9.225068092346191,
          5.9704270362854,
          5.641858100891113,
          5.96108865737915,
          7.216762065887451,
          6.33328914642334,
          6.052130222320557,
          7.5177202224731445,
          6.206721305847168,
          7.209534645080566,
          7.762870788574219,
          8.051814079284668,
          8.993279457092285,
          7.787938117980957,
          7.1617751121521,
          7.4967803955078125,
          8.762005805969238,
          8.737817764282227,
          7.686938762664795,
          5.68656587600708,
          5.7338080406188965,
          8.802877426147461,
          8.613511085510254,
          7.4222259521484375,
          8.742788314819336,
          9.173141479492188,
          7.5371479988098145,
          7.153750419616699,
          9.303900718688965,
          8.824383735656738,
          7.082860469818115,
          6.000990390777588,
          9.08640193939209,
          6.044069766998291,
          8.922959327697754,
          6.300807952880859,
          7.979341983795166,
          2.1361186504364014,
          0.7429713010787964,
          3.5609443187713623,
          0.5411153435707092,
          2.8295888900756836,
          3.5863304138183594,
          1.307198166847229,
          3.1955134868621826,
          1.2051424980163574,
          2.1311066150665283,
          0.40104275941848755,
          1.7399107217788696,
          2.9052188396453857,
          2.9749257564544678,
          3.244431734085083,
          1.053571343421936,
          1.4722025394439697,
          2.5271308422088623,
          1.5342087745666504,
          0.91861891746521,
          0.5014541149139404,
          0.6097220778465271,
          0.3538307845592499,
          1.3557870388031006,
          3.0407614707946777,
          3.413198471069336,
          3.49802827835083,
          2.535914182662964,
          1.8875696659088135,
          1.7949029207229614,
          0.9816449284553528,
          0.32480788230895996,
          3.018730878829956,
          1.7389651536941528,
          3.206345796585083,
          3.151444673538208,
          1.219794750213623,
          2.7779979705810547,
          3.598212480545044,
          2.6985650062561035,
          1.5650357007980347,
          2.0018205642700195,
          1.0822561979293823,
          3.545536756515503,
          2.3111276626586914,
          10.471358299255371,
          13.538226127624512,
          10.221242904663086,
          13.202198028564453,
          11.0681734085083,
          11.72244644165039,
          13.09300422668457,
          11.325186729431152,
          13.477106094360352,
          13.200174331665039,
          11.533226013183594,
          11.9796724319458,
          11.065258026123047,
          10.241793632507324,
          13.466991424560547,
          11.385973930358887,
          13.082145690917969,
          10.288786888122559,
          13.093179702758789,
          11.408011436462402,
          10.867866516113281,
          12.979880332946777,
          12.442564964294434,
          12.724675178527832,
          10.619200706481934,
          10.309483528137207,
          10.966924667358398,
          12.779892921447754,
          12.899685859680176,
          13.24740982055664,
          10.46807861328125,
          11.475719451904297,
          11.975440979003906,
          12.549823760986328,
          10.979775428771973,
          11.26616096496582,
          11.255859375,
          13.327569961547852,
          11.271798133850098,
          11.236396789550781,
          11.439616203308105,
          13.397428512573242,
          11.944805145263672,
          11.561625480651855,
          12.59776496887207
         ],
         "yaxis": "y"
        }
       ],
       "layout": {
        "coloraxis": {
         "colorbar": {
          "title": {
           "text": "Label"
          }
         },
         "colorscale": [
          [
           0,
           "#0d0887"
          ],
          [
           0.1111111111111111,
           "#46039f"
          ],
          [
           0.2222222222222222,
           "#7201a8"
          ],
          [
           0.3333333333333333,
           "#9c179e"
          ],
          [
           0.4444444444444444,
           "#bd3786"
          ],
          [
           0.5555555555555556,
           "#d8576b"
          ],
          [
           0.6666666666666666,
           "#ed7953"
          ],
          [
           0.7777777777777778,
           "#fb9f3a"
          ],
          [
           0.8888888888888888,
           "#fdca26"
          ],
          [
           1,
           "#f0f921"
          ]
         ]
        },
        "height": 800,
        "legend": {
         "tracegroupgap": 0
        },
        "template": {
         "data": {
          "bar": [
           {
            "error_x": {
             "color": "#2a3f5f"
            },
            "error_y": {
             "color": "#2a3f5f"
            },
            "marker": {
             "line": {
              "color": "#E5ECF6",
              "width": 0.5
             }
            },
            "type": "bar"
           }
          ],
          "barpolar": [
           {
            "marker": {
             "line": {
              "color": "#E5ECF6",
              "width": 0.5
             }
            },
            "type": "barpolar"
           }
          ],
          "carpet": [
           {
            "aaxis": {
             "endlinecolor": "#2a3f5f",
             "gridcolor": "white",
             "linecolor": "white",
             "minorgridcolor": "white",
             "startlinecolor": "#2a3f5f"
            },
            "baxis": {
             "endlinecolor": "#2a3f5f",
             "gridcolor": "white",
             "linecolor": "white",
             "minorgridcolor": "white",
             "startlinecolor": "#2a3f5f"
            },
            "type": "carpet"
           }
          ],
          "choropleth": [
           {
            "colorbar": {
             "outlinewidth": 0,
             "ticks": ""
            },
            "type": "choropleth"
           }
          ],
          "contour": [
           {
            "colorbar": {
             "outlinewidth": 0,
             "ticks": ""
            },
            "colorscale": [
             [
              0,
              "#0d0887"
             ],
             [
              0.1111111111111111,
              "#46039f"
             ],
             [
              0.2222222222222222,
              "#7201a8"
             ],
             [
              0.3333333333333333,
              "#9c179e"
             ],
             [
              0.4444444444444444,
              "#bd3786"
             ],
             [
              0.5555555555555556,
              "#d8576b"
             ],
             [
              0.6666666666666666,
              "#ed7953"
             ],
             [
              0.7777777777777778,
              "#fb9f3a"
             ],
             [
              0.8888888888888888,
              "#fdca26"
             ],
             [
              1,
              "#f0f921"
             ]
            ],
            "type": "contour"
           }
          ],
          "contourcarpet": [
           {
            "colorbar": {
             "outlinewidth": 0,
             "ticks": ""
            },
            "type": "contourcarpet"
           }
          ],
          "heatmap": [
           {
            "colorbar": {
             "outlinewidth": 0,
             "ticks": ""
            },
            "colorscale": [
             [
              0,
              "#0d0887"
             ],
             [
              0.1111111111111111,
              "#46039f"
             ],
             [
              0.2222222222222222,
              "#7201a8"
             ],
             [
              0.3333333333333333,
              "#9c179e"
             ],
             [
              0.4444444444444444,
              "#bd3786"
             ],
             [
              0.5555555555555556,
              "#d8576b"
             ],
             [
              0.6666666666666666,
              "#ed7953"
             ],
             [
              0.7777777777777778,
              "#fb9f3a"
             ],
             [
              0.8888888888888888,
              "#fdca26"
             ],
             [
              1,
              "#f0f921"
             ]
            ],
            "type": "heatmap"
           }
          ],
          "heatmapgl": [
           {
            "colorbar": {
             "outlinewidth": 0,
             "ticks": ""
            },
            "colorscale": [
             [
              0,
              "#0d0887"
             ],
             [
              0.1111111111111111,
              "#46039f"
             ],
             [
              0.2222222222222222,
              "#7201a8"
             ],
             [
              0.3333333333333333,
              "#9c179e"
             ],
             [
              0.4444444444444444,
              "#bd3786"
             ],
             [
              0.5555555555555556,
              "#d8576b"
             ],
             [
              0.6666666666666666,
              "#ed7953"
             ],
             [
              0.7777777777777778,
              "#fb9f3a"
             ],
             [
              0.8888888888888888,
              "#fdca26"
             ],
             [
              1,
              "#f0f921"
             ]
            ],
            "type": "heatmapgl"
           }
          ],
          "histogram": [
           {
            "marker": {
             "colorbar": {
              "outlinewidth": 0,
              "ticks": ""
             }
            },
            "type": "histogram"
           }
          ],
          "histogram2d": [
           {
            "colorbar": {
             "outlinewidth": 0,
             "ticks": ""
            },
            "colorscale": [
             [
              0,
              "#0d0887"
             ],
             [
              0.1111111111111111,
              "#46039f"
             ],
             [
              0.2222222222222222,
              "#7201a8"
             ],
             [
              0.3333333333333333,
              "#9c179e"
             ],
             [
              0.4444444444444444,
              "#bd3786"
             ],
             [
              0.5555555555555556,
              "#d8576b"
             ],
             [
              0.6666666666666666,
              "#ed7953"
             ],
             [
              0.7777777777777778,
              "#fb9f3a"
             ],
             [
              0.8888888888888888,
              "#fdca26"
             ],
             [
              1,
              "#f0f921"
             ]
            ],
            "type": "histogram2d"
           }
          ],
          "histogram2dcontour": [
           {
            "colorbar": {
             "outlinewidth": 0,
             "ticks": ""
            },
            "colorscale": [
             [
              0,
              "#0d0887"
             ],
             [
              0.1111111111111111,
              "#46039f"
             ],
             [
              0.2222222222222222,
              "#7201a8"
             ],
             [
              0.3333333333333333,
              "#9c179e"
             ],
             [
              0.4444444444444444,
              "#bd3786"
             ],
             [
              0.5555555555555556,
              "#d8576b"
             ],
             [
              0.6666666666666666,
              "#ed7953"
             ],
             [
              0.7777777777777778,
              "#fb9f3a"
             ],
             [
              0.8888888888888888,
              "#fdca26"
             ],
             [
              1,
              "#f0f921"
             ]
            ],
            "type": "histogram2dcontour"
           }
          ],
          "mesh3d": [
           {
            "colorbar": {
             "outlinewidth": 0,
             "ticks": ""
            },
            "type": "mesh3d"
           }
          ],
          "parcoords": [
           {
            "line": {
             "colorbar": {
              "outlinewidth": 0,
              "ticks": ""
             }
            },
            "type": "parcoords"
           }
          ],
          "pie": [
           {
            "automargin": true,
            "type": "pie"
           }
          ],
          "scatter": [
           {
            "marker": {
             "colorbar": {
              "outlinewidth": 0,
              "ticks": ""
             }
            },
            "type": "scatter"
           }
          ],
          "scatter3d": [
           {
            "line": {
             "colorbar": {
              "outlinewidth": 0,
              "ticks": ""
             }
            },
            "marker": {
             "colorbar": {
              "outlinewidth": 0,
              "ticks": ""
             }
            },
            "type": "scatter3d"
           }
          ],
          "scattercarpet": [
           {
            "marker": {
             "colorbar": {
              "outlinewidth": 0,
              "ticks": ""
             }
            },
            "type": "scattercarpet"
           }
          ],
          "scattergeo": [
           {
            "marker": {
             "colorbar": {
              "outlinewidth": 0,
              "ticks": ""
             }
            },
            "type": "scattergeo"
           }
          ],
          "scattergl": [
           {
            "marker": {
             "colorbar": {
              "outlinewidth": 0,
              "ticks": ""
             }
            },
            "type": "scattergl"
           }
          ],
          "scattermapbox": [
           {
            "marker": {
             "colorbar": {
              "outlinewidth": 0,
              "ticks": ""
             }
            },
            "type": "scattermapbox"
           }
          ],
          "scatterpolar": [
           {
            "marker": {
             "colorbar": {
              "outlinewidth": 0,
              "ticks": ""
             }
            },
            "type": "scatterpolar"
           }
          ],
          "scatterpolargl": [
           {
            "marker": {
             "colorbar": {
              "outlinewidth": 0,
              "ticks": ""
             }
            },
            "type": "scatterpolargl"
           }
          ],
          "scatterternary": [
           {
            "marker": {
             "colorbar": {
              "outlinewidth": 0,
              "ticks": ""
             }
            },
            "type": "scatterternary"
           }
          ],
          "surface": [
           {
            "colorbar": {
             "outlinewidth": 0,
             "ticks": ""
            },
            "colorscale": [
             [
              0,
              "#0d0887"
             ],
             [
              0.1111111111111111,
              "#46039f"
             ],
             [
              0.2222222222222222,
              "#7201a8"
             ],
             [
              0.3333333333333333,
              "#9c179e"
             ],
             [
              0.4444444444444444,
              "#bd3786"
             ],
             [
              0.5555555555555556,
              "#d8576b"
             ],
             [
              0.6666666666666666,
              "#ed7953"
             ],
             [
              0.7777777777777778,
              "#fb9f3a"
             ],
             [
              0.8888888888888888,
              "#fdca26"
             ],
             [
              1,
              "#f0f921"
             ]
            ],
            "type": "surface"
           }
          ],
          "table": [
           {
            "cells": {
             "fill": {
              "color": "#EBF0F8"
             },
             "line": {
              "color": "white"
             }
            },
            "header": {
             "fill": {
              "color": "#C8D4E3"
             },
             "line": {
              "color": "white"
             }
            },
            "type": "table"
           }
          ]
         },
         "layout": {
          "annotationdefaults": {
           "arrowcolor": "#2a3f5f",
           "arrowhead": 0,
           "arrowwidth": 1
          },
          "coloraxis": {
           "colorbar": {
            "outlinewidth": 0,
            "ticks": ""
           }
          },
          "colorscale": {
           "diverging": [
            [
             0,
             "#8e0152"
            ],
            [
             0.1,
             "#c51b7d"
            ],
            [
             0.2,
             "#de77ae"
            ],
            [
             0.3,
             "#f1b6da"
            ],
            [
             0.4,
             "#fde0ef"
            ],
            [
             0.5,
             "#f7f7f7"
            ],
            [
             0.6,
             "#e6f5d0"
            ],
            [
             0.7,
             "#b8e186"
            ],
            [
             0.8,
             "#7fbc41"
            ],
            [
             0.9,
             "#4d9221"
            ],
            [
             1,
             "#276419"
            ]
           ],
           "sequential": [
            [
             0,
             "#0d0887"
            ],
            [
             0.1111111111111111,
             "#46039f"
            ],
            [
             0.2222222222222222,
             "#7201a8"
            ],
            [
             0.3333333333333333,
             "#9c179e"
            ],
            [
             0.4444444444444444,
             "#bd3786"
            ],
            [
             0.5555555555555556,
             "#d8576b"
            ],
            [
             0.6666666666666666,
             "#ed7953"
            ],
            [
             0.7777777777777778,
             "#fb9f3a"
            ],
            [
             0.8888888888888888,
             "#fdca26"
            ],
            [
             1,
             "#f0f921"
            ]
           ],
           "sequentialminus": [
            [
             0,
             "#0d0887"
            ],
            [
             0.1111111111111111,
             "#46039f"
            ],
            [
             0.2222222222222222,
             "#7201a8"
            ],
            [
             0.3333333333333333,
             "#9c179e"
            ],
            [
             0.4444444444444444,
             "#bd3786"
            ],
            [
             0.5555555555555556,
             "#d8576b"
            ],
            [
             0.6666666666666666,
             "#ed7953"
            ],
            [
             0.7777777777777778,
             "#fb9f3a"
            ],
            [
             0.8888888888888888,
             "#fdca26"
            ],
            [
             1,
             "#f0f921"
            ]
           ]
          },
          "colorway": [
           "#636efa",
           "#EF553B",
           "#00cc96",
           "#ab63fa",
           "#FFA15A",
           "#19d3f3",
           "#FF6692",
           "#B6E880",
           "#FF97FF",
           "#FECB52"
          ],
          "font": {
           "color": "#2a3f5f"
          },
          "geo": {
           "bgcolor": "white",
           "lakecolor": "white",
           "landcolor": "#E5ECF6",
           "showlakes": true,
           "showland": true,
           "subunitcolor": "white"
          },
          "hoverlabel": {
           "align": "left"
          },
          "hovermode": "closest",
          "mapbox": {
           "style": "light"
          },
          "paper_bgcolor": "white",
          "plot_bgcolor": "#E5ECF6",
          "polar": {
           "angularaxis": {
            "gridcolor": "white",
            "linecolor": "white",
            "ticks": ""
           },
           "bgcolor": "#E5ECF6",
           "radialaxis": {
            "gridcolor": "white",
            "linecolor": "white",
            "ticks": ""
           }
          },
          "scene": {
           "xaxis": {
            "backgroundcolor": "#E5ECF6",
            "gridcolor": "white",
            "gridwidth": 2,
            "linecolor": "white",
            "showbackground": true,
            "ticks": "",
            "zerolinecolor": "white"
           },
           "yaxis": {
            "backgroundcolor": "#E5ECF6",
            "gridcolor": "white",
            "gridwidth": 2,
            "linecolor": "white",
            "showbackground": true,
            "ticks": "",
            "zerolinecolor": "white"
           },
           "zaxis": {
            "backgroundcolor": "#E5ECF6",
            "gridcolor": "white",
            "gridwidth": 2,
            "linecolor": "white",
            "showbackground": true,
            "ticks": "",
            "zerolinecolor": "white"
           }
          },
          "shapedefaults": {
           "line": {
            "color": "#2a3f5f"
           }
          },
          "ternary": {
           "aaxis": {
            "gridcolor": "white",
            "linecolor": "white",
            "ticks": ""
           },
           "baxis": {
            "gridcolor": "white",
            "linecolor": "white",
            "ticks": ""
           },
           "bgcolor": "#E5ECF6",
           "caxis": {
            "gridcolor": "white",
            "linecolor": "white",
            "ticks": ""
           }
          },
          "title": {
           "x": 0.05
          },
          "xaxis": {
           "automargin": true,
           "gridcolor": "white",
           "linecolor": "white",
           "ticks": "",
           "title": {
            "standoff": 15
           },
           "zerolinecolor": "white",
           "zerolinewidth": 2
          },
          "yaxis": {
           "automargin": true,
           "gridcolor": "white",
           "linecolor": "white",
           "ticks": "",
           "title": {
            "standoff": 15
           },
           "zerolinecolor": "white",
           "zerolinewidth": 2
          }
         }
        },
        "title": {
         "text": "uMAP Plot for Outliers"
        },
        "width": 900,
        "xaxis": {
         "anchor": "y",
         "domain": [
          0,
          1
         ],
         "title": {
          "text": "0"
         }
        },
        "yaxis": {
         "anchor": "x",
         "domain": [
          0,
          1
         ],
         "title": {
          "text": "1"
         }
        }
       }
      },
      "text/html": "<div>\n        \n        \n            <div id=\"7b13533d-74a5-4563-8b56-120c214372c1\" class=\"plotly-graph-div\" style=\"height:800px; width:900px;\"></div>\n            <script type=\"text/javascript\">\n                require([\"plotly\"], function(Plotly) {\n                    window.PLOTLYENV=window.PLOTLYENV || {};\n                    \n                if (document.getElementById(\"7b13533d-74a5-4563-8b56-120c214372c1\")) {\n                    Plotly.newPlot(\n                        '7b13533d-74a5-4563-8b56-120c214372c1',\n                        [{\"customdata\": [[5.4], [4.6], [5.0], [4.4], [4.9], [5.4], [4.8], [4.8], [4.3], [5.8], [5.7], [5.4], [5.1], [5.7], [5.1], [5.4], [5.1], [4.6], [5.1], [4.8], [5.0], [5.0], [5.2], [5.2], [4.7], [4.8], [5.4], [5.2], [5.5], [4.9], [5.0], [5.5], [4.9], [4.4], [5.1], [5.0], [4.5], [4.4], [5.0], [5.1], [4.8], [5.1], [4.6], [5.3], [5.0], [5.7], [6.3], [4.9], [6.6], [5.2], [5.0], [5.9], [6.0], [6.1], [5.6], [6.7], [5.6], [5.8], [6.2], [5.6], [5.9], [6.1], [6.3], [6.1], [6.4], [6.6], [6.8], [6.7], [6.0], [5.7], [5.5], [5.5], [5.8], [6.0], [5.4], [6.0], [6.7], [6.3], [5.6], [5.5], [5.5], [6.1], [5.8], [5.0], [5.6], [5.7], [5.7], [6.2], [5.1], [5.7], [7.6], [4.9], [7.3], [6.7], [7.2], [6.5], [6.4], [6.8], [5.7], [5.8], [6.4], [6.5], [7.7], [7.7], [6.0], [6.9], [5.6], [7.7], [6.3], [6.7], [7.2], [6.2], [6.1], [6.4], [7.2], [7.4], [7.9], [6.4], [6.3], [6.1], [7.7], [6.3], [6.4], [6.0], [6.9], [6.7], [6.9], [5.8], [6.8], [6.7], [6.7], [6.3], [6.5], [6.2], [5.9]], \"hoverlabel\": {\"namelength\": 0}, \"hovertemplate\": \"0=%{x}<br>1=%{y}<br>Feature=%{customdata[0]}<br>Label=%{marker.color}\", \"legendgroup\": \"\", \"marker\": {\"color\": [0, 0, 0, 0, 0, 0, 0, 0, 1, 0, 1, 0, 0, 0, 0, 0, 0, 0, 0, 0, 0, 0, 0, 0, 0, 0, 0, 0, 0, 0, 0, 0, 0, 0, 0, 0, 0, 0, 0, 0, 0, 0, 0, 0, 0, 0, 0, 0, 0, 0, 0, 0, 0, 0, 0, 0, 0, 0, 0, 0, 0, 0, 0, 0, 0, 0, 0, 0, 0, 0, 0, 0, 0, 0, 0, 0, 0, 0, 0, 0, 0, 0, 0, 0, 0, 0, 0, 0, 0, 0, 0, 1, 0, 0, 1, 0, 0, 0, 0, 0, 0, 0, 1, 1, 0, 0, 0, 0, 0, 0, 0, 0, 0, 0, 0, 0, 1, 0, 0, 0, 0, 0, 0, 0, 0, 0, 0, 0, 0, 0, 0, 0, 0, 0, 0], \"coloraxis\": \"coloraxis\", \"opacity\": 0.7, \"symbol\": \"circle\"}, \"mode\": \"markers\", \"name\": \"\", \"showlegend\": false, \"type\": \"scatter\", \"x\": [19.533313751220703, 18.94076156616211, 18.629812240600586, 17.46061897277832, 17.256505966186523, 19.221755981445312, 18.81339454650879, 17.200246810913086, 17.565568923950195, 19.644582748413086, 19.439830780029297, 19.264291763305664, 18.920631408691406, 19.554759979248047, 19.206785202026367, 19.073219299316406, 19.263996124267578, 19.058673858642578, 18.646739959716797, 18.88848876953125, 17.15868377685547, 18.729476928710938, 19.04462242126465, 19.06437110900879, 17.805904388427734, 17.112512588500977, 19.037635803222656, 19.497426986694336, 19.54034996032715, 17.137990951538086, 17.574270248413086, 19.24260711669922, 17.210224151611328, 17.527082443237305, 18.69505500793457, 18.774974822998047, 17.35851287841797, 17.77283477783203, 18.746980667114258, 19.181196212768555, 17.0471248626709, 19.078582763671875, 17.95977783203125, 19.253198623657227, 18.51645851135254, 3.453195571899414, 3.140425443649292, 4.454189777374268, 3.7776763439178467, 3.6510040760040283, 4.565968036651611, 3.2788493633270264, 4.693209648132324, 3.9526798725128174, 3.0115807056427, 3.5026774406433105, 2.931459903717041, 3.960216760635376, 4.66933012008667, 4.235054969787598, 2.9646167755126953, 3.8777008056640625, 4.502379417419434, 3.9409167766571045, 3.787384510040283, 3.726792573928833, 3.8442413806915283, 3.493335008621216, 3.6179449558258057, 4.064554214477539, 4.212949752807617, 4.301229000091553, 3.9198269844055176, 4.053869247436523, 2.9091145992279053, 2.9380807876586914, 3.6151926517486572, 4.728517055511475, 2.946521043777466, 3.9724619388580322, 3.870540142059326, 3.4233736991882324, 4.1527838706970215, 4.427463531494141, 3.7326860427856445, 2.9320974349975586, 3.200289011001587, 3.837087869644165, 4.308764934539795, 3.4924466609954834, -5.8117804527282715, -5.674661159515381, -5.809648036956787, -5.201534748077393, -6.550706386566162, -5.865316867828369, -5.454649448394775, -5.359109401702881, -5.558206558227539, -5.923804759979248, -5.967567443847656, -5.43122673034668, -6.576588153839111, -5.778557777404785, -5.364561557769775, -6.168331146240234, -6.013230800628662, -5.741717338562012, -5.33293342590332, -6.294906139373779, -6.045455455780029, -5.614800930023193, -5.6158671379089355, -5.300840377807617, -5.725834369659424, -5.845734596252441, -6.4743804931640625, -5.355928897857666, -5.646113872528076, -5.698279857635498, -5.954537868499756, -6.316488742828369, -5.516765594482422, -5.696603775024414, -5.457303524017334, -5.7186737060546875, -5.759478569030762, -5.784475326538086, -5.999604225158691, -6.502048015594482, -5.493691444396973, -5.463683128356934, -5.426088333129883, -6.246421813964844, -5.661479949951172], \"xaxis\": \"x\", \"y\": [6.069047927856445, 8.078411102294922, 7.592565536499023, 9.292488098144531, 8.765548706054688, 6.4157490730285645, 7.921969890594482, 9.081581115722656, 9.225068092346191, 5.9704270362854, 5.641858100891113, 5.96108865737915, 7.216762065887451, 6.33328914642334, 6.052130222320557, 7.5177202224731445, 6.206721305847168, 7.209534645080566, 7.762870788574219, 8.051814079284668, 8.993279457092285, 7.787938117980957, 7.1617751121521, 7.4967803955078125, 8.762005805969238, 8.737817764282227, 7.686938762664795, 5.68656587600708, 5.7338080406188965, 8.802877426147461, 8.613511085510254, 7.4222259521484375, 8.742788314819336, 9.173141479492188, 7.5371479988098145, 7.153750419616699, 9.303900718688965, 8.824383735656738, 7.082860469818115, 6.000990390777588, 9.08640193939209, 6.044069766998291, 8.922959327697754, 6.300807952880859, 7.979341983795166, 2.1361186504364014, 0.7429713010787964, 3.5609443187713623, 0.5411153435707092, 2.8295888900756836, 3.5863304138183594, 1.307198166847229, 3.1955134868621826, 1.2051424980163574, 2.1311066150665283, 0.40104275941848755, 1.7399107217788696, 2.9052188396453857, 2.9749257564544678, 3.244431734085083, 1.053571343421936, 1.4722025394439697, 2.5271308422088623, 1.5342087745666504, 0.91861891746521, 0.5014541149139404, 0.6097220778465271, 0.3538307845592499, 1.3557870388031006, 3.0407614707946777, 3.413198471069336, 3.49802827835083, 2.535914182662964, 1.8875696659088135, 1.7949029207229614, 0.9816449284553528, 0.32480788230895996, 3.018730878829956, 1.7389651536941528, 3.206345796585083, 3.151444673538208, 1.219794750213623, 2.7779979705810547, 3.598212480545044, 2.6985650062561035, 1.5650357007980347, 2.0018205642700195, 1.0822561979293823, 3.545536756515503, 2.3111276626586914, 10.471358299255371, 13.538226127624512, 10.221242904663086, 13.202198028564453, 11.0681734085083, 11.72244644165039, 13.09300422668457, 11.325186729431152, 13.477106094360352, 13.200174331665039, 11.533226013183594, 11.9796724319458, 11.065258026123047, 10.241793632507324, 13.466991424560547, 11.385973930358887, 13.082145690917969, 10.288786888122559, 13.093179702758789, 11.408011436462402, 10.867866516113281, 12.979880332946777, 12.442564964294434, 12.724675178527832, 10.619200706481934, 10.309483528137207, 10.966924667358398, 12.779892921447754, 12.899685859680176, 13.24740982055664, 10.46807861328125, 11.475719451904297, 11.975440979003906, 12.549823760986328, 10.979775428771973, 11.26616096496582, 11.255859375, 13.327569961547852, 11.271798133850098, 11.236396789550781, 11.439616203308105, 13.397428512573242, 11.944805145263672, 11.561625480651855, 12.59776496887207], \"yaxis\": \"y\"}],\n                        {\"coloraxis\": {\"colorbar\": {\"title\": {\"text\": \"Label\"}}, \"colorscale\": [[0.0, \"#0d0887\"], [0.1111111111111111, \"#46039f\"], [0.2222222222222222, \"#7201a8\"], [0.3333333333333333, \"#9c179e\"], [0.4444444444444444, \"#bd3786\"], [0.5555555555555556, \"#d8576b\"], [0.6666666666666666, \"#ed7953\"], [0.7777777777777778, \"#fb9f3a\"], [0.8888888888888888, \"#fdca26\"], [1.0, \"#f0f921\"]]}, \"height\": 800, \"legend\": {\"tracegroupgap\": 0}, \"template\": {\"data\": {\"bar\": [{\"error_x\": {\"color\": \"#2a3f5f\"}, \"error_y\": {\"color\": \"#2a3f5f\"}, \"marker\": {\"line\": {\"color\": \"#E5ECF6\", \"width\": 0.5}}, \"type\": \"bar\"}], \"barpolar\": [{\"marker\": {\"line\": {\"color\": \"#E5ECF6\", \"width\": 0.5}}, \"type\": \"barpolar\"}], \"carpet\": [{\"aaxis\": {\"endlinecolor\": \"#2a3f5f\", \"gridcolor\": \"white\", \"linecolor\": \"white\", \"minorgridcolor\": \"white\", \"startlinecolor\": \"#2a3f5f\"}, \"baxis\": {\"endlinecolor\": \"#2a3f5f\", \"gridcolor\": \"white\", \"linecolor\": \"white\", \"minorgridcolor\": \"white\", \"startlinecolor\": \"#2a3f5f\"}, \"type\": \"carpet\"}], \"choropleth\": [{\"colorbar\": {\"outlinewidth\": 0, \"ticks\": \"\"}, \"type\": \"choropleth\"}], \"contour\": [{\"colorbar\": {\"outlinewidth\": 0, \"ticks\": \"\"}, \"colorscale\": [[0.0, \"#0d0887\"], [0.1111111111111111, \"#46039f\"], [0.2222222222222222, \"#7201a8\"], [0.3333333333333333, \"#9c179e\"], [0.4444444444444444, \"#bd3786\"], [0.5555555555555556, \"#d8576b\"], [0.6666666666666666, \"#ed7953\"], [0.7777777777777778, \"#fb9f3a\"], [0.8888888888888888, \"#fdca26\"], [1.0, \"#f0f921\"]], \"type\": \"contour\"}], \"contourcarpet\": [{\"colorbar\": {\"outlinewidth\": 0, \"ticks\": \"\"}, \"type\": \"contourcarpet\"}], \"heatmap\": [{\"colorbar\": {\"outlinewidth\": 0, \"ticks\": \"\"}, \"colorscale\": [[0.0, \"#0d0887\"], [0.1111111111111111, \"#46039f\"], [0.2222222222222222, \"#7201a8\"], [0.3333333333333333, \"#9c179e\"], [0.4444444444444444, \"#bd3786\"], [0.5555555555555556, \"#d8576b\"], [0.6666666666666666, \"#ed7953\"], [0.7777777777777778, \"#fb9f3a\"], [0.8888888888888888, \"#fdca26\"], [1.0, \"#f0f921\"]], \"type\": \"heatmap\"}], \"heatmapgl\": [{\"colorbar\": {\"outlinewidth\": 0, \"ticks\": \"\"}, \"colorscale\": [[0.0, \"#0d0887\"], [0.1111111111111111, \"#46039f\"], [0.2222222222222222, \"#7201a8\"], [0.3333333333333333, \"#9c179e\"], [0.4444444444444444, \"#bd3786\"], [0.5555555555555556, \"#d8576b\"], [0.6666666666666666, \"#ed7953\"], [0.7777777777777778, \"#fb9f3a\"], [0.8888888888888888, \"#fdca26\"], [1.0, \"#f0f921\"]], \"type\": \"heatmapgl\"}], \"histogram\": [{\"marker\": {\"colorbar\": {\"outlinewidth\": 0, \"ticks\": \"\"}}, \"type\": \"histogram\"}], \"histogram2d\": [{\"colorbar\": {\"outlinewidth\": 0, \"ticks\": \"\"}, \"colorscale\": [[0.0, \"#0d0887\"], [0.1111111111111111, \"#46039f\"], [0.2222222222222222, \"#7201a8\"], [0.3333333333333333, \"#9c179e\"], [0.4444444444444444, \"#bd3786\"], [0.5555555555555556, \"#d8576b\"], [0.6666666666666666, \"#ed7953\"], [0.7777777777777778, \"#fb9f3a\"], [0.8888888888888888, \"#fdca26\"], [1.0, \"#f0f921\"]], \"type\": \"histogram2d\"}], \"histogram2dcontour\": [{\"colorbar\": {\"outlinewidth\": 0, \"ticks\": \"\"}, \"colorscale\": [[0.0, \"#0d0887\"], [0.1111111111111111, \"#46039f\"], [0.2222222222222222, \"#7201a8\"], [0.3333333333333333, \"#9c179e\"], [0.4444444444444444, \"#bd3786\"], [0.5555555555555556, \"#d8576b\"], [0.6666666666666666, \"#ed7953\"], [0.7777777777777778, \"#fb9f3a\"], [0.8888888888888888, \"#fdca26\"], [1.0, \"#f0f921\"]], \"type\": \"histogram2dcontour\"}], \"mesh3d\": [{\"colorbar\": {\"outlinewidth\": 0, \"ticks\": \"\"}, \"type\": \"mesh3d\"}], \"parcoords\": [{\"line\": {\"colorbar\": {\"outlinewidth\": 0, \"ticks\": \"\"}}, \"type\": \"parcoords\"}], \"pie\": [{\"automargin\": true, \"type\": \"pie\"}], \"scatter\": [{\"marker\": {\"colorbar\": {\"outlinewidth\": 0, \"ticks\": \"\"}}, \"type\": \"scatter\"}], \"scatter3d\": [{\"line\": {\"colorbar\": {\"outlinewidth\": 0, \"ticks\": \"\"}}, \"marker\": {\"colorbar\": {\"outlinewidth\": 0, \"ticks\": \"\"}}, \"type\": \"scatter3d\"}], \"scattercarpet\": [{\"marker\": {\"colorbar\": {\"outlinewidth\": 0, \"ticks\": \"\"}}, \"type\": \"scattercarpet\"}], \"scattergeo\": [{\"marker\": {\"colorbar\": {\"outlinewidth\": 0, \"ticks\": \"\"}}, \"type\": \"scattergeo\"}], \"scattergl\": [{\"marker\": {\"colorbar\": {\"outlinewidth\": 0, \"ticks\": \"\"}}, \"type\": \"scattergl\"}], \"scattermapbox\": [{\"marker\": {\"colorbar\": {\"outlinewidth\": 0, \"ticks\": \"\"}}, \"type\": \"scattermapbox\"}], \"scatterpolar\": [{\"marker\": {\"colorbar\": {\"outlinewidth\": 0, \"ticks\": \"\"}}, \"type\": \"scatterpolar\"}], \"scatterpolargl\": [{\"marker\": {\"colorbar\": {\"outlinewidth\": 0, \"ticks\": \"\"}}, \"type\": \"scatterpolargl\"}], \"scatterternary\": [{\"marker\": {\"colorbar\": {\"outlinewidth\": 0, \"ticks\": \"\"}}, \"type\": \"scatterternary\"}], \"surface\": [{\"colorbar\": {\"outlinewidth\": 0, \"ticks\": \"\"}, \"colorscale\": [[0.0, \"#0d0887\"], [0.1111111111111111, \"#46039f\"], [0.2222222222222222, \"#7201a8\"], [0.3333333333333333, \"#9c179e\"], [0.4444444444444444, \"#bd3786\"], [0.5555555555555556, \"#d8576b\"], [0.6666666666666666, \"#ed7953\"], [0.7777777777777778, \"#fb9f3a\"], [0.8888888888888888, \"#fdca26\"], [1.0, \"#f0f921\"]], \"type\": \"surface\"}], \"table\": [{\"cells\": {\"fill\": {\"color\": \"#EBF0F8\"}, \"line\": {\"color\": \"white\"}}, \"header\": {\"fill\": {\"color\": \"#C8D4E3\"}, \"line\": {\"color\": \"white\"}}, \"type\": \"table\"}]}, \"layout\": {\"annotationdefaults\": {\"arrowcolor\": \"#2a3f5f\", \"arrowhead\": 0, \"arrowwidth\": 1}, \"coloraxis\": {\"colorbar\": {\"outlinewidth\": 0, \"ticks\": \"\"}}, \"colorscale\": {\"diverging\": [[0, \"#8e0152\"], [0.1, \"#c51b7d\"], [0.2, \"#de77ae\"], [0.3, \"#f1b6da\"], [0.4, \"#fde0ef\"], [0.5, \"#f7f7f7\"], [0.6, \"#e6f5d0\"], [0.7, \"#b8e186\"], [0.8, \"#7fbc41\"], [0.9, \"#4d9221\"], [1, \"#276419\"]], \"sequential\": [[0.0, \"#0d0887\"], [0.1111111111111111, \"#46039f\"], [0.2222222222222222, \"#7201a8\"], [0.3333333333333333, \"#9c179e\"], [0.4444444444444444, \"#bd3786\"], [0.5555555555555556, \"#d8576b\"], [0.6666666666666666, \"#ed7953\"], [0.7777777777777778, \"#fb9f3a\"], [0.8888888888888888, \"#fdca26\"], [1.0, \"#f0f921\"]], \"sequentialminus\": [[0.0, \"#0d0887\"], [0.1111111111111111, \"#46039f\"], [0.2222222222222222, \"#7201a8\"], [0.3333333333333333, \"#9c179e\"], [0.4444444444444444, \"#bd3786\"], [0.5555555555555556, \"#d8576b\"], [0.6666666666666666, \"#ed7953\"], [0.7777777777777778, \"#fb9f3a\"], [0.8888888888888888, \"#fdca26\"], [1.0, \"#f0f921\"]]}, \"colorway\": [\"#636efa\", \"#EF553B\", \"#00cc96\", \"#ab63fa\", \"#FFA15A\", \"#19d3f3\", \"#FF6692\", \"#B6E880\", \"#FF97FF\", \"#FECB52\"], \"font\": {\"color\": \"#2a3f5f\"}, \"geo\": {\"bgcolor\": \"white\", \"lakecolor\": \"white\", \"landcolor\": \"#E5ECF6\", \"showlakes\": true, \"showland\": true, \"subunitcolor\": \"white\"}, \"hoverlabel\": {\"align\": \"left\"}, \"hovermode\": \"closest\", \"mapbox\": {\"style\": \"light\"}, \"paper_bgcolor\": \"white\", \"plot_bgcolor\": \"#E5ECF6\", \"polar\": {\"angularaxis\": {\"gridcolor\": \"white\", \"linecolor\": \"white\", \"ticks\": \"\"}, \"bgcolor\": \"#E5ECF6\", \"radialaxis\": {\"gridcolor\": \"white\", \"linecolor\": \"white\", \"ticks\": \"\"}}, \"scene\": {\"xaxis\": {\"backgroundcolor\": \"#E5ECF6\", \"gridcolor\": \"white\", \"gridwidth\": 2, \"linecolor\": \"white\", \"showbackground\": true, \"ticks\": \"\", \"zerolinecolor\": \"white\"}, \"yaxis\": {\"backgroundcolor\": \"#E5ECF6\", \"gridcolor\": \"white\", \"gridwidth\": 2, \"linecolor\": \"white\", \"showbackground\": true, \"ticks\": \"\", \"zerolinecolor\": \"white\"}, \"zaxis\": {\"backgroundcolor\": \"#E5ECF6\", \"gridcolor\": \"white\", \"gridwidth\": 2, \"linecolor\": \"white\", \"showbackground\": true, \"ticks\": \"\", \"zerolinecolor\": \"white\"}}, \"shapedefaults\": {\"line\": {\"color\": \"#2a3f5f\"}}, \"ternary\": {\"aaxis\": {\"gridcolor\": \"white\", \"linecolor\": \"white\", \"ticks\": \"\"}, \"baxis\": {\"gridcolor\": \"white\", \"linecolor\": \"white\", \"ticks\": \"\"}, \"bgcolor\": \"#E5ECF6\", \"caxis\": {\"gridcolor\": \"white\", \"linecolor\": \"white\", \"ticks\": \"\"}}, \"title\": {\"x\": 0.05}, \"xaxis\": {\"automargin\": true, \"gridcolor\": \"white\", \"linecolor\": \"white\", \"ticks\": \"\", \"title\": {\"standoff\": 15}, \"zerolinecolor\": \"white\", \"zerolinewidth\": 2}, \"yaxis\": {\"automargin\": true, \"gridcolor\": \"white\", \"linecolor\": \"white\", \"ticks\": \"\", \"title\": {\"standoff\": 15}, \"zerolinecolor\": \"white\", \"zerolinewidth\": 2}}}, \"title\": {\"text\": \"uMAP Plot for Outliers\"}, \"width\": 900, \"xaxis\": {\"anchor\": \"y\", \"domain\": [0.0, 1.0], \"title\": {\"text\": \"0\"}}, \"yaxis\": {\"anchor\": \"x\", \"domain\": [0.0, 1.0], \"title\": {\"text\": \"1\"}}},\n                        {\"responsive\": true}\n                    ).then(function(){\n                            \nvar gd = document.getElementById('7b13533d-74a5-4563-8b56-120c214372c1');\nvar x = new MutationObserver(function (mutations, observer) {{\n        var display = window.getComputedStyle(gd).display;\n        if (!display || display === 'none') {{\n            console.log([gd, 'removed!']);\n            Plotly.purge(gd);\n            observer.disconnect();\n        }}\n}});\n\n// Listen for the removal of the full notebook cells\nvar notebookContainer = gd.closest('#notebook-container');\nif (notebookContainer) {{\n    x.observe(notebookContainer, {childList: true});\n}}\n\n// Listen for the clearing of the current output cell\nvar outputEl = gd.closest('.output');\nif (outputEl) {{\n    x.observe(outputEl, {childList: true});\n}}\n\n                        })\n                };\n                });\n            </script>\n        </div>"
     },
     "metadata": {}
    }
   ],
   "source": [
    "plot_model(iforest, plot = 'umap')"
   ]
  },
  {
   "cell_type": "code",
   "execution_count": 12,
   "metadata": {},
   "outputs": [
    {
     "output_type": "execute_result",
     "data": {
      "text/plain": "    sepal_length  sepal_width  petal_length  petal_width          species  \\\n0            5.1          3.5           1.4          0.2      Iris-setosa   \n1            4.9          3.0           1.4          0.2      Iris-setosa   \n2            4.7          3.2           1.3          0.2      Iris-setosa   \n3            4.6          3.1           1.5          0.2      Iris-setosa   \n4            5.0          3.6           1.4          0.2      Iris-setosa   \n5            7.0          3.2           4.7          1.4  Iris-versicolor   \n6            6.4          3.2           4.5          1.5  Iris-versicolor   \n7            6.9          3.1           4.9          1.5  Iris-versicolor   \n8            5.5          2.3           4.0          1.3  Iris-versicolor   \n9            6.5          2.8           4.6          1.5  Iris-versicolor   \n10           6.3          3.3           6.0          2.5   Iris-virginica   \n11           5.8          2.7           5.1          1.9   Iris-virginica   \n12           7.1          3.0           5.9          2.1   Iris-virginica   \n13           6.3          2.9           5.6          1.8   Iris-virginica   \n14           6.5          3.0           5.8          2.2   Iris-virginica   \n\n    Label     Score  \n0       0 -0.173841  \n1       0 -0.147404  \n2       0 -0.146438  \n3       0 -0.129948  \n4       0 -0.155819  \n5       0 -0.055989  \n6       0 -0.092529  \n7       0 -0.055049  \n8       0 -0.101834  \n9       0 -0.114774  \n10      0 -0.042809  \n11      0 -0.131422  \n12      0 -0.122588  \n13      0 -0.156175  \n14      0 -0.139693  ",
      "text/html": "<div>\n<style scoped>\n    .dataframe tbody tr th:only-of-type {\n        vertical-align: middle;\n    }\n\n    .dataframe tbody tr th {\n        vertical-align: top;\n    }\n\n    .dataframe thead th {\n        text-align: right;\n    }\n</style>\n<table border=\"1\" class=\"dataframe\">\n  <thead>\n    <tr style=\"text-align: right;\">\n      <th></th>\n      <th>sepal_length</th>\n      <th>sepal_width</th>\n      <th>petal_length</th>\n      <th>petal_width</th>\n      <th>species</th>\n      <th>Label</th>\n      <th>Score</th>\n    </tr>\n  </thead>\n  <tbody>\n    <tr>\n      <th>0</th>\n      <td>5.1</td>\n      <td>3.5</td>\n      <td>1.4</td>\n      <td>0.2</td>\n      <td>Iris-setosa</td>\n      <td>0</td>\n      <td>-0.173841</td>\n    </tr>\n    <tr>\n      <th>1</th>\n      <td>4.9</td>\n      <td>3.0</td>\n      <td>1.4</td>\n      <td>0.2</td>\n      <td>Iris-setosa</td>\n      <td>0</td>\n      <td>-0.147404</td>\n    </tr>\n    <tr>\n      <th>2</th>\n      <td>4.7</td>\n      <td>3.2</td>\n      <td>1.3</td>\n      <td>0.2</td>\n      <td>Iris-setosa</td>\n      <td>0</td>\n      <td>-0.146438</td>\n    </tr>\n    <tr>\n      <th>3</th>\n      <td>4.6</td>\n      <td>3.1</td>\n      <td>1.5</td>\n      <td>0.2</td>\n      <td>Iris-setosa</td>\n      <td>0</td>\n      <td>-0.129948</td>\n    </tr>\n    <tr>\n      <th>4</th>\n      <td>5.0</td>\n      <td>3.6</td>\n      <td>1.4</td>\n      <td>0.2</td>\n      <td>Iris-setosa</td>\n      <td>0</td>\n      <td>-0.155819</td>\n    </tr>\n    <tr>\n      <th>5</th>\n      <td>7.0</td>\n      <td>3.2</td>\n      <td>4.7</td>\n      <td>1.4</td>\n      <td>Iris-versicolor</td>\n      <td>0</td>\n      <td>-0.055989</td>\n    </tr>\n    <tr>\n      <th>6</th>\n      <td>6.4</td>\n      <td>3.2</td>\n      <td>4.5</td>\n      <td>1.5</td>\n      <td>Iris-versicolor</td>\n      <td>0</td>\n      <td>-0.092529</td>\n    </tr>\n    <tr>\n      <th>7</th>\n      <td>6.9</td>\n      <td>3.1</td>\n      <td>4.9</td>\n      <td>1.5</td>\n      <td>Iris-versicolor</td>\n      <td>0</td>\n      <td>-0.055049</td>\n    </tr>\n    <tr>\n      <th>8</th>\n      <td>5.5</td>\n      <td>2.3</td>\n      <td>4.0</td>\n      <td>1.3</td>\n      <td>Iris-versicolor</td>\n      <td>0</td>\n      <td>-0.101834</td>\n    </tr>\n    <tr>\n      <th>9</th>\n      <td>6.5</td>\n      <td>2.8</td>\n      <td>4.6</td>\n      <td>1.5</td>\n      <td>Iris-versicolor</td>\n      <td>0</td>\n      <td>-0.114774</td>\n    </tr>\n    <tr>\n      <th>10</th>\n      <td>6.3</td>\n      <td>3.3</td>\n      <td>6.0</td>\n      <td>2.5</td>\n      <td>Iris-virginica</td>\n      <td>0</td>\n      <td>-0.042809</td>\n    </tr>\n    <tr>\n      <th>11</th>\n      <td>5.8</td>\n      <td>2.7</td>\n      <td>5.1</td>\n      <td>1.9</td>\n      <td>Iris-virginica</td>\n      <td>0</td>\n      <td>-0.131422</td>\n    </tr>\n    <tr>\n      <th>12</th>\n      <td>7.1</td>\n      <td>3.0</td>\n      <td>5.9</td>\n      <td>2.1</td>\n      <td>Iris-virginica</td>\n      <td>0</td>\n      <td>-0.122588</td>\n    </tr>\n    <tr>\n      <th>13</th>\n      <td>6.3</td>\n      <td>2.9</td>\n      <td>5.6</td>\n      <td>1.8</td>\n      <td>Iris-virginica</td>\n      <td>0</td>\n      <td>-0.156175</td>\n    </tr>\n    <tr>\n      <th>14</th>\n      <td>6.5</td>\n      <td>3.0</td>\n      <td>5.8</td>\n      <td>2.2</td>\n      <td>Iris-virginica</td>\n      <td>0</td>\n      <td>-0.139693</td>\n    </tr>\n  </tbody>\n</table>\n</div>"
     },
     "metadata": {},
     "execution_count": 12
    }
   ],
   "source": [
    "unseen_predictions = predict_model(iforest, data=data_unseen)\n",
    "unseen_predictions"
   ]
  },
  {
   "cell_type": "code",
   "execution_count": null,
   "metadata": {},
   "outputs": [],
   "source": []
  }
 ]
}