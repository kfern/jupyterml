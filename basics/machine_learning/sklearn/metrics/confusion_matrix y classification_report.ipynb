{
 "cells": [
  {
   "cell_type": "markdown",
   "metadata": {},
   "source": [
    "confusion_matrix y classification_report"
   ]
  },
  {
   "cell_type": "code",
   "execution_count": 1,
   "metadata": {},
   "outputs": [],
   "source": [
    "import pandas as pd\n",
    "from sklearn.metrics import confusion_matrix, classification_report"
   ]
  },
  {
   "cell_type": "code",
   "execution_count": 2,
   "metadata": {},
   "outputs": [],
   "source": [
    "y_true = [0, 1, 2, 2, 2]\n",
    "y_pred = [0, 0, 2, 2, 1]\n",
    "target_names = ['class 0', 'class 1', 'class 2']"
   ]
  },
  {
   "cell_type": "markdown",
   "metadata": {},
   "source": [
    "### Confusion matrix\n",
    "- valor por defecto: Número de observaciones\n",
    "- La diagonal indica el número de observaciones que se han clasificado correctamente.\n",
    "- En cada fila se muestra cuantas observaciones han sido clasificadas en cada una de las categorías.\n",
    "- El valor 1 en fila 'class 1' columna 'class 0' se puede leer como \"una observación de tipo 'class 1' se ha clasificado como 'class 0'\"\n",
    "\n",
    "Ejemplo con class 2: Se han clasificado correctamente 2 casos y el otro se ha clasificado como class 1"
   ]
  },
  {
   "cell_type": "code",
   "execution_count": 3,
   "metadata": {},
   "outputs": [
    {
     "output_type": "execute_result",
     "data": {
      "text/plain": "         class 0  class 1  class 2\nclass 0        1        0        0\nclass 1        1        0        0\nclass 2        0        1        2",
      "text/html": "<div>\n<style scoped>\n    .dataframe tbody tr th:only-of-type {\n        vertical-align: middle;\n    }\n\n    .dataframe tbody tr th {\n        vertical-align: top;\n    }\n\n    .dataframe thead th {\n        text-align: right;\n    }\n</style>\n<table border=\"1\" class=\"dataframe\">\n  <thead>\n    <tr style=\"text-align: right;\">\n      <th></th>\n      <th>class 0</th>\n      <th>class 1</th>\n      <th>class 2</th>\n    </tr>\n  </thead>\n  <tbody>\n    <tr>\n      <th>class 0</th>\n      <td>1</td>\n      <td>0</td>\n      <td>0</td>\n    </tr>\n    <tr>\n      <th>class 1</th>\n      <td>1</td>\n      <td>0</td>\n      <td>0</td>\n    </tr>\n    <tr>\n      <th>class 2</th>\n      <td>0</td>\n      <td>1</td>\n      <td>2</td>\n    </tr>\n  </tbody>\n</table>\n</div>"
     },
     "metadata": {},
     "execution_count": 3
    }
   ],
   "source": [
    "# Número de observaciones\n",
    "pd.DataFrame(data=confusion_matrix(y_true, y_pred), index=target_names, columns=target_names)"
   ]
  },
  {
   "cell_type": "code",
   "execution_count": 4,
   "metadata": {},
   "outputs": [
    {
     "output_type": "execute_result",
     "data": {
      "text/plain": "         class 0   class 1   class 2\nclass 0      1.0  0.000000  0.000000\nclass 1      1.0  0.000000  0.000000\nclass 2      0.0  0.333333  0.666667",
      "text/html": "<div>\n<style scoped>\n    .dataframe tbody tr th:only-of-type {\n        vertical-align: middle;\n    }\n\n    .dataframe tbody tr th {\n        vertical-align: top;\n    }\n\n    .dataframe thead th {\n        text-align: right;\n    }\n</style>\n<table border=\"1\" class=\"dataframe\">\n  <thead>\n    <tr style=\"text-align: right;\">\n      <th></th>\n      <th>class 0</th>\n      <th>class 1</th>\n      <th>class 2</th>\n    </tr>\n  </thead>\n  <tbody>\n    <tr>\n      <th>class 0</th>\n      <td>1.0</td>\n      <td>0.000000</td>\n      <td>0.000000</td>\n    </tr>\n    <tr>\n      <th>class 1</th>\n      <td>1.0</td>\n      <td>0.000000</td>\n      <td>0.000000</td>\n    </tr>\n    <tr>\n      <th>class 2</th>\n      <td>0.0</td>\n      <td>0.333333</td>\n      <td>0.666667</td>\n    </tr>\n  </tbody>\n</table>\n</div>"
     },
     "metadata": {},
     "execution_count": 4
    }
   ],
   "source": [
    "# Porcentajes\n",
    "pd.DataFrame(data=confusion_matrix(y_true, y_pred, normalize='true'), index=target_names, columns=target_names)"
   ]
  },
  {
   "cell_type": "markdown",
   "metadata": {},
   "source": [
    "### classification_report"
   ]
  },
  {
   "cell_type": "code",
   "execution_count": 5,
   "metadata": {},
   "outputs": [
    {
     "output_type": "execute_result",
     "data": {
      "text/plain": "              precision    recall  f1-score  support\nclass 0             0.5  1.000000  0.666667      1.0\nclass 1             0.0  0.000000  0.000000      1.0\nclass 2             1.0  0.666667  0.800000      3.0\naccuracy            NaN       NaN  0.600000      5.0\nmacro avg           0.5  0.555556  0.488889      5.0\nweighted avg        0.7  0.600000  0.613333      5.0",
      "text/html": "<div>\n<style scoped>\n    .dataframe tbody tr th:only-of-type {\n        vertical-align: middle;\n    }\n\n    .dataframe tbody tr th {\n        vertical-align: top;\n    }\n\n    .dataframe thead th {\n        text-align: right;\n    }\n</style>\n<table border=\"1\" class=\"dataframe\">\n  <thead>\n    <tr style=\"text-align: right;\">\n      <th></th>\n      <th>precision</th>\n      <th>recall</th>\n      <th>f1-score</th>\n      <th>support</th>\n    </tr>\n  </thead>\n  <tbody>\n    <tr>\n      <th>class 0</th>\n      <td>0.5</td>\n      <td>1.000000</td>\n      <td>0.666667</td>\n      <td>1.0</td>\n    </tr>\n    <tr>\n      <th>class 1</th>\n      <td>0.0</td>\n      <td>0.000000</td>\n      <td>0.000000</td>\n      <td>1.0</td>\n    </tr>\n    <tr>\n      <th>class 2</th>\n      <td>1.0</td>\n      <td>0.666667</td>\n      <td>0.800000</td>\n      <td>3.0</td>\n    </tr>\n    <tr>\n      <th>accuracy</th>\n      <td>NaN</td>\n      <td>NaN</td>\n      <td>0.600000</td>\n      <td>5.0</td>\n    </tr>\n    <tr>\n      <th>macro avg</th>\n      <td>0.5</td>\n      <td>0.555556</td>\n      <td>0.488889</td>\n      <td>5.0</td>\n    </tr>\n    <tr>\n      <th>weighted avg</th>\n      <td>0.7</td>\n      <td>0.600000</td>\n      <td>0.613333</td>\n      <td>5.0</td>\n    </tr>\n  </tbody>\n</table>\n</div>"
     },
     "metadata": {},
     "execution_count": 5
    }
   ],
   "source": [
    "report = classification_report(y_true, y_pred, target_names=target_names, output_dict=True)\n",
    "df = pd.DataFrame(report).transpose()\n",
    "df.loc['accuracy', 'f1-score'] = df.loc['accuracy', 'precision']\n",
    "df.loc['accuracy', ['precision', 'recall']] = pd.np.nan\n",
    "df.loc['accuracy', 'support'] = df.loc['macro avg', 'support']\n",
    "df"
   ]
  },
  {
   "cell_type": "markdown",
   "metadata": {},
   "source": [
    "[Compute precision, recall, F-measure and support for each class](https://scikit-learn.org/stable/modules/generated/sklearn.metrics.precision_recall_fscore_support.html)\n",
    "\n",
    "\n",
    "The precision is the ratio tp / (tp + fp) where tp is the number of true positives and fp the number of false positives. The precision is intuitively the ability of the classifier not to label as positive a sample that is negative.\n",
    "\n",
    "The recall is the ratio tp / (tp + fn) where tp is the number of true positives and fn the number of false negatives. The recall is intuitively the ability of the classifier to find all the positive samples.\n",
    "\n",
    "The F-beta score can be interpreted as a weighted harmonic mean of the precision and recall, where an F-beta score reaches its best value at 1 and worst score at 0.\n",
    "\n",
    "The F-beta score weights recall more than precision by a factor of beta. beta == 1.0 means recall and precision are equally important.\n",
    "\n",
    "The support is the number of occurrences of each class in y_true."
   ]
  },
  {
   "cell_type": "code",
   "execution_count": null,
   "metadata": {},
   "outputs": [],
   "source": []
  }
 ],
 "metadata": {
  "language_info": {
   "codemirror_mode": {
    "name": "ipython",
    "version": 3
   },
   "file_extension": ".py",
   "mimetype": "text/x-python",
   "name": "python",
   "nbconvert_exporter": "python",
   "pygments_lexer": "ipython3",
   "version": "3.8.3-final"
  },
  "orig_nbformat": 2,
  "kernelspec": {
   "name": "python38332bit93be42d4079443e4936ec1533fe4e0ca",
   "display_name": "Python 3.8.3 32-bit"
  }
 },
 "nbformat": 4,
 "nbformat_minor": 2
}