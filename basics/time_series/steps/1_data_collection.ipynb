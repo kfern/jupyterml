{
 "metadata": {
  "language_info": {
   "codemirror_mode": {
    "name": "ipython",
    "version": 3
   },
   "file_extension": ".py",
   "mimetype": "text/x-python",
   "name": "python",
   "nbconvert_exporter": "python",
   "pygments_lexer": "ipython3",
   "version": "3.8.6-final"
  },
  "orig_nbformat": 2,
  "kernelspec": {
   "name": "python38564bit75945252d6ba481bad4868286020c89e",
   "display_name": "Python 3.8.5 64-bit",
   "language": "python"
  }
 },
 "nbformat": 4,
 "nbformat_minor": 2,
 "cells": [
  {
   "source": [
    "## 1 - Data Collection\n",
    "\n",
    "A Pandas Dataframe with hourly datetime and data value columns. It can have empty and nulls values"
   ],
   "cell_type": "markdown",
   "metadata": {}
  },
  {
   "cell_type": "code",
   "execution_count": 1,
   "metadata": {},
   "outputs": [],
   "source": [
    "import pandas as pd\n",
    "import matplotlib.pyplot as plt"
   ]
  },
  {
   "cell_type": "code",
   "execution_count": 2,
   "metadata": {},
   "outputs": [
    {
     "output_type": "execute_result",
     "data": {
      "text/plain": [
       "              datetime  pressure\n",
       "0  2018-12-27 01:00:00      10.0\n",
       "1  2018-12-27 03:00:00      25.0\n",
       "2  2018-12-27 06:00:00      15.0\n",
       "3  2018-12-27 07:00:00       NaN"
      ],
      "text/html": "<div>\n<style scoped>\n    .dataframe tbody tr th:only-of-type {\n        vertical-align: middle;\n    }\n\n    .dataframe tbody tr th {\n        vertical-align: top;\n    }\n\n    .dataframe thead th {\n        text-align: right;\n    }\n</style>\n<table border=\"1\" class=\"dataframe\">\n  <thead>\n    <tr style=\"text-align: right;\">\n      <th></th>\n      <th>datetime</th>\n      <th>pressure</th>\n    </tr>\n  </thead>\n  <tbody>\n    <tr>\n      <th>0</th>\n      <td>2018-12-27 01:00:00</td>\n      <td>10.0</td>\n    </tr>\n    <tr>\n      <th>1</th>\n      <td>2018-12-27 03:00:00</td>\n      <td>25.0</td>\n    </tr>\n    <tr>\n      <th>2</th>\n      <td>2018-12-27 06:00:00</td>\n      <td>15.0</td>\n    </tr>\n    <tr>\n      <th>3</th>\n      <td>2018-12-27 07:00:00</td>\n      <td>NaN</td>\n    </tr>\n  </tbody>\n</table>\n</div>"
     },
     "metadata": {},
     "execution_count": 2
    }
   ],
   "source": [
    "df_origin = pd.DataFrame({\n",
    "    'datetime': ['2018-12-27 01:00:00', '2018-12-27 03:00:00', '2018-12-27 06:00:00', '2018-12-27 07:00:00'],\n",
    "    'pressure': [10, 25, 15, pd.np.nan]\n",
    "})\n",
    "\n",
    "df_origin"
   ]
  },
  {
   "source": [
    "### Datasets\n",
    "\n",
    "https://www.kaggle.com/selfishgene/historical-hourly-weather-data"
   ],
   "cell_type": "markdown",
   "metadata": {}
  },
  {
   "cell_type": "code",
   "execution_count": 3,
   "metadata": {},
   "outputs": [],
   "source": [
    "SENSOR = 'pressure'\n",
    "CITY = 'Seattle'\n",
    "df = pd.read_csv('../data/{}.csv'.format(SENSOR))\n",
    "df_origin = pd.DataFrame(df[['datetime', CITY]])\n",
    "df_origin.columns = ['datetime', SENSOR]"
   ]
  },
  {
   "cell_type": "code",
   "execution_count": 4,
   "metadata": {},
   "outputs": [
    {
     "output_type": "stream",
     "name": "stdout",
     "text": [
      "From 2012-10-01 12:00:00 to 2017-11-30 00:00:00\n\n (45253, 2)\n"
     ]
    }
   ],
   "source": [
    "print('From {} to {}'.format(df_origin['datetime'].min(), df_origin['datetime'].max()))\n",
    "print('\\n', df_origin.shape)"
   ]
  },
  {
   "cell_type": "code",
   "execution_count": 5,
   "metadata": {},
   "outputs": [
    {
     "output_type": "execute_result",
     "data": {
      "text/plain": [
       "              datetime  pressure\n",
       "0  2012-10-01 12:00:00       NaN\n",
       "1  2012-10-01 13:00:00    1027.0\n",
       "2  2012-10-01 14:00:00    1027.0"
      ],
      "text/html": "<div>\n<style scoped>\n    .dataframe tbody tr th:only-of-type {\n        vertical-align: middle;\n    }\n\n    .dataframe tbody tr th {\n        vertical-align: top;\n    }\n\n    .dataframe thead th {\n        text-align: right;\n    }\n</style>\n<table border=\"1\" class=\"dataframe\">\n  <thead>\n    <tr style=\"text-align: right;\">\n      <th></th>\n      <th>datetime</th>\n      <th>pressure</th>\n    </tr>\n  </thead>\n  <tbody>\n    <tr>\n      <th>0</th>\n      <td>2012-10-01 12:00:00</td>\n      <td>NaN</td>\n    </tr>\n    <tr>\n      <th>1</th>\n      <td>2012-10-01 13:00:00</td>\n      <td>1027.0</td>\n    </tr>\n    <tr>\n      <th>2</th>\n      <td>2012-10-01 14:00:00</td>\n      <td>1027.0</td>\n    </tr>\n  </tbody>\n</table>\n</div>"
     },
     "metadata": {},
     "execution_count": 5
    }
   ],
   "source": [
    "df_origin.head(3)"
   ]
  },
  {
   "cell_type": "code",
   "execution_count": null,
   "metadata": {},
   "outputs": [],
   "source": []
  }
 ]
}