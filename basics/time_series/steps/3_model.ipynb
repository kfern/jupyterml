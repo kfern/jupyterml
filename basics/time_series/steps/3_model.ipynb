{
 "metadata": {
  "language_info": {
   "codemirror_mode": {
    "name": "ipython",
    "version": 3
   },
   "file_extension": ".py",
   "mimetype": "text/x-python",
   "name": "python",
   "nbconvert_exporter": "python",
   "pygments_lexer": "ipython3",
   "version": "3.8.6-final"
  },
  "orig_nbformat": 2,
  "kernelspec": {
   "name": "python38564bit75945252d6ba481bad4868286020c89e",
   "display_name": "Python 3.8.5 64-bit",
   "language": "python"
  }
 },
 "nbformat": 4,
 "nbformat_minor": 2,
 "cells": [
  {
   "source": [
    "## 3. Model"
   ],
   "cell_type": "markdown",
   "metadata": {}
  },
  {
   "cell_type": "code",
   "execution_count": 5,
   "metadata": {},
   "outputs": [],
   "source": [
    "import pandas as pd\n",
    "import matplotlib.pyplot as plt\n",
    "\n",
    "import sys\n",
    "sys.path.append('code/')\n",
    "from custom_transformers import MissingValuesTransformer, AutoCorrelationFeaturesTransformer\n",
    "\n",
    "from sklearn.pipeline import Pipeline\n",
    "from joblib import load"
   ]
  },
  {
   "source": [
    "### 3.1 Data collection"
   ],
   "cell_type": "markdown",
   "metadata": {}
  },
  {
   "cell_type": "code",
   "execution_count": 6,
   "metadata": {},
   "outputs": [],
   "source": [
    "# Data from https://www.kaggle.com/selfishgene/historical-hourly-weather-data\n",
    "SENSOR = 'pressure'\n",
    "CITY = 'Seattle'\n",
    "df = pd.read_csv('../data/{}.csv'.format(SENSOR))\n",
    "df_origin = pd.DataFrame(df[['datetime', CITY]])\n",
    "df_origin.columns = ['datetime', SENSOR]"
   ]
  },
  {
   "source": [
    "### 3.2 Data preparation"
   ],
   "cell_type": "markdown",
   "metadata": {}
  },
  {
   "cell_type": "code",
   "execution_count": 7,
   "metadata": {},
   "outputs": [],
   "source": [
    "preprocess = load('model/{}_{}_data_preparation.joblib'.format(CITY, SENSOR))"
   ]
  },
  {
   "cell_type": "code",
   "execution_count": 8,
   "metadata": {},
   "outputs": [],
   "source": [
    "df_preprocessed = preprocess.fit_transform(df_origin)"
   ]
  },
  {
   "cell_type": "code",
   "execution_count": 9,
   "metadata": {},
   "outputs": [
    {
     "output_type": "execute_result",
     "data": {
      "text/plain": [
       "             datetime  pressure  pressure-h-1  pressure-h-2  pressure-h-3  \\\n",
       "5 2012-10-01 18:00:00    1030.0        1029.0        1028.0        1028.0   \n",
       "6 2012-10-01 19:00:00    1031.0        1030.0        1029.0        1028.0   \n",
       "7 2012-10-01 20:00:00    1031.0        1031.0        1030.0        1029.0   \n",
       "\n",
       "   pressure-h-4  pressure-h-5  \n",
       "5        1027.0        1027.0  \n",
       "6        1028.0        1027.0  \n",
       "7        1028.0        1028.0  "
      ],
      "text/html": "<div>\n<style scoped>\n    .dataframe tbody tr th:only-of-type {\n        vertical-align: middle;\n    }\n\n    .dataframe tbody tr th {\n        vertical-align: top;\n    }\n\n    .dataframe thead th {\n        text-align: right;\n    }\n</style>\n<table border=\"1\" class=\"dataframe\">\n  <thead>\n    <tr style=\"text-align: right;\">\n      <th></th>\n      <th>datetime</th>\n      <th>pressure</th>\n      <th>pressure-h-1</th>\n      <th>pressure-h-2</th>\n      <th>pressure-h-3</th>\n      <th>pressure-h-4</th>\n      <th>pressure-h-5</th>\n    </tr>\n  </thead>\n  <tbody>\n    <tr>\n      <th>5</th>\n      <td>2012-10-01 18:00:00</td>\n      <td>1030.0</td>\n      <td>1029.0</td>\n      <td>1028.0</td>\n      <td>1028.0</td>\n      <td>1027.0</td>\n      <td>1027.0</td>\n    </tr>\n    <tr>\n      <th>6</th>\n      <td>2012-10-01 19:00:00</td>\n      <td>1031.0</td>\n      <td>1030.0</td>\n      <td>1029.0</td>\n      <td>1028.0</td>\n      <td>1028.0</td>\n      <td>1027.0</td>\n    </tr>\n    <tr>\n      <th>7</th>\n      <td>2012-10-01 20:00:00</td>\n      <td>1031.0</td>\n      <td>1031.0</td>\n      <td>1030.0</td>\n      <td>1029.0</td>\n      <td>1028.0</td>\n      <td>1028.0</td>\n    </tr>\n  </tbody>\n</table>\n</div>"
     },
     "metadata": {},
     "execution_count": 9
    }
   ],
   "source": [
    "df_preprocessed.head(3)"
   ]
  },
  {
   "cell_type": "code",
   "execution_count": 18,
   "metadata": {},
   "outputs": [],
   "source": [
    "X = df_preprocessed[df_preprocessed.columns.difference(['datetime', SENSOR])]\n",
    "y = df_preprocessed[SENSOR]"
   ]
  },
  {
   "cell_type": "code",
   "execution_count": 19,
   "metadata": {},
   "outputs": [
    {
     "output_type": "execute_result",
     "data": {
      "text/plain": [
       "5        1030.0\n",
       "6        1031.0\n",
       "7        1031.0\n",
       "8        1032.0\n",
       "9        1033.0\n",
       "          ...  \n",
       "45247    1030.0\n",
       "45248    1030.0\n",
       "45249    1029.0\n",
       "45250    1028.0\n",
       "45251    1028.0\n",
       "Name: pressure, Length: 45247, dtype: float64"
      ]
     },
     "metadata": {},
     "execution_count": 19
    }
   ],
   "source": [
    "y"
   ]
  },
  {
   "source": [
    "### Scaling the data"
   ],
   "cell_type": "markdown",
   "metadata": {}
  },
  {
   "cell_type": "code",
   "execution_count": 10,
   "metadata": {},
   "outputs": [
    {
     "output_type": "stream",
     "name": "stdout",
     "text": [
      "[[Timestamp('2012-10-01 18:00:00') 1030.0 1029.0 ... 1028.0 1027.0 1027.0]\n [Timestamp('2012-10-01 19:00:00') 1031.0 1030.0 ... 1028.0 1028.0 1027.0]\n [Timestamp('2012-10-01 20:00:00') 1031.0 1031.0 ... 1029.0 1028.0 1028.0]\n ...\n [Timestamp('2017-11-29 22:00:00') 1029.0 1030.0 ... 1030.0 1029.0 1029.0]\n [Timestamp('2017-11-29 23:00:00') 1028.0 1029.0 ... 1030.0 1030.0 1029.0]\n [Timestamp('2017-11-30 00:00:00') 1028.0 1028.0 ... 1030.0 1030.0 1030.0]]\n"
     ]
    }
   ],
   "source": [
    "from sklearn import preprocessing\n",
    "x = df_preprocessed.values #returns a numpy array\n",
    "print(x)\n"
   ]
  },
  {
   "cell_type": "code",
   "execution_count": null,
   "metadata": {},
   "outputs": [],
   "source": [
    "min_max_scaler = preprocessing.MinMaxScaler()\n",
    "x_scaled = min_max_scaler.fit_transform(x)\n",
    "df = pd.DataFrame(x_scaled)"
   ]
  },
  {
   "cell_type": "code",
   "execution_count": null,
   "metadata": {},
   "outputs": [],
   "source": [
    "from sklearn.preprocessing import MinMaxScaler\n",
    "\n",
    "scaler = MinMaxScaler(feature_range=(0.01, 0.99))\n",
    "preprocess.steps.append(['scale',transformer()])"
   ]
  },
  {
   "cell_type": "code",
   "execution_count": null,
   "metadata": {},
   "outputs": [],
   "source": []
  },
  {
   "source": [
    "### 3.3 Model"
   ],
   "cell_type": "markdown",
   "metadata": {}
  },
  {
   "cell_type": "code",
   "execution_count": 7,
   "metadata": {},
   "outputs": [],
   "source": [
    "from tensorflow.keras.layers import Input, Dense, Dropout\n",
    "from tensorflow.keras.models import Model\n",
    "from tensorflow.keras.callbacks import EarlyStopping"
   ]
  },
  {
   "cell_type": "code",
   "execution_count": 8,
   "metadata": {},
   "outputs": [],
   "source": [
    "input_layer = Input(shape=(len(df_new.columns.values)-2), dtype='float32')\n",
    "dense1 = Dense(60, activation='linear')(input_layer)\n",
    "dense2 = Dense(60, activation='linear')(dense1)\n",
    "dropout_layer = Dropout(0.2)(dense2)\n",
    "output_layer = Dense(1, activation='linear')(dropout_layer)"
   ]
  },
  {
   "cell_type": "code",
   "execution_count": 9,
   "metadata": {},
   "outputs": [
    {
     "output_type": "stream",
     "name": "stdout",
     "text": [
      "Model: \"model\"\n_________________________________________________________________\nLayer (type)                 Output Shape              Param #   \n=================================================================\ninput_1 (InputLayer)         [(None, 5)]               0         \n_________________________________________________________________\ndense (Dense)                (None, 60)                360       \n_________________________________________________________________\ndense_1 (Dense)              (None, 60)                3660      \n_________________________________________________________________\ndropout (Dropout)            (None, 60)                0         \n_________________________________________________________________\ndense_2 (Dense)              (None, 1)                 61        \n=================================================================\nTotal params: 4,081\nTrainable params: 4,081\nNon-trainable params: 0\n_________________________________________________________________\n"
     ]
    }
   ],
   "source": [
    "model = Model(inputs=input_layer, outputs=output_layer)\n",
    "model.compile(loss='mean_squared_error', optimizer='adam')\n",
    "model.summary()"
   ]
  },
  {
   "source": [
    "### Spliting the data"
   ],
   "cell_type": "markdown",
   "metadata": {}
  },
  {
   "cell_type": "code",
   "execution_count": 3,
   "metadata": {},
   "outputs": [],
   "source": [
    "from sklearn.model_selection import train_test_split"
   ]
  },
  {
   "cell_type": "code",
   "execution_count": 4,
   "metadata": {},
   "outputs": [
    {
     "output_type": "error",
     "ename": "NameError",
     "evalue": "name 'dataX' is not defined",
     "traceback": [
      "\u001b[0;31m---------------------------------------------------------------------------\u001b[0m",
      "\u001b[0;31mNameError\u001b[0m                                 Traceback (most recent call last)",
      "\u001b[0;32m<ipython-input-4-1c0b8ea00a4a>\u001b[0m in \u001b[0;36m<module>\u001b[0;34m\u001b[0m\n\u001b[1;32m      3\u001b[0m \u001b[0mtest_ratio\u001b[0m \u001b[0;34m=\u001b[0m \u001b[0;36m0.10\u001b[0m\u001b[0;34m\u001b[0m\u001b[0;34m\u001b[0m\u001b[0m\n\u001b[1;32m      4\u001b[0m \u001b[0;34m\u001b[0m\u001b[0m\n\u001b[0;32m----> 5\u001b[0;31m \u001b[0mx_train\u001b[0m\u001b[0;34m,\u001b[0m \u001b[0mx_test\u001b[0m\u001b[0;34m,\u001b[0m \u001b[0my_train\u001b[0m\u001b[0;34m,\u001b[0m \u001b[0my_test\u001b[0m \u001b[0;34m=\u001b[0m \u001b[0mtrain_test_split\u001b[0m\u001b[0;34m(\u001b[0m\u001b[0mdataX\u001b[0m\u001b[0;34m,\u001b[0m \u001b[0mdataY\u001b[0m\u001b[0;34m,\u001b[0m \u001b[0mtest_size\u001b[0m\u001b[0;34m=\u001b[0m\u001b[0;36m1\u001b[0m \u001b[0;34m-\u001b[0m \u001b[0mtrain_ratio\u001b[0m\u001b[0;34m)\u001b[0m\u001b[0;34m\u001b[0m\u001b[0;34m\u001b[0m\u001b[0m\n\u001b[0m\u001b[1;32m      6\u001b[0m \u001b[0mx_val\u001b[0m\u001b[0;34m,\u001b[0m \u001b[0mx_test\u001b[0m\u001b[0;34m,\u001b[0m \u001b[0my_val\u001b[0m\u001b[0;34m,\u001b[0m \u001b[0my_test\u001b[0m \u001b[0;34m=\u001b[0m \u001b[0mtrain_test_split\u001b[0m\u001b[0;34m(\u001b[0m\u001b[0mx_test\u001b[0m\u001b[0;34m,\u001b[0m \u001b[0my_test\u001b[0m\u001b[0;34m,\u001b[0m \u001b[0mtest_size\u001b[0m\u001b[0;34m=\u001b[0m\u001b[0mtest_ratio\u001b[0m\u001b[0;34m/\u001b[0m\u001b[0;34m(\u001b[0m\u001b[0mtest_ratio\u001b[0m \u001b[0;34m+\u001b[0m \u001b[0mvalidation_ratio\u001b[0m\u001b[0;34m)\u001b[0m\u001b[0;34m)\u001b[0m\u001b[0;34m\u001b[0m\u001b[0;34m\u001b[0m\u001b[0m\n\u001b[1;32m      7\u001b[0m \u001b[0;34m\u001b[0m\u001b[0m\n",
      "\u001b[0;31mNameError\u001b[0m: name 'dataX' is not defined"
     ]
    }
   ],
   "source": [
    "train_ratio = 0.75\n",
    "validation_ratio = 0.15\n",
    "test_ratio = 0.10\n",
    "\n",
    "x_train, x_test, y_train, y_test = train_test_split(dataX, dataY, test_size=1 - train_ratio)\n",
    "x_val, x_test, y_val, y_test = train_test_split(x_test, y_test, test_size=test_ratio/(test_ratio + validation_ratio)) \n",
    "\n",
    "print(x_train, x_val, x_test)"
   ]
  },
  {
   "cell_type": "code",
   "execution_count": null,
   "metadata": {},
   "outputs": [],
   "source": [
    "X_imputed_df = pd.DataFrame(X_imputed, columns = X_train.columns)"
   ]
  },
  {
   "source": [
    "### Training"
   ],
   "cell_type": "markdown",
   "metadata": {}
  },
  {
   "source": [
    "### Validation"
   ],
   "cell_type": "markdown",
   "metadata": {}
  },
  {
   "source": [
    "### Predictions"
   ],
   "cell_type": "markdown",
   "metadata": {}
  },
  {
   "source": [
    "### Save model"
   ],
   "cell_type": "markdown",
   "metadata": {}
  },
  {
   "cell_type": "code",
   "execution_count": null,
   "metadata": {},
   "outputs": [],
   "source": []
  }
 ]
}