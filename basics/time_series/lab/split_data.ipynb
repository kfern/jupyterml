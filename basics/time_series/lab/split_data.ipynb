{
 "metadata": {
  "language_info": {
   "codemirror_mode": {
    "name": "ipython",
    "version": 3
   },
   "file_extension": ".py",
   "mimetype": "text/x-python",
   "name": "python",
   "nbconvert_exporter": "python",
   "pygments_lexer": "ipython3",
   "version": "3.8.6-final"
  },
  "orig_nbformat": 2,
  "kernelspec": {
   "name": "python38564bit75945252d6ba481bad4868286020c89e",
   "display_name": "Python 3.8.5 64-bit",
   "language": "python"
  }
 },
 "nbformat": 4,
 "nbformat_minor": 2,
 "cells": [
  {
   "cell_type": "code",
   "execution_count": 1,
   "metadata": {},
   "outputs": [],
   "source": [
    "import pandas as pd"
   ]
  },
  {
   "cell_type": "code",
   "execution_count": 2,
   "metadata": {},
   "outputs": [
    {
     "output_type": "execute_result",
     "data": {
      "text/plain": [
       "             datetime  pressure  pressure-h-1  pressure-h-2\n",
       "0 2018-12-27 01:00:00        14           214           173\n",
       "1 2018-12-27 02:00:00        45           174           170\n",
       "2 2018-12-27 03:00:00       235           228           131"
      ],
      "text/html": "<div>\n<style scoped>\n    .dataframe tbody tr th:only-of-type {\n        vertical-align: middle;\n    }\n\n    .dataframe tbody tr th {\n        vertical-align: top;\n    }\n\n    .dataframe thead th {\n        text-align: right;\n    }\n</style>\n<table border=\"1\" class=\"dataframe\">\n  <thead>\n    <tr style=\"text-align: right;\">\n      <th></th>\n      <th>datetime</th>\n      <th>pressure</th>\n      <th>pressure-h-1</th>\n      <th>pressure-h-2</th>\n    </tr>\n  </thead>\n  <tbody>\n    <tr>\n      <th>0</th>\n      <td>2018-12-27 01:00:00</td>\n      <td>14</td>\n      <td>214</td>\n      <td>173</td>\n    </tr>\n    <tr>\n      <th>1</th>\n      <td>2018-12-27 02:00:00</td>\n      <td>45</td>\n      <td>174</td>\n      <td>170</td>\n    </tr>\n    <tr>\n      <th>2</th>\n      <td>2018-12-27 03:00:00</td>\n      <td>235</td>\n      <td>228</td>\n      <td>131</td>\n    </tr>\n  </tbody>\n</table>\n</div>"
     },
     "metadata": {},
     "execution_count": 2
    }
   ],
   "source": [
    "import random\n",
    "nItems = 100\n",
    "df_origin = pd.DataFrame({\n",
    "    'datetime': pd.date_range(start='2018-12-27 01:00:00', periods=nItems, freq='H'),\n",
    "    'pressure': random.sample(range(1, 300), nItems),\n",
    "    'pressure-h-1': random.sample(range(1, 300), nItems),\n",
    "    'pressure-h-2': random.sample(range(1, 300), nItems),\n",
    "})\n",
    "\n",
    "df_origin.head(3)"
   ]
  },
  {
   "cell_type": "code",
   "execution_count": 3,
   "metadata": {},
   "outputs": [
    {
     "output_type": "execute_result",
     "data": {
      "text/plain": [
       "(100, 4)"
      ]
     },
     "metadata": {},
     "execution_count": 3
    }
   ],
   "source": [
    "df_origin.shape"
   ]
  },
  {
   "cell_type": "code",
   "execution_count": 4,
   "metadata": {},
   "outputs": [],
   "source": [
    "import sys\n",
    "sys.path.append('../steps/code/')\n",
    "\n",
    "from custom_functions import custom_split_data"
   ]
  },
  {
   "cell_type": "code",
   "execution_count": 5,
   "metadata": {},
   "outputs": [],
   "source": [
    "SENSOR = 'pressure'\n",
    "\n",
    "# Feature and target selection\n",
    "feat_columns = list(df_origin.columns.values)\n",
    "target_colum = SENSOR\n",
    "feat_columns.remove(target_colum)\n",
    "feat_columns.remove('datetime')\n",
    "\n",
    "# Split ratios\n",
    "ratios = {\n",
    "    'train': 0.75,\n",
    "    'validation': 0.15,\n",
    "    'test': 0.10\n",
    "}\n",
    "\n",
    "# Split data\n",
    "x_train, x_test, x_val, y_train, y_test, y_val = custom_split_data(df_origin, feat_columns, target_colum, ratios['train'], ratios['validation'], ratios['test'])"
   ]
  },
  {
   "cell_type": "code",
   "execution_count": 6,
   "metadata": {},
   "outputs": [
    {
     "output_type": "stream",
     "name": "stdout",
     "text": [
      "x_train (75, 2)\nx_test (10, 2)\nx_val (15, 2)\n"
     ]
    }
   ],
   "source": [
    "print('x_train', x_train.shape)\n",
    "print('x_test', x_test.shape)\n",
    "print('x_val', x_val.shape)"
   ]
  },
  {
   "cell_type": "code",
   "execution_count": 7,
   "metadata": {},
   "outputs": [
    {
     "output_type": "execute_result",
     "data": {
      "text/plain": [
       "    pressure-h-1  pressure-h-2\n",
       "82           232           273\n",
       "98           235           205\n",
       "71            94            83\n",
       "12           117           246\n",
       "95           273           229\n",
       "74            14             9\n",
       "81           223           171\n",
       "9              3           230\n",
       "8            112           108\n",
       "53            15            98"
      ],
      "text/html": "<div>\n<style scoped>\n    .dataframe tbody tr th:only-of-type {\n        vertical-align: middle;\n    }\n\n    .dataframe tbody tr th {\n        vertical-align: top;\n    }\n\n    .dataframe thead th {\n        text-align: right;\n    }\n</style>\n<table border=\"1\" class=\"dataframe\">\n  <thead>\n    <tr style=\"text-align: right;\">\n      <th></th>\n      <th>pressure-h-1</th>\n      <th>pressure-h-2</th>\n    </tr>\n  </thead>\n  <tbody>\n    <tr>\n      <th>82</th>\n      <td>232</td>\n      <td>273</td>\n    </tr>\n    <tr>\n      <th>98</th>\n      <td>235</td>\n      <td>205</td>\n    </tr>\n    <tr>\n      <th>71</th>\n      <td>94</td>\n      <td>83</td>\n    </tr>\n    <tr>\n      <th>12</th>\n      <td>117</td>\n      <td>246</td>\n    </tr>\n    <tr>\n      <th>95</th>\n      <td>273</td>\n      <td>229</td>\n    </tr>\n    <tr>\n      <th>74</th>\n      <td>14</td>\n      <td>9</td>\n    </tr>\n    <tr>\n      <th>81</th>\n      <td>223</td>\n      <td>171</td>\n    </tr>\n    <tr>\n      <th>9</th>\n      <td>3</td>\n      <td>230</td>\n    </tr>\n    <tr>\n      <th>8</th>\n      <td>112</td>\n      <td>108</td>\n    </tr>\n    <tr>\n      <th>53</th>\n      <td>15</td>\n      <td>98</td>\n    </tr>\n  </tbody>\n</table>\n</div>"
     },
     "metadata": {},
     "execution_count": 7
    }
   ],
   "source": [
    "x_test"
   ]
  }
 ]
}